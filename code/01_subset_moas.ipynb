{
 "cells": [
  {
   "cell_type": "markdown",
   "id": "ba129eb3-ee49-4da7-935e-8cc905a87436",
   "metadata": {},
   "source": [
    "# Start"
   ]
  },
  {
   "cell_type": "code",
   "execution_count": 122,
   "id": "8b1ad69f-191f-4cdf-a370-0388c765973b",
   "metadata": {
    "tags": []
   },
   "outputs": [
    {
     "name": "stdout",
     "output_type": "stream",
     "text": [
      "\n",
      "prepare_loocv =\n",
      "\n",
      "  logical\n",
      "\n",
      "   1\n",
      "\n",
      "\n",
      "demo_loocv =\n",
      "\n",
      "  logical\n",
      "\n",
      "   1\n",
      "\n",
      "\n",
      "demo_loocv_number_or_list =\n",
      "\n",
      "    'number'\n",
      "\n",
      "\n",
      "demo_loocv_number_cmpds =\n",
      "\n",
      "     2\n",
      "\n",
      "\n",
      "demo_loocv_list_cmpds =\n",
      "\n",
      "  1x5 cell array\n",
      "\n",
      "  Columns 1 through 3\n",
      "\n",
      "    {'BRD-K04804440'}    {'BRD-K01507359'}    {'BRD-K87202646'}\n",
      "\n",
      "  Columns 4 through 5\n",
      "\n",
      "    {'BRD-K59853741'}    {'BRD-K27302037'}\n",
      "\n",
      "\n",
      "results_subdir_prefix =\n",
      "\n",
      "    'loocv_pcls/leave_out_cmpd_'\n",
      "\n",
      "\n",
      "kabx_annot_path =\n",
      "\n",
      "    '../data/kabx_annotations.xlsx'\n",
      "\n",
      "\n",
      "GR_filename =\n",
      "\n",
      "    'GR_kabx_gsk_brd4310_n10819x340.gctx'\n",
      "\n",
      "\n",
      "sGR_filename =\n",
      "\n",
      "    'sGR_kabx_gsk_brd4310_n10819x340.gctx'\n",
      "\n",
      "\n",
      "filter_moa_annotations =\n",
      "\n",
      "  1x3 cell array\n",
      "\n",
      "    {'NaN'}    {'unknown'}    {'whole cell only'}\n",
      "\n",
      "\n",
      "load_and_save_GR =\n",
      "\n",
      "  logical\n",
      "\n",
      "   0\n",
      "\n",
      "\n",
      "save_gct =\n",
      "\n",
      "  logical\n",
      "\n",
      "   0\n",
      "\n",
      "\n",
      "col_meta_savepath =\n",
      "\n",
      "    'col_meta.txt'\n",
      "\n",
      "\n",
      "col_meta_kabx_savepath =\n",
      "\n",
      "    'col_meta_kabx.txt'\n",
      "\n",
      "\n",
      "col_meta_kabx_for_pcls_savepath =\n",
      "\n",
      "    'col_meta_kabx_for_pcls.txt'\n",
      "\n",
      "\n",
      "corr_savepath =\n",
      "\n",
      "    'sGR_kabx_gsk_brd4310_pearson_corr'\n",
      "\n",
      "\n",
      "GR_for_pcls_savepath =\n",
      "\n",
      "    'GR_for_pcls'\n",
      "\n",
      "\n",
      "sGR_for_pcls_savepath =\n",
      "\n",
      "    'sGR_for_pcls'\n",
      "\n",
      "\n",
      "moa_gmt_savepath =\n",
      "\n",
      "    'moas.gmt'\n",
      "\n",
      "\n",
      "corr_for_pcls_savepath =\n",
      "\n",
      "    'sGR_for_pcls_pearson_corr'\n",
      "\n",
      "\n",
      "corr_rank_for_pcls_savepath =\n",
      "\n",
      "    'sGR_for_pcls_pearson_corr_rank'\n",
      "\n",
      "\n",
      "corr_for_loo_cmpd_savepath =\n",
      "\n",
      "    'sGR_for_loo_cmpd_pearson_corr'\n",
      "\n",
      "\n",
      "corr_for_loo_cmpd_to_remaining_kabx_savepath =\n",
      "\n",
      "    'sGR_for_loo_cmpd_to_remaining_kabx_pearson_corr'\n",
      "\n",
      "\n",
      "col_meta_loo_cmpd_savepath =\n",
      "\n",
      "    'col_meta_loo_cmpd.txt'\n",
      "\n"
     ]
    }
   ],
   "source": [
    "datadir = '../data';\n",
    "wkdir = '../results';\n",
    "\n",
    "mk_cd_dir(wkdir, true);\n",
    "%imatlab_export_fig('print-png')\n",
    "\n",
    "% loocv inputs\n",
    "\n",
    "prepare_loocv = true\n",
    "\n",
    "demo_loocv = true\n",
    "\n",
    "demo_loocv_number_or_list = 'number' % 'number' or 'list'\n",
    "\n",
    "demo_loocv_number_cmpds = 2\n",
    "\n",
    "demo_loocv_list_cmpds = {'BRD-K04804440','BRD-K01507359','BRD-K87202646','BRD-K59853741', 'BRD-K27302037'} % Ciprofloxacin, Rifampin, Isoniazid, Q203, Thioacetazone\n",
    "\n",
    "results_subdir_prefix = 'loocv_pcls/leave_out_cmpd_'\n",
    "\n",
    "% inputs\n",
    "\n",
    "kabx_annot_path = '../data/kabx_annotations.xlsx'\n",
    "\n",
    "GR_filename = 'GR_kabx_gsk_brd4310_n10819x340.gctx'\n",
    "\n",
    "sGR_filename = 'sGR_kabx_gsk_brd4310_n10819x340.gctx'\n",
    "\n",
    "filter_moa_annotations = {'NaN','unknown','whole cell only'}\n",
    "\n",
    "load_and_save_GR = false\n",
    "\n",
    "save_gct = false % greater memory consumption than .gctx but can be opened in Morpheus, https://software.broadinstitute.org/morpheus\n",
    "\n",
    "% outputs\n",
    "\n",
    "col_meta_savepath = 'col_meta.txt'\n",
    "\n",
    "col_meta_kabx_savepath = 'col_meta_kabx.txt'\n",
    "\n",
    "col_meta_kabx_for_pcls_savepath = 'col_meta_kabx_for_pcls.txt'\n",
    "\n",
    "corr_savepath = 'sGR_kabx_gsk_brd4310_pearson_corr'\n",
    "\n",
    "GR_for_pcls_savepath = 'GR_for_pcls'\n",
    "\n",
    "sGR_for_pcls_savepath = 'sGR_for_pcls'\n",
    "\n",
    "moa_gmt_savepath = 'moas.gmt'\n",
    "\n",
    "corr_for_pcls_savepath = 'sGR_for_pcls_pearson_corr'\n",
    "\n",
    "corr_rank_for_pcls_savepath = 'sGR_for_pcls_pearson_corr_rank'\n",
    "\n",
    "% loocv outputs\n",
    "\n",
    "corr_for_loo_cmpd_savepath = 'sGR_for_loo_cmpd_pearson_corr'\n",
    "\n",
    "corr_for_loo_cmpd_to_remaining_kabx_savepath = 'sGR_for_loo_cmpd_to_remaining_kabx_pearson_corr'\n",
    "\n",
    "col_meta_loo_cmpd_savepath = 'col_meta_loo_cmpd.txt'"
   ]
  },
  {
   "cell_type": "markdown",
   "id": "eeb6fe5a-6433-4077-a746-2e493df33d51",
   "metadata": {},
   "source": [
    "## Load KABX MOA annotation sheet"
   ]
  },
  {
   "cell_type": "code",
   "execution_count": 2,
   "id": "85c75d96-350b-486d-89c0-18f886480ae0",
   "metadata": {},
   "outputs": [
    {
     "name": "stdout",
     "output_type": "stream",
     "text": [
      "1 pert_id\n",
      "2 pert_id_pubchem_cid\n",
      "3 pert_iname\n",
      "4 pert_class\n",
      "5 pert_reference\n",
      "6 target_description\n",
      "7 target_description_long\n",
      "8 target_process\n",
      "9 target_pathway\n",
      "10 canonical_smiles\n"
     ]
    }
   ],
   "source": [
    "annot = xls2table(kabx_annot_path,1,true);"
   ]
  },
  {
   "cell_type": "code",
   "execution_count": 3,
   "id": "8520359f-e104-425a-bd9c-5f8f2d3dc2f9",
   "metadata": {},
   "outputs": [
    {
     "name": "stdout",
     "output_type": "stream",
     "text": [
      "\n",
      "ans =\n",
      "\n",
      "   437    10\n",
      "\n"
     ]
    }
   ],
   "source": [
    "size(annot)"
   ]
  },
  {
   "cell_type": "code",
   "execution_count": 4,
   "id": "ec42becf-3df5-4ba5-990c-6160d69b2cdf",
   "metadata": {
    "tags": []
   },
   "outputs": [
    {
     "name": "stdout",
     "output_type": "stream",
     "text": [
      "\n",
      "ans =\n",
      "\n",
      "  437x1 cell array\n",
      "\n",
      "    {'BRD-K00093274' }\n",
      "    {'BRD-K00093272' }\n",
      "    {'BRD-K00093273' }\n",
      "    {'BRD-K99844592' }\n",
      "    {'BRD-K52025859' }\n",
      "    {'BRD-K32795028' }\n",
      "    {'BRD-K45179240' }\n",
      "    {'BRD-K60731427' }\n",
      "    {'BRD-K00092685' }\n",
      "    {'BRD-K41413117' }\n",
      "    {'BRD-K80267133' }\n",
      "    {'BRD-K74016539' }\n",
      "    {'BRD-K65278948' }\n",
      "    {'BRD-K58069855' }\n",
      "    {'BRD-K07208025' }\n",
      "    {'BRD-K88429204' }\n",
      "    {'BRD-A86736466' }\n",
      "    {'BRD-K08151102' }\n",
      "    {'BRD-K32842773' }\n",
      "    {'BRD-K59456551' }\n",
      "    {'BRD-A74914197' }\n",
      "    {'BRD-K25799961' }\n",
      "    {'BRD-K10671814' }\n",
      "    {'BRD-K14116214' }\n",
      "    {'BRD-K02594908' }\n",
      "    {'BRD-K50859149' }\n",
      "    {'BRD-K32273377' }\n",
      "    {'BRD-K31682896' }\n",
      "    {'BRD-K21520694' }\n",
      "    {'BRD-K17205817' }\n",
      "    {'BRD-K28494619' }\n",
      "    {'BRD-K55250441' }\n",
      "    {'BRD-K93524252' }\n",
      "    {'BRD-K11640013' }\n",
      "    {'BRD-K14705039' }\n",
      "    {'BRD-K71125014' }\n",
      "    {'BRD-K87492696' }\n",
      "    {'BRD-K19742012' }\n",
      "    {'BRD-K76845197' }\n",
      "    {'BRD-K52416806' }\n",
      "    {'BRD-K62363391' }\n",
      "    {'BRD-K05512067' }\n",
      "    {'BRD-K36292707' }\n",
      "    {'BRD-K87317809' }\n",
      "    {'BRD-K00092684' }\n",
      "    {'BRD-K00092683' }\n",
      "    {'BRD-K90874731' }\n",
      "    {'BRD-K00092183' }\n",
      "    {'BRD-K00092688' }\n",
      "    {'BRD-K31740437' }\n",
      "    {'BRD-K54145401' }\n",
      "    {'BRD-A16591784' }\n",
      "    {'BRD-K10090029' }\n",
      "    {'BRD-K77432251' }\n",
      "    {'BRD-K66039912' }\n",
      "    {'BRD-K83641560' }\n",
      "    {'BRD-K14661019' }\n",
      "    {'BRD-K87395897' }\n",
      "    {'BRD-K58597051' }\n",
      "    {'BRD-K76257682' }\n",
      "    {'BRD-K63155003' }\n",
      "    {'BRD-K16343284' }\n",
      "    {'BRD-A23080907' }\n",
      "    {'BRD-K96671969' }\n",
      "    {'BRD-K00005141' }\n",
      "    {'BRD-K17480742' }\n",
      "    {'BRD-K93231391' }\n",
      "    {'BRD-K43913323' }\n",
      "    {'BRD-K33394115' }\n",
      "    {'BRD-K00092686' }\n",
      "    {'BRD-K00092687' }\n",
      "    {'BRD-A42812271' }\n",
      "    {'BRD-A34856796' }\n",
      "    {'BRD-A59733260' }\n",
      "    {'BRD-A02179977' }\n",
      "    {'BRD-K00251100' }\n",
      "    {'BRD-K87879546' }\n",
      "    {'BRD-K17346269' }\n",
      "    {'BRD-K26238968' }\n",
      "    {'BRD-K34883066' }\n",
      "    {'BRD-K29887672' }\n",
      "    {'BRD-K27302037' }\n",
      "    {'BRD-K92661767' }\n",
      "    {'BRD-K28594598' }\n",
      "    {'BRD-K95141739' }\n",
      "    {'BRD-K12102668' }\n",
      "    {'BRD-K57864646' }\n",
      "    {'BRD-K61582089' }\n",
      "    {'BRD-K11943448' }\n",
      "    {'BRD-K20041728' }\n",
      "    {'BRD-K29901445' }\n",
      "    {'BRD-K15707964' }\n",
      "    {'BRD-K51997757' }\n",
      "    {'BRD-K98427564' }\n",
      "    {'BRD-K55128567' }\n",
      "    {'BRD-K80390541' }\n",
      "    {'BRD-K72948907' }\n",
      "    {'BRD-K16904384' }\n",
      "    {'BRD-K38633957' }\n",
      "    {'BRD-K08753063' }\n",
      "    {'BRD-K38402943' }\n",
      "    {'BRD-K60267961' }\n",
      "    {'BRD-K30516678' }\n",
      "    {'BRD-K16675056' }\n",
      "    {'BRD-K88568253' }\n",
      "    {'BRD-K87202646' }\n",
      "    {'BRD-K41731458' }\n",
      "    {'BRD-K11210723' }\n",
      "    {'BRD-K44817881' }\n",
      "    {'BRD-K45520244' }\n",
      "    {'BRD-K80978124' }\n",
      "    {'BRD-K92522608' }\n",
      "    {'BRD-K77268072' }\n",
      "    {'BRD-A05354310' }\n",
      "    {'BRD-A78106073' }\n",
      "    {'BRD-A95980241' }\n",
      "    {'BRD-K33710385' }\n",
      "    {'BRD-K51207550' }\n",
      "    {'BRD-K75360161' }\n",
      "    {'BRD-K97863768' }\n",
      "    {'BRD-K98305621' }\n",
      "    {'BRD-K12037340' }\n",
      "    {'BRD-K58861914' }\n",
      "    {'BRD-K08973992' }\n",
      "    {'BRD-K79707415' }\n",
      "    {'BRD-K95496644' }\n",
      "    {'BRD-K48888725' }\n",
      "    {'BRD-K23791635' }\n",
      "    {'BRD-A96641513' }\n",
      "    {'BRD-K53492054' }\n",
      "    {'BRD-A46973818' }\n",
      "    {'BRD-K93139382' }\n",
      "    {'BRD-A82163352' }\n",
      "    {'BRD-K52075040' }\n",
      "    {'BRD-K63343048' }\n",
      "    {'BRD-K28119352' }\n",
      "    {'BRD-K00005150' }\n",
      "    {'BRD-K69774614' }\n",
      "    {'BRD-K15788763' }\n",
      "    {'BRD-K45430307' }\n",
      "    {'BRD-K64497452' }\n",
      "    {'BRD-A49616161' }\n",
      "    {'BRD-A84807802' }\n",
      "    {'BRD-K31807080' }\n",
      "    {'BRD-K79491187' }\n",
      "    {'BRD-K63591033' }\n",
      "    {'BRD-K04030334' }\n",
      "    {'BRD-K66898851' }\n",
      "    {'BRD-K91214177' }\n",
      "    {'BRD-K01802697' }\n",
      "    {'BRD-K03950661' }\n",
      "    {'BRD-K08893438' }\n",
      "    {'BRD-K16424896' }\n",
      "    {'BRD-K19854078' }\n",
      "    {'BRD-K27030784' }\n",
      "    {'BRD-K39339421' }\n",
      "    {'BRD-K51096299' }\n",
      "    {'BRD-K60362380' }\n",
      "    {'BRD-K83910486' }\n",
      "    {'BRD-K09343855' }\n",
      "    {'BRD-K89211941' }\n",
      "    {'BRD-K11310996' }\n",
      "    {'BRD-K68017837' }\n",
      "    {'BRD-K80953170' }\n",
      "    {'BRD-K87685179' }\n",
      "    {'BRD-K87226815' }\n",
      "    {'BRD-K94250879' }\n",
      "    {'BRD-K14312455' }\n",
      "    {'BRD-K44133266' }\n",
      "    {'BRD-K71364508' }\n",
      "    {'BRD-K45142033' }\n",
      "    {'BRD-K21375516' }\n",
      "    {'BRD-K51346944' }\n",
      "    {'BRD-K18574842' }\n",
      "    {'BRD-K27871792' }\n",
      "    {'BRD-K05673000' }\n",
      "    {'BRD-K96786677' }\n",
      "    {'BRD-K01244426' }\n",
      "    {'BRD-K60663764' }\n",
      "    {'BRD-K28224173' }\n",
      "    {'BRD-K72167406' }\n",
      "    {'BRD-K80545773' }\n",
      "    {'BRD-K02292852' }\n",
      "    {'BRD-K82960980' }\n",
      "    {'BRD-K24871708' }\n",
      "    {'BRD-M30170555' }\n",
      "    {'BRD-K91065602' }\n",
      "    {'BRD-A79545933' }\n",
      "    {'BRD-K15766189' }\n",
      "    {'BRD-K17971521' }\n",
      "    {'BRD-A07932845' }\n",
      "    {'BRD-A67799922' }\n",
      "    {'BRD-A07244995' }\n",
      "    {'BRD-K85307935' }\n",
      "    {'BRD-K90991629' }\n",
      "    {'BRD-K66615216' }\n",
      "    {'BRD-K04804440' }\n",
      "    {'BRD-K09471561' }\n",
      "    {'BRD-A47790386' }\n",
      "    {'BRD-K78113049' }\n",
      "    {'BRD-K55034111' }\n",
      "    {'BRD-A74980173' }\n",
      "    {'BRD-K11196887' }\n",
      "    {'BRD-A24228527' }\n",
      "    {'BRD-A05468928' }\n",
      "    {'BRD-K77038618' }\n",
      "    {'BRD-K98384930' }\n",
      "    {'BRD-K45916615' }\n",
      "    {'BRD-K76534306' }\n",
      "    {'BRD-K71926323' }\n",
      "    {'BRD-K08525451' }\n",
      "    {'BRD-K73923631' }\n",
      "    {'BRD-K66412701' }\n",
      "    {'BRD-A92341659' }\n",
      "    {'BRD-A24397426' }\n",
      "    {'BRD-K62374253' }\n",
      "    {'BRD-A93964801' }\n",
      "    {'BRD-A41450521' }\n",
      "    {'BRD-K10362825' }\n",
      "    {'BRD-K37798499' }\n",
      "    {'BRD-K47869605' }\n",
      "    {'BRD-K32368635' }\n",
      "    {'BRD-K47886988' }\n",
      "    {'BRD-K08999871' }\n",
      "    {'BRD-A69777949' }\n",
      "    {'BRD-K49841478' }\n",
      "    {'BRD-K14704277' }\n",
      "    {'BRD-K28247815' }\n",
      "    {'BRD-K04548931' }\n",
      "    {'BRD-K13843533' }\n",
      "    {'BRD-K28767608' }\n",
      "    {'BRD-K43389675' }\n",
      "    {'BRD-K92093830' }\n",
      "    {'BRD-K69650333' }\n",
      "    {'BRD-K68346641' }\n",
      "    {'BRD-K72560711' }\n",
      "    {'BRD-K81100236' }\n",
      "    {'BRD-K77614261' }\n",
      "    {'BRD-K00535541' }\n",
      "    {'BRD-K44595561' }\n",
      "    {'BRD-K84417469' }\n",
      "    {'BRD-K94650501' }\n",
      "    {'BRD-M87138257' }\n",
      "    {'BRD-K68408467' }\n",
      "    {'BRD-K24715592' }\n",
      "    {'BRD-K63784565' }\n",
      "    {'BRD-K79821389' }\n",
      "    {'BRD-K37890730' }\n",
      "    {'BRD-K55696337' }\n",
      "    {'BRD-K08547377' }\n",
      "    {'BRD-K56767355' }\n",
      "    {'BRD-K57698251' }\n",
      "    {'BRD-K64323980' }\n",
      "    {'BRD-K67617993' }\n",
      "    {'BRD-K87207035' }\n",
      "    {'BRD-A42752142' }\n",
      "    {'BRD-A50652048' }\n",
      "    {'BRD-K48195670' }\n",
      "    {'BRD-K91601245' }\n",
      "    {'BRD-K49350383' }\n",
      "    {'BRD-K91543828' }\n",
      "    {'BRD-K41601912' }\n",
      "    {'BRD-K86484527' }\n",
      "    {'BRD-K42267433' }\n",
      "    {'BRD-K79019129' }\n",
      "    {'BRD-K22796536' }\n",
      "    {'BRD-K50327268' }\n",
      "    {'BRD-K93034159' }\n",
      "    {'BRD-K34022604' }\n",
      "    {'BRD-K84466663' }\n",
      "    {'BRD-A99822647' }\n",
      "    {'BRD-K51747290' }\n",
      "    {'BRD-K33106058' }\n",
      "    {'BRD-K03406345' }\n",
      "    {'BRD-K79254416' }\n",
      "    {'BRD-K15108141' }\n",
      "    {'BRD-K36137799' }\n",
      "    {'BRD-K24844714' }\n",
      "    {'BRD-K11630072' }\n",
      "    {'BRD-A79903587' }\n",
      "    {'BRD-K58262659' }\n",
      "    {'BRD-K47832606' }\n",
      "    {'BRD-K61192372' }\n",
      "    {'BRD-A18840826' }\n",
      "    {'BRD-K66227851' }\n",
      "    {'BRD-K51626221' }\n",
      "    {'BRD-K85204746' }\n",
      "    {'BRD-K41140669' }\n",
      "    {'BRD-K69540638' }\n",
      "    {'BRD-K59325863' }\n",
      "    {'BRD-K78659596' }\n",
      "    {'BRD-K88510285' }\n",
      "    {'BRD-K37908742' }\n",
      "    {'BRD-A74906485' }\n",
      "    {'BRD-K60230970' }\n",
      "    {'BRD-K15179879' }\n",
      "    {'BRD-K91438851' }\n",
      "    {'BRD-A13121918' }\n",
      "    {'BRD-A27303082' }\n",
      "    {'BRD-A28477941' }\n",
      "    {'BRD-A34408345' }\n",
      "    {'BRD-A60772044' }\n",
      "    {'BRD-A75281937' }\n",
      "    {'BRD-A77529650' }\n",
      "    {'BRD-A89016892' }\n",
      "    {'BRD-K03591040' }\n",
      "    {'BRD-K10610814' }\n",
      "    {'BRD-K32667026' }\n",
      "    {'BRD-K50582804' }\n",
      "    {'BRD-K96235226' }\n",
      "    {'BRD-K72066874' }\n",
      "    {'BRD-K78741702' }\n",
      "    {'BRD-K46404219' }\n",
      "    {'BRD-K91011325' }\n",
      "    {'BRD-K57363465' }\n",
      "    {'BRD-K90817094' }\n",
      "    {'BRD-K05614754' }\n",
      "    {'BRD-K76372632' }\n",
      "    {'BRD-K92184319' }\n",
      "    {'BRD-K55192287' }\n",
      "    {'BRD-K00376689' }\n",
      "    {'BRD-K00092698' }\n",
      "    {'BRD-K56614220' }\n",
      "    {'BRD-K90535337' }\n",
      "    {'BRD-K26793974' }\n",
      "    {'BRD-K49755152' }\n",
      "    {'BRD-K74423833' }\n",
      "    {'DT2012-0328419'}\n",
      "    {'BRD-K66994095' }\n",
      "    {'BRD-K76929026' }\n",
      "    {'BRD-K99107635' }\n",
      "    {'BRD-K40154364' }\n",
      "    {'BRD-K59853741' }\n",
      "    {'BRD-K35960502' }\n",
      "    {'BRD-K07283971' }\n",
      "    {'BRD-K96471533' }\n",
      "    {'BRD-K15616905' }\n",
      "    {'BRD-K14821540' }\n",
      "    {'BRD-K01826543' }\n",
      "    {'BRD-K01826542' }\n",
      "    {'BRD-K95921201' }\n",
      "    {'BRD-K35559145' }\n",
      "    {'BRD-K89997465' }\n",
      "    {'BRD-A84481105' }\n",
      "    {'BRD-K06980535' }\n",
      "    {'BRD-K19352500' }\n",
      "    {'BRD-K63675182' }\n",
      "    {'BRD-K55127134' }\n",
      "    {'BRD-K89732114' }\n",
      "    {'BRD-K10995081' }\n",
      "    {'BRD-K01825828' }\n",
      "    {'BRD-K60762818' }\n",
      "    {'BRD-K43172524' }\n",
      "    {'BRD-K54931188' }\n",
      "    {'BRD-A84314495' }\n",
      "    {'BRD-K17583151' }\n",
      "    {'BRD-K29869729' }\n",
      "    {'BRD-K47871594' }\n",
      "    {'BRD-K98033054' }\n",
      "    {'BRD-K97534525' }\n",
      "    {'BRD-K67035534' }\n",
      "    {'BRD-K11851919' }\n",
      "    {'BRD-K85985071' }\n",
      "    {'BRD-A65053104' }\n",
      "    {'BRD-K80404833' }\n",
      "    {'BRD-K26040644' }\n",
      "    {'BRD-K82498081' }\n",
      "    {'BRD-K43962705' }\n",
      "    {'BRD-A46188889' }\n",
      "    {'BRD-K01507359' }\n",
      "    {'BRD-A06889673' }\n",
      "    {'BRD-K92835935' }\n",
      "    {'BRD-K92838188' }\n",
      "    {'BRD-A50987946' }\n",
      "    {'BRD-A15637061' }\n",
      "    {'BRD-A22740840' }\n",
      "    {'BRD-A25492003' }\n",
      "    {'BRD-K01666773' }\n",
      "    {'BRD-A34145622' }\n",
      "    {'BRD-K01666774' }\n",
      "    {'BRD-A49035384' }\n",
      "    {'BRD-A54142827' }\n",
      "    {'BRD-A62336573' }\n",
      "    {'BRD-A69651145' }\n",
      "    {'BRD-M68646745' }\n",
      "    {'BRD-K01825150' }\n",
      "    {'BRD-A70638330' }\n",
      "    {'BRD-K00005140' }\n",
      "    {'BRD-K11905747' }\n",
      "    {'BRD-K40939496' }\n",
      "    {'BRD-K71772032' }\n",
      "    {'BRD-K74759733' }\n",
      "    {'BRD-K88043978' }\n",
      "    {'BRD-M29626677' }\n",
      "    {'BRD-M50166410' }\n",
      "    {'BRD-A17411484' }\n",
      "    {'BRD-A17655518' }\n",
      "    {'BRD-K36007650' }\n",
      "    {'BRD-K37130656' }\n",
      "    {'BRD-K59436580' }\n",
      "    {'BRD-K66876909' }\n",
      "    {'BRD-K69553440' }\n",
      "    {'BRD-K86670086' }\n",
      "    {'BRD-K23586533' }\n",
      "    {'BRD-K27771035' }\n",
      "    {'BRD-K49384696' }\n",
      "    {'BRD-A03433762' }\n",
      "    {'BRD-A11805855' }\n",
      "    {'BRD-A22164928' }\n",
      "    {'BRD-A39183045' }\n",
      "    {'BRD-A96252257' }\n",
      "    {'BRD-K32256160' }\n",
      "    {'BRD-K36796419' }\n",
      "    {'BRD-K37753391' }\n",
      "    {'BRD-K38684403' }\n",
      "    {'BRD-K49668410' }\n",
      "    {'BRD-K52756523' }\n",
      "    {'BRD-K74501079' }\n",
      "    {'BRD-A84854230' }\n",
      "    {'BRD-K01825145' }\n",
      "    {'BRD-K63550407' }\n",
      "    {'BRD-K08111712' }\n",
      "    {'BRD-K11298197' }\n",
      "    {'BRD-K79711234' }\n",
      "    {'BRD-A43748923' }\n",
      "    {'BRD-A19584055' }\n",
      "    {'BRD-K22938173' }\n",
      "    {'BRD-K33127883' }\n",
      "    {'BRD-K21656677' }\n",
      "    {'BRD-K74722711' }\n",
      "    {'BRD-K78355918' }\n",
      "    {'BRD-A88442245' }\n",
      "    {'BRD-K20683639' }\n",
      "    {'BRD-K13447729' }\n",
      "    {'BRD-K15262564' }\n",
      "    {'BRD-K76713213' }\n",
      "    {'BRD-K03924778' }\n",
      "\n"
     ]
    }
   ],
   "source": [
    "annot.pert_id"
   ]
  },
  {
   "cell_type": "markdown",
   "id": "0ba5b4c8-1330-497d-92cb-d9ef396d0c62",
   "metadata": {},
   "source": [
    "## Load sGR gct"
   ]
  },
  {
   "cell_type": "code",
   "execution_count": 27,
   "id": "cbcfe2d8-f252-4a81-bfd3-0ee243aaba29",
   "metadata": {},
   "outputs": [],
   "source": [
    "if load_and_save_GR\n",
    "    gr = parse_gctx(fullfile(datadir,'GR_filename'));\n",
    "end"
   ]
  },
  {
   "cell_type": "code",
   "execution_count": 28,
   "id": "4daa39bd-6b01-4cfa-9aea-828feb9674eb",
   "metadata": {},
   "outputs": [
    {
     "name": "stdout",
     "output_type": "stream",
     "text": [
      "Reading ../data/sGR_kabx_gsk_brd4310_n10819x340.gctx [340x10819]\n",
      "Done [2.28 s].\n"
     ]
    }
   ],
   "source": [
    "grzs = parse_gctx(fullfile(datadir,sGR_filename));"
   ]
  },
  {
   "cell_type": "markdown",
   "id": "35934f42-28bb-4987-be0d-35196b940ab3",
   "metadata": {},
   "source": [
    "## Generate col_meta"
   ]
  },
  {
   "cell_type": "code",
   "execution_count": 29,
   "id": "63f9c2a0-e9ea-41ec-935f-251280e90c6e",
   "metadata": {},
   "outputs": [
    {
     "name": "stdout",
     "output_type": "stream",
     "text": [
      "gct2meta> Creating row and column metadata tables\n",
      "\n"
     ]
    }
   ],
   "source": [
    "[~,col_meta] = gct2meta(grzs);"
   ]
  },
  {
   "cell_type": "code",
   "execution_count": 30,
   "id": "fc4043cd-c5f7-4afd-b5e3-83802028c567",
   "metadata": {
    "tags": []
   },
   "outputs": [
    {
     "name": "stdout",
     "output_type": "stream",
     "text": [
      "\n",
      "ans =\n",
      "\n",
      "  20x3 table\n",
      "\n",
      "    idx               field                                                                        value                                                          \n",
      "    ___    ___________________________    ________________________________________________________________________________________________________________________\n",
      "\n",
      "     1     {'cid'                    }    {'kabx2:BRD-A05468928-003-01-4:0.097500uM'                                                                             }\n",
      "     2     {'broad_id'               }    {'BRD-A05468928-003-01-4'                                                                                              }\n",
      "     3     {'canonical_smiles'       }    {'CC1CN(CCN1)c1cc2n(cc(C(O)=O)c(=O)c2cc1F)-c1ccc(F)cc1F'                                                               }\n",
      "     4     {'pert_class'             }    {'fluoroquinolone'                                                                                                     }\n",
      "     5     {'pert_dose'              }    {[                                                                                                              0.0975]}\n",
      "     6     {'pert_id'                }    {'BRD-A05468928'                                                                                                       }\n",
      "     7     {'pert_id_pubchem_cid'    }    {'60021'                                                                                                               }\n",
      "     8     {'pert_idose_tickl'       }    {'0.0975uM'                                                                                                            }\n",
      "     9     {'pert_iname'             }    {'temafloxacin'                                                                                                        }\n",
      "    10     {'pert_reference'         }    {'https://doi.org/10.1128/aac.00944-06|https://doi.org/10.1038/s41586-019-1315-z|https://go.drugbank.com/drugs/DB01405'}\n",
      "    11     {'pert_type'              }    {'trt'                                                                                                                 }\n",
      "    12     {'proj_broad_id'          }    {'screen4wk_screen5wk_tbda1_kabx2:BRD-A05468928-003-01-4'                                                              }\n",
      "    13     {'project_id'             }    {'screen4wk_screen5wk_tbda1_kabx2'                                                                                     }\n",
      "    14     {'target_description'     }    {'GyrAB'                                                                                                               }\n",
      "    15     {'target_description_long'}    {'DNA gyrase'                                                                                                          }\n",
      "    16     {'target_pathway'         }    {'DNA replication'                                                                                                     }\n",
      "    17     {'target_process'         }    {'DNA replication and repair'                                                                                          }\n",
      "    18     {'trt_id'                 }    {'BRD-A05468928-003-01-4:0.097500uM'                                                                                   }\n",
      "    19     {'x_csv_broad_id'         }    {'BRD-A05468928-003-01-4'                                                                                              }\n",
      "    20     {'x_subproject_id'        }    {'kabx2'                                                                                                               }\n",
      "\n"
     ]
    }
   ],
   "source": [
    "headt(col_meta)"
   ]
  },
  {
   "cell_type": "markdown",
   "id": "b6b3cdb8-aa3f-4b0b-9c8d-efe7fcf76bdd",
   "metadata": {},
   "source": [
    "## Target description field is annotated compound MOA and is what will be used to describe each PCL"
   ]
  },
  {
   "cell_type": "code",
   "execution_count": 31,
   "id": "c9ccc510-f041-4f56-ae2a-d1e52460ccef",
   "metadata": {},
   "outputs": [],
   "source": [
    "annot.pcl_desc = annot.target_description;"
   ]
  },
  {
   "cell_type": "code",
   "execution_count": 32,
   "id": "223096d7-6f39-48c3-8ddb-c28c4e8525f3",
   "metadata": {},
   "outputs": [],
   "source": [
    "fields = {'pert_id','pcl_desc'};\n",
    "\n",
    "pcl_annot = [annot(:,fields)];"
   ]
  },
  {
   "cell_type": "code",
   "execution_count": 33,
   "id": "a01aeedf-491b-455a-a9b3-5303de76b5f6",
   "metadata": {
    "tags": []
   },
   "outputs": [
    {
     "name": "stdout",
     "output_type": "stream",
     "text": [
      "\n",
      "ans =\n",
      "\n",
      "  20x3 table\n",
      "\n",
      "    idx               field                                                                        value                                                          \n",
      "    ___    ___________________________    ________________________________________________________________________________________________________________________\n",
      "\n",
      "     1     {'cid'                    }    {'kabx2:BRD-A05468928-003-01-4:0.097500uM'                                                                             }\n",
      "     2     {'broad_id'               }    {'BRD-A05468928-003-01-4'                                                                                              }\n",
      "     3     {'canonical_smiles'       }    {'CC1CN(CCN1)c1cc2n(cc(C(O)=O)c(=O)c2cc1F)-c1ccc(F)cc1F'                                                               }\n",
      "     4     {'pert_class'             }    {'fluoroquinolone'                                                                                                     }\n",
      "     5     {'pert_dose'              }    {[                                                                                                              0.0975]}\n",
      "     6     {'pert_id'                }    {'BRD-A05468928'                                                                                                       }\n",
      "     7     {'pert_id_pubchem_cid'    }    {'60021'                                                                                                               }\n",
      "     8     {'pert_idose_tickl'       }    {'0.0975uM'                                                                                                            }\n",
      "     9     {'pert_iname'             }    {'temafloxacin'                                                                                                        }\n",
      "    10     {'pert_reference'         }    {'https://doi.org/10.1128/aac.00944-06|https://doi.org/10.1038/s41586-019-1315-z|https://go.drugbank.com/drugs/DB01405'}\n",
      "    11     {'pert_type'              }    {'trt'                                                                                                                 }\n",
      "    12     {'proj_broad_id'          }    {'screen4wk_screen5wk_tbda1_kabx2:BRD-A05468928-003-01-4'                                                              }\n",
      "    13     {'project_id'             }    {'screen4wk_screen5wk_tbda1_kabx2'                                                                                     }\n",
      "    14     {'target_description'     }    {'GyrAB'                                                                                                               }\n",
      "    15     {'target_description_long'}    {'DNA gyrase'                                                                                                          }\n",
      "    16     {'target_pathway'         }    {'DNA replication'                                                                                                     }\n",
      "    17     {'target_process'         }    {'DNA replication and repair'                                                                                          }\n",
      "    18     {'trt_id'                 }    {'BRD-A05468928-003-01-4:0.097500uM'                                                                                   }\n",
      "    19     {'x_csv_broad_id'         }    {'BRD-A05468928-003-01-4'                                                                                              }\n",
      "    20     {'x_subproject_id'        }    {'kabx2'                                                                                                               }\n",
      "\n"
     ]
    }
   ],
   "source": [
    "headt(col_meta)"
   ]
  },
  {
   "cell_type": "code",
   "execution_count": 34,
   "id": "9fdf54b6-6e54-4ca1-944c-c2aeba1b0112",
   "metadata": {},
   "outputs": [
    {
     "name": "stdout",
     "output_type": "stream",
     "text": [
      "\n",
      "ans =\n",
      "\n",
      "       10819          20\n",
      "\n",
      "\n",
      "ans =\n",
      "\n",
      "       10819          21\n",
      "\n"
     ]
    }
   ],
   "source": [
    "size(col_meta)\n",
    "[col_meta, ileft, ] = outerjoin(col_meta,pcl_annot,'Keys','pert_id','RightVariables','pcl_desc','Type','left','MergeKeys',true);\n",
    "\n",
    "% re-sort col_meta data by original indices, caution: join operations in Matlab re-sort tables by their key values\n",
    "[sorted_ileft, ileft_index] = sort(ileft);\n",
    "col_meta = col_meta(ileft_index,:);\n",
    "size(col_meta)"
   ]
  },
  {
   "cell_type": "code",
   "execution_count": 35,
   "id": "d5b39c62-7e6e-4265-a715-03270022595f",
   "metadata": {},
   "outputs": [
    {
     "name": "stdout",
     "output_type": "stream",
     "text": [
      "\n",
      "ans =\n",
      "\n",
      "  21x3 table\n",
      "\n",
      "    idx               field                                                                        value                                                          \n",
      "    ___    ___________________________    ________________________________________________________________________________________________________________________\n",
      "\n",
      "     1     {'cid'                    }    {'kabx2:BRD-A05468928-003-01-4:0.097500uM'                                                                             }\n",
      "     2     {'broad_id'               }    {'BRD-A05468928-003-01-4'                                                                                              }\n",
      "     3     {'canonical_smiles'       }    {'CC1CN(CCN1)c1cc2n(cc(C(O)=O)c(=O)c2cc1F)-c1ccc(F)cc1F'                                                               }\n",
      "     4     {'pert_class'             }    {'fluoroquinolone'                                                                                                     }\n",
      "     5     {'pert_dose'              }    {[                                                                                                              0.0975]}\n",
      "     6     {'pert_id'                }    {'BRD-A05468928'                                                                                                       }\n",
      "     7     {'pert_id_pubchem_cid'    }    {'60021'                                                                                                               }\n",
      "     8     {'pert_idose_tickl'       }    {'0.0975uM'                                                                                                            }\n",
      "     9     {'pert_iname'             }    {'temafloxacin'                                                                                                        }\n",
      "    10     {'pert_reference'         }    {'https://doi.org/10.1128/aac.00944-06|https://doi.org/10.1038/s41586-019-1315-z|https://go.drugbank.com/drugs/DB01405'}\n",
      "    11     {'pert_type'              }    {'trt'                                                                                                                 }\n",
      "    12     {'proj_broad_id'          }    {'screen4wk_screen5wk_tbda1_kabx2:BRD-A05468928-003-01-4'                                                              }\n",
      "    13     {'project_id'             }    {'screen4wk_screen5wk_tbda1_kabx2'                                                                                     }\n",
      "    14     {'target_description'     }    {'GyrAB'                                                                                                               }\n",
      "    15     {'target_description_long'}    {'DNA gyrase'                                                                                                          }\n",
      "    16     {'target_pathway'         }    {'DNA replication'                                                                                                     }\n",
      "    17     {'target_process'         }    {'DNA replication and repair'                                                                                          }\n",
      "    18     {'trt_id'                 }    {'BRD-A05468928-003-01-4:0.097500uM'                                                                                   }\n",
      "    19     {'x_csv_broad_id'         }    {'BRD-A05468928-003-01-4'                                                                                              }\n",
      "    20     {'x_subproject_id'        }    {'kabx2'                                                                                                               }\n",
      "    21     {'pcl_desc'               }    {'GyrAB'                                                                                                               }\n",
      "\n"
     ]
    }
   ],
   "source": [
    "headt(col_meta)"
   ]
  },
  {
   "cell_type": "code",
   "execution_count": 36,
   "id": "8c1212ff-2857-4bd7-9aa2-b4976ae7c284",
   "metadata": {},
   "outputs": [],
   "source": [
    "% Save column metadata for all KABX and experimental treatments\n",
    "\n",
    "wtable(col_meta,fullfile(wkdir, col_meta_savepath))"
   ]
  },
  {
   "cell_type": "code",
   "execution_count": 37,
   "id": "cd666d64-db3f-43a5-b501-c2da7ce4fba8",
   "metadata": {},
   "outputs": [],
   "source": [
    "%col_meta = sortrows(col_meta,{'pcl_desc','pert_id','pert_dose'});"
   ]
  },
  {
   "cell_type": "markdown",
   "id": "8855f0a5-9676-410c-bc95-465019741b8f",
   "metadata": {
    "tags": []
   },
   "source": [
    "## Keep only entries that are annotated with MOA (KABX dsCGI profiles)"
   ]
  },
  {
   "cell_type": "code",
   "execution_count": 38,
   "id": "24176c26-cff3-4d6e-81c1-33eb7f5d8850",
   "metadata": {
    "tags": []
   },
   "outputs": [
    {
     "name": "stdout",
     "output_type": "stream",
     "text": [
      "                                               Value    Count   Percent\n",
      "                                        30S ribosome      417      4.42%\n",
      "                                   30S ribosome|InfB       40      0.42%\n",
      "                         30S ribosome|tRNA synthesis       20      0.21%\n",
      "                                        50S ribosome      740      7.85%\n",
      "                                  50S ribosome|FusA1       40      0.42%\n",
      "                                        ATP synthase       38      0.40%\n",
      "                                               AccD6       60      0.64%\n",
      "                                                 Alr      320      3.39%\n",
      "                                            Alr|DdlA       28      0.30%\n",
      "                                               CoaBC       16      0.17%\n",
      "                                               CydAB       36      0.38%\n",
      "                                              Cyp121       60      0.64%\n",
      "                                                CysH       20      0.21%\n",
      "                                                DHFR      212      2.25%\n",
      "                                          DHFR|ThyAX      148      1.57%\n",
      "                                                DHPS      416      4.41%\n",
      "                                 DprE1-DprE2 complex      268      2.84%\n",
      "                                                 Dxr        8      0.08%\n",
      "                                              EmbABC       28      0.30%\n",
      "                                              FadD32       76      0.81%\n",
      "                                                 Fba       20      0.21%\n",
      "                            FtsZ|DprE1-DprE2 complex       18      0.19%\n",
      "                                                 Fum       20      0.21%\n",
      "                                                 Glf       40      0.42%\n",
      "                                                GlgB       20      0.21%\n",
      "                                                GlmU      100      1.06%\n",
      "                                               GyrAB      827      8.77%\n",
      "                                          GyrAB|DnaG      164      1.74%\n",
      "                                          GyrAB|TopA      260      2.76%\n",
      "                                              HadABC       48      0.51%\n",
      "                                                 Icl       16      0.17%\n",
      "                                               IlvB1       24      0.25%\n",
      "                                                InhA     1162     12.33%\n",
      "                                           InhA|GlmU       40      0.42%\n",
      "                                          InhA|MapAB       20      0.21%\n",
      "                                                KasA       20      0.21%\n",
      "                                          KasA|AccD6       20      0.21%\n",
      "                                                LprG       16      0.17%\n",
      "                                                MbtI      140      1.49%\n",
      "                                                 Mdh       20      0.21%\n",
      "                                               MmpL3      115      1.22%\n",
      "                                         MmpL3|EchA6       28      0.30%\n",
      "                                                MshC       20      0.21%\n",
      "                                                MurI       20      0.21%\n",
      "                                  NADH dehydrogenase       36      0.38%\n",
      "                   NADH dehydrogenase|phenazine-like       28      0.30%\n",
      "                   PG transpeptidation and transport      316      3.35%\n",
      "                                                PanC       36      0.38%\n",
      "                                                ParA       40      0.42%\n",
      "       ParA|membrane potential disruption and efflux       20      0.21%\n",
      "                                               PknAG       20      0.21%\n",
      "                                                PknB       19      0.20%\n",
      "                                               Pks13       69      0.73%\n",
      "                                           PptT|FtsZ       20      0.21%\n",
      "                                                PrrB       48      0.51%\n",
      "                                                QcrB      130      1.38%\n",
      "                                                RpoB      270      2.86%\n",
      "                                                TopA      240      2.55%\n",
      "                                               TrpAB       60      0.64%\n",
      "                                                TrxC       20      0.21%\n",
      "                                                UppS        8      0.08%\n",
      "                                      beta-lactamase       60      0.64%\n",
      "                                     cAMP modulation       20      0.21%\n",
      "                           clp protease / proteasome      457      4.85%\n",
      "                                     lipid esterases       20      0.21%\n",
      "                                  membrane integrity       38      0.40%\n",
      "            membrane potential disruption and efflux      159      1.69%\n",
      "  membrane potential disruption and efflux|NADH dehydrogenase      220      2.33%\n",
      "                               menaquinone synthesis       20      0.21%\n",
      "                                 metal ion chelation       36      0.38%\n",
      "                                      phenazine-like       61      0.65%\n",
      "                                   purine metabolism      100      1.06%\n",
      "                             purine metabolism|GuaB2      100      1.06%\n",
      "                             purine metabolism|NrdF2       80      0.85%\n",
      "       purine metabolism|pyrimidine metabolism|NrdF2       20      0.21%\n",
      "                               pyrimidine metabolism       60      0.64%\n",
      "                 pyrimidine metabolism|CoaA and PyrG      140      1.49%\n",
      "                         pyrimidine metabolism|NrdF2       20      0.21%\n",
      "                         pyrimidine metabolism|ThyAX      160      1.70%\n",
      "                                   sterol metabolism       20      0.21%\n",
      "                                      tRNA synthesis       87      0.92%\n"
     ]
    }
   ],
   "source": [
    "tabulate(sort(col_meta.pcl_desc))"
   ]
  },
  {
   "cell_type": "code",
   "execution_count": 39,
   "id": "6aa016c9-604d-4627-9a29-251fdd20cb83",
   "metadata": {},
   "outputs": [
    {
     "name": "stdout",
     "output_type": "stream",
     "text": [
      "\n",
      "ans =\n",
      "\n",
      "        1392\n",
      "\n"
     ]
    }
   ],
   "source": [
    "idx = cellfun(@isempty, col_meta.pcl_desc);\n",
    "sum(idx)\n",
    "col_meta(idx,:) = [];"
   ]
  },
  {
   "cell_type": "code",
   "execution_count": 40,
   "id": "dcb7b62b-8089-4c18-987c-80ecb0ee9e6b",
   "metadata": {},
   "outputs": [],
   "source": [
    "% save column metadata for all KABX treatments (one row per dsCGI profile)\n",
    "\n",
    "wtable(col_meta, fullfile(wkdir, col_meta_kabx_savepath))"
   ]
  },
  {
   "cell_type": "markdown",
   "id": "2a29d17a-52d1-4303-b8fa-a8021aed366d",
   "metadata": {},
   "source": [
    "## Unwrap annotated MOA for compounds with multiple MOAs separated using \"|\" separator into multiple rows"
   ]
  },
  {
   "cell_type": "code",
   "execution_count": 41,
   "id": "e3986d2c-84d6-4ccb-ac0a-f26023a55e75",
   "metadata": {},
   "outputs": [
    {
     "name": "stdout",
     "output_type": "stream",
     "text": [
      "\n",
      "ans =\n",
      "\n",
      "        9427          21\n",
      "\n",
      "\n",
      "ans =\n",
      "\n",
      "       11081          21\n",
      "\n"
     ]
    }
   ],
   "source": [
    "size(col_meta)\n",
    "col_meta_for_pcls = struct2table(unwrap_table(table2struct(col_meta),'pcl_desc','|'));\n",
    "size(col_meta_for_pcls)"
   ]
  },
  {
   "cell_type": "code",
   "execution_count": 42,
   "id": "09dc8cee-2099-405d-b5a3-b601e7f8f6ba",
   "metadata": {},
   "outputs": [],
   "source": [
    "% Save column metadata for all KABX treatments as input for PCL clustering (one row per dsCGI profile-annotated MOA\n",
    "% multiple rows for the same dsCGI profile if has multiple annotated MOAs\n",
    "\n",
    "wtable(col_meta_for_pcls, fullfile(wkdir, col_meta_kabx_for_pcls_savepath))"
   ]
  },
  {
   "cell_type": "code",
   "execution_count": 43,
   "id": "fc6bf74e-efd1-43ea-bc60-7764accb6239",
   "metadata": {},
   "outputs": [],
   "source": [
    "col_meta_for_pcls.pcl_desc = any2str(col_meta_for_pcls.pcl_desc);"
   ]
  },
  {
   "cell_type": "markdown",
   "id": "00166e99-4935-4159-929e-482f22ad14a1",
   "metadata": {},
   "source": [
    "## Calculate Pearson correlation between all KABX and experimental compound dsCGI profiles using sGR"
   ]
  },
  {
   "cell_type": "code",
   "execution_count": 44,
   "id": "5e5b04fd-9ce0-4d4b-b7b6-15f2d4711b2d",
   "metadata": {},
   "outputs": [],
   "source": [
    "grzs_corr = ds_corr(grzs, 'type', 'pearson');"
   ]
  },
  {
   "cell_type": "code",
   "execution_count": 45,
   "id": "1283729a-d270-48d3-988f-e59522037851",
   "metadata": {},
   "outputs": [
    {
     "name": "stdout",
     "output_type": "stream",
     "text": [
      "Saving HDF5 dataset to: ../results/sGR_kabx_gsk_brd4310_pearson_corr_n10819x10819.gctx...\n",
      "/0/DATA/0 exists, deleting\n",
      "Disabling compression.\n",
      "Setting chunk size to: 1000x262\n",
      "done [3.08s].\n",
      "\n",
      "ans =\n",
      "\n",
      "    '../results/sGR_kabx_gsk_brd4310_pearson_corr_n10819x10819.gctx'\n",
      "\n"
     ]
    }
   ],
   "source": [
    "mkgctx(fullfile(wkdir, corr_savepath),grzs_corr)"
   ]
  },
  {
   "cell_type": "code",
   "execution_count": 46,
   "id": "ff532f87-dba3-46c2-9487-b813dce2acac",
   "metadata": {},
   "outputs": [],
   "source": [
    "if save_gct\n",
    "    mkgct(fullfile(wkdir, corr_savepath),grzs_corr,'precision',4)\n",
    "end"
   ]
  },
  {
   "cell_type": "markdown",
   "id": "3db3fe34-ca38-47a3-b0aa-f654d4580d3c",
   "metadata": {},
   "source": [
    "## Subset gcts to KABX dsCGI profiles only as input for PCL clustering "
   ]
  },
  {
   "cell_type": "code",
   "execution_count": 47,
   "id": "eb23c87f-a5a1-41bb-b5a8-373970eac646",
   "metadata": {
    "tags": []
   },
   "outputs": [
    {
     "name": "stdout",
     "output_type": "stream",
     "text": [
      "\n",
      "ans =\n",
      "\n",
      "       10819\n",
      "\n",
      "\n",
      "ans =\n",
      "\n",
      "  10x1 cell array\n",
      "\n",
      "    {'kabx2:BRD-A05468928-003-01-4:0.097500uM'  }\n",
      "    {'screen6:BRD-A05468928-003-01-4:0.097500uM'}\n",
      "    {'kabx2:BRD-A05468928-003-01-4:0.195500uM'  }\n",
      "    {'screen6:BRD-A05468928-003-01-4:0.195500uM'}\n",
      "    {'kabx2:BRD-A05468928-003-01-4:0.390500uM'  }\n",
      "    {'screen6:BRD-A05468928-003-01-4:0.390500uM'}\n",
      "    {'kabx2:BRD-A05468928-003-01-4:0.781250uM'  }\n",
      "    {'screen6:BRD-A05468928-003-01-4:0.781250uM'}\n",
      "    {'kabx2:BRD-A05468928-003-01-4:1.562500uM'  }\n",
      "    {'screen6:BRD-A05468928-003-01-4:1.562500uM'}\n",
      "\n"
     ]
    }
   ],
   "source": [
    "length(grzs.cid)\n",
    "\n",
    "%gr.cid(1:10)\n",
    "grzs.cid(1:10)"
   ]
  },
  {
   "cell_type": "code",
   "execution_count": 48,
   "id": "257014e0-bb62-4de1-b3e3-e7623cfa8dad",
   "metadata": {},
   "outputs": [],
   "source": [
    "if load_and_save_GR\n",
    "    gr_for_pcls = ds_slice(gr,'cid',unique(col_meta_for_pcls.cid,'stable'));\n",
    "end\n",
    "\n",
    "grzs_for_pcls = ds_slice(grzs,'cid',unique(col_meta_for_pcls.cid,'stable'));"
   ]
  },
  {
   "cell_type": "code",
   "execution_count": 49,
   "id": "b0e28a42-3c1f-4ecc-8a20-182bdd808d37",
   "metadata": {},
   "outputs": [
    {
     "name": "stdout",
     "output_type": "stream",
     "text": [
      "Saving HDF5 dataset to: ../results/sGR_for_pcls_n9427x340.gctx...\n",
      "/0/DATA/0 exists, deleting\n",
      "Disabling compression.\n",
      "Setting chunk size to: 340x771\n",
      "done [0.91s].\n",
      "\n",
      "ans =\n",
      "\n",
      "    '../results/sGR_for_pcls_n9427x340.gctx'\n",
      "\n"
     ]
    }
   ],
   "source": [
    "if load_and_save_GR\n",
    "    mkgctx(fullfile(wkdir, GR_for_pcls_savepath),gr)\n",
    "end\n",
    "mkgctx(fullfile(wkdir, sGR_for_pcls_savepath),grzs_for_pcls)"
   ]
  },
  {
   "cell_type": "code",
   "execution_count": 50,
   "id": "e945ee71-3332-4fba-9049-3df0facf2c5a",
   "metadata": {},
   "outputs": [
    {
     "name": "stdout",
     "output_type": "stream",
     "text": [
      "\n",
      "ans =\n",
      "\n",
      "        9427\n",
      "\n",
      "\n",
      "ans =\n",
      "\n",
      "  10x1 cell array\n",
      "\n",
      "    {'kabx2:BRD-A05468928-003-01-4:0.097500uM'  }\n",
      "    {'screen6:BRD-A05468928-003-01-4:0.097500uM'}\n",
      "    {'kabx2:BRD-A05468928-003-01-4:0.195500uM'  }\n",
      "    {'screen6:BRD-A05468928-003-01-4:0.195500uM'}\n",
      "    {'kabx2:BRD-A05468928-003-01-4:0.390500uM'  }\n",
      "    {'screen6:BRD-A05468928-003-01-4:0.390500uM'}\n",
      "    {'kabx2:BRD-A05468928-003-01-4:0.781250uM'  }\n",
      "    {'screen6:BRD-A05468928-003-01-4:0.781250uM'}\n",
      "    {'kabx2:BRD-A05468928-003-01-4:1.562500uM'  }\n",
      "    {'screen6:BRD-A05468928-003-01-4:1.562500uM'}\n",
      "\n"
     ]
    }
   ],
   "source": [
    "length(grzs_for_pcls.cid)\n",
    "\n",
    "grzs_for_pcls.cid(1:10)"
   ]
  },
  {
   "cell_type": "markdown",
   "id": "85c46afc-65ef-42b8-994a-ae8614b0215a",
   "metadata": {},
   "source": [
    "## Create gmt file with dsCGI profile - MOA membership"
   ]
  },
  {
   "cell_type": "code",
   "execution_count": 51,
   "id": "e3c01230-eef7-4633-b03f-2e384e5c646c",
   "metadata": {},
   "outputs": [
    {
     "name": "stdout",
     "output_type": "stream",
     "text": [
      "\n",
      "moas = \n",
      "\n",
      "  71x1 struct array with fields:\n",
      "\n",
      "    head\n",
      "    desc\n",
      "    entry\n",
      "    len\n",
      "\n"
     ]
    }
   ],
   "source": [
    "moas = tbl2gmt(table2struct(sortrows(col_meta_for_pcls, {'pcl_desc'})),'group_field','pcl_desc','desc_field','pcl_desc','member_field','cid')"
   ]
  },
  {
   "cell_type": "markdown",
   "id": "e54e05f7-dcaf-4c8a-a02a-90ecf6d36a49",
   "metadata": {},
   "source": [
    "## Remove any ambiguous MOA annotations"
   ]
  },
  {
   "cell_type": "code",
   "execution_count": 52,
   "id": "8a4ae76a-0049-4117-80f2-e02c5a6208cd",
   "metadata": {},
   "outputs": [
    {
     "name": "stdout",
     "output_type": "stream",
     "text": [
      "\n",
      "ans =\n",
      "\n",
      "     0\n",
      "\n",
      "\n",
      "moas = \n",
      "\n",
      "  71x1 struct array with fields:\n",
      "\n",
      "    head\n",
      "    desc\n",
      "    entry\n",
      "    len\n",
      "\n"
     ]
    }
   ],
   "source": [
    "idx = ismember({moas.head}, filter_moa_annotations);\n",
    "sum(idx)\n",
    "moas(idx) = []"
   ]
  },
  {
   "cell_type": "code",
   "execution_count": 53,
   "id": "18573fcc-3647-4528-aa6c-248249c2b26d",
   "metadata": {},
   "outputs": [],
   "source": [
    "mkgmt(fullfile(wkdir, moa_gmt_savepath), moas)"
   ]
  },
  {
   "cell_type": "markdown",
   "id": "86cf28dc-6c96-48a3-988a-1d348256ea48",
   "metadata": {},
   "source": [
    "## Calculate Pearson correlation and average rank of correlation (mutual nearest-neighbors) between all KABX dsCGI profiles using sGR "
   ]
  },
  {
   "cell_type": "code",
   "execution_count": 54,
   "id": "45bac42d-563b-4517-b811-1f736249ac24",
   "metadata": {},
   "outputs": [],
   "source": [
    "grzs_corr_for_pcls = ds_corr(grzs_for_pcls, 'type', 'pearson');"
   ]
  },
  {
   "cell_type": "code",
   "execution_count": 55,
   "id": "697afb88-2f53-4fd4-9271-727e78f03fd0",
   "metadata": {},
   "outputs": [],
   "source": [
    "grzs_corr_rank_for_pcls = grzs_corr_for_pcls;\n",
    "\n",
    "% for each KABX treatment, rank all KABX treatments from highest similarity/Pearson correlation to lowest similarity/Pearson correlation\n",
    "mat = rankorder(grzs_corr_for_pcls.mat,'dim','row','direc','descend');\n",
    "\n",
    "% in order to symmetrize matrix, calculate as the average rank between each of KABX treatments\n",
    "grzs_corr_rank_for_pcls.mat = (mat+mat')/2;"
   ]
  },
  {
   "cell_type": "code",
   "execution_count": 58,
   "id": "c583daa9-93ae-4015-b625-c2694dd2a7a6",
   "metadata": {},
   "outputs": [
    {
     "name": "stdout",
     "output_type": "stream",
     "text": [
      "Saving HDF5 dataset to: ../results/sGR_for_pcls_pearson_corr_n9427x9427.gctx...\n",
      "/0/DATA/0 exists, deleting\n",
      "Disabling compression.\n",
      "Setting chunk size to: 1000x262\n",
      "done [2.51s].\n",
      "\n",
      "ans =\n",
      "\n",
      "    '../results/sGR_for_pcls_pearson_corr_n9427x9427.gctx'\n",
      "\n",
      "Saving HDF5 dataset to: ../results/sGR_for_pcls_pearson_corr_rank_n9427x9427.gctx...\n",
      "/0/DATA/0 exists, deleting\n",
      "Disabling compression.\n",
      "Setting chunk size to: 1000x262\n",
      "done [2.56s].\n",
      "\n",
      "ans =\n",
      "\n",
      "    '../results/sGR_for_pcls_pearson_corr_rank_n9427x9427.gctx'\n",
      "\n"
     ]
    }
   ],
   "source": [
    "mkgctx(fullfile(wkdir, corr_for_pcls_savepath),grzs_corr_for_pcls)\n",
    "mkgctx(fullfile(wkdir, corr_rank_for_pcls_savepath),grzs_corr_rank_for_pcls)"
   ]
  },
  {
   "cell_type": "code",
   "execution_count": 57,
   "id": "ec43d7c4-742f-45d3-b3ca-73cda107fcb7",
   "metadata": {},
   "outputs": [],
   "source": [
    "if save_gct\n",
    "    mkgct(fullfile(wkdir, corr_for_pcls_savepath),grzs_corr_for_pcls,'precision',4)\n",
    "    mkgct(fullfile(wkdir, corr_rank_for_pcls_savepath),grzs_corr_rank_for_pcls,'precision',4)\n",
    "end"
   ]
  },
  {
   "cell_type": "markdown",
   "id": "02a6cf4b",
   "metadata": {},
   "source": [
    "## Save list of KABX compounds (pert_ids) for referencing during LOOCV"
   ]
  },
  {
   "cell_type": "code",
   "execution_count": 59,
   "id": "e23f872e",
   "metadata": {
    "vscode": {
     "languageId": "python"
    }
   },
   "outputs": [
    {
     "name": "stdout",
     "output_type": "stream",
     "text": [
      "\n",
      "ans =\n",
      "\n",
      "   437\n",
      "\n"
     ]
    }
   ],
   "source": [
    "unique_kabx_cmpds_list = unique(col_meta.pert_id);\n",
    "\n",
    "length(unique_kabx_cmpds_list)"
   ]
  },
  {
   "cell_type": "code",
   "execution_count": 60,
   "id": "58b1d1b3",
   "metadata": {
    "vscode": {
     "languageId": "python"
    }
   },
   "outputs": [],
   "source": [
    "unique_kabx_cmpds_idx = (1:length(unique_kabx_cmpds_list))';\n",
    "\n",
    "unique_kabx_cmpds_tbl = table(unique_kabx_cmpds_idx, unique_kabx_cmpds_list, 'VariableNames', {'kabx_cmpd_idx', 'kabx_cmpd'}); "
   ]
  },
  {
   "cell_type": "code",
   "execution_count": 61,
   "id": "fced1d7c",
   "metadata": {
    "vscode": {
     "languageId": "python"
    }
   },
   "outputs": [
    {
     "name": "stdout",
     "output_type": "stream",
     "text": [
      "\n",
      "ans =\n",
      "\n",
      "  2x3 table\n",
      "\n",
      "    idx          field                value      \n",
      "    ___    _________________    _________________\n",
      "\n",
      "     1     {'kabx_cmpd_idx'}    {[            1]}\n",
      "     2     {'kabx_cmpd'    }    {'BRD-A02179977'}\n",
      "\n"
     ]
    }
   ],
   "source": [
    "headt(unique_kabx_cmpds_tbl)"
   ]
  },
  {
   "cell_type": "code",
   "execution_count": 62,
   "id": "ecffa713",
   "metadata": {
    "vscode": {
     "languageId": "python"
    }
   },
   "outputs": [],
   "source": [
    "wtable(unique_kabx_cmpds_tbl, fullfile(wkdir,'kabx_pert_ids_tbl_for_loocv.txt'))"
   ]
  },
  {
   "cell_type": "markdown",
   "id": "0a2673d3",
   "metadata": {},
   "source": [
    "## For each KABX Pert ID (compound) leave all doses of it out(Broad ID/Proj-Broad ID/CID) from the input correlation matrices and correlation rank matrices for PCL construction "
   ]
  },
  {
   "cell_type": "code",
   "execution_count": 121,
   "id": "f066e289",
   "metadata": {
    "vscode": {
     "languageId": "python"
    }
   },
   "outputs": [
    {
     "name": "stdout",
     "output_type": "stream",
     "text": [
      "\n",
      "ans =\n",
      "\n",
      "        9427\n",
      "\n",
      "\n",
      "number_of_cmpds_loocv =\n",
      "\n",
      "   437\n",
      "\n",
      "\n",
      "number_of_cmpds_loocv =\n",
      "\n",
      "     5\n",
      "\n",
      "\n",
      "index_cmpds_loocv =\n",
      "\n",
      "    88   105   183   291   380\n",
      "\n",
      "Saving HDF5 dataset to: ../results/loocv_pcls/leave_out_cmpd_BRD-K01507359/sGR_for_pcls_pearson_corr_n9345x9345.gctx...\n",
      "/0/DATA/0 exists, deleting\n",
      "Disabling compression.\n",
      "Setting chunk size to: 1000x262\n",
      "done [2.57s].\n",
      "Saving HDF5 dataset to: ../results/loocv_pcls/leave_out_cmpd_BRD-K01507359/sGR_for_pcls_pearson_corr_rank_n9345x9345.gctx...\n",
      "/0/DATA/0 exists, deleting\n",
      "Disabling compression.\n",
      "Setting chunk size to: 1000x262\n",
      "done [2.54s].\n",
      "Saving HDF5 dataset to: ../results/loocv_pcls/leave_out_cmpd_BRD-K01507359/sGR_for_loo_cmpd_pearson_corr_n82x82.gctx...\n",
      "/0/DATA/0 exists, deleting\n",
      "Disabling compression.\n",
      "Setting chunk size to: 82x82\n",
      "done [0.10s].\n",
      "Saving HDF5 dataset to: ../results/loocv_pcls/leave_out_cmpd_BRD-K01507359/sGR_for_loo_cmpd_to_remaining_kabx_pearson_corr_n82x9345.gctx...\n",
      "/0/DATA/0 exists, deleting\n",
      "Disabling compression.\n",
      "Setting chunk size to: 1000x82\n",
      "done [0.82s].\n",
      "Saving HDF5 dataset to: ../results/loocv_pcls/leave_out_cmpd_BRD-K04804440/sGR_for_pcls_pearson_corr_n9399x9399.gctx...\n",
      "/0/DATA/0 exists, deleting\n",
      "Disabling compression.\n",
      "Setting chunk size to: 1000x262\n",
      "done [2.54s].\n",
      "Saving HDF5 dataset to: ../results/loocv_pcls/leave_out_cmpd_BRD-K04804440/sGR_for_pcls_pearson_corr_rank_n9399x9399.gctx...\n",
      "/0/DATA/0 exists, deleting\n",
      "Disabling compression.\n",
      "Setting chunk size to: 1000x262\n",
      "done [2.54s].\n",
      "Saving HDF5 dataset to: ../results/loocv_pcls/leave_out_cmpd_BRD-K04804440/sGR_for_loo_cmpd_pearson_corr_n28x28.gctx...\n",
      "/0/DATA/0 exists, deleting\n",
      "Disabling compression.\n",
      "Setting chunk size to: 28x28\n",
      "done [0.12s].\n",
      "Saving HDF5 dataset to: ../results/loocv_pcls/leave_out_cmpd_BRD-K04804440/sGR_for_loo_cmpd_to_remaining_kabx_pearson_corr_n28x9399.gctx...\n",
      "/0/DATA/0 exists, deleting\n",
      "Disabling compression.\n",
      "Setting chunk size to: 1000x28\n",
      "done [0.78s].\n",
      "Saving HDF5 dataset to: ../results/loocv_pcls/leave_out_cmpd_BRD-K27302037/sGR_for_pcls_pearson_corr_n9399x9399.gctx...\n",
      "Disabling compression.\n",
      "Setting chunk size to: 1000x262\n",
      "done [3.22s].\n",
      "Saving HDF5 dataset to: ../results/loocv_pcls/leave_out_cmpd_BRD-K27302037/sGR_for_pcls_pearson_corr_rank_n9399x9399.gctx...\n",
      "Disabling compression.\n",
      "Setting chunk size to: 1000x262\n",
      "done [3.14s].\n",
      "Saving HDF5 dataset to: ../results/loocv_pcls/leave_out_cmpd_BRD-K27302037/sGR_for_loo_cmpd_pearson_corr_n28x28.gctx...\n",
      "Disabling compression.\n",
      "Setting chunk size to: 28x28\n",
      "done [0.09s].\n",
      "Saving HDF5 dataset to: ../results/loocv_pcls/leave_out_cmpd_BRD-K27302037/sGR_for_loo_cmpd_to_remaining_kabx_pearson_corr_n28x9399.gctx...\n",
      "Disabling compression.\n",
      "Setting chunk size to: 1000x28\n",
      "done [0.81s].\n",
      "Saving HDF5 dataset to: ../results/loocv_pcls/leave_out_cmpd_BRD-K59853741/sGR_for_pcls_pearson_corr_n9401x9401.gctx...\n",
      "/0/DATA/0 exists, deleting\n",
      "Disabling compression.\n",
      "Setting chunk size to: 1000x262\n",
      "done [2.64s].\n",
      "Saving HDF5 dataset to: ../results/loocv_pcls/leave_out_cmpd_BRD-K59853741/sGR_for_pcls_pearson_corr_rank_n9401x9401.gctx...\n",
      "/0/DATA/0 exists, deleting\n",
      "Disabling compression.\n",
      "Setting chunk size to: 1000x262\n",
      "done [2.56s].\n",
      "Saving HDF5 dataset to: ../results/loocv_pcls/leave_out_cmpd_BRD-K59853741/sGR_for_loo_cmpd_pearson_corr_n26x26.gctx...\n",
      "/0/DATA/0 exists, deleting\n",
      "Disabling compression.\n",
      "Setting chunk size to: 26x26\n",
      "done [0.13s].\n",
      "Saving HDF5 dataset to: ../results/loocv_pcls/leave_out_cmpd_BRD-K59853741/sGR_for_loo_cmpd_to_remaining_kabx_pearson_corr_n26x9401.gctx...\n",
      "/0/DATA/0 exists, deleting\n",
      "Disabling compression.\n",
      "Setting chunk size to: 1000x26\n",
      "done [0.81s].\n",
      "Saving HDF5 dataset to: ../results/loocv_pcls/leave_out_cmpd_BRD-K87202646/sGR_for_pcls_pearson_corr_n9407x9407.gctx...\n",
      "/0/DATA/0 exists, deleting\n",
      "Disabling compression.\n",
      "Setting chunk size to: 1000x262\n",
      "done [2.61s].\n",
      "Saving HDF5 dataset to: ../results/loocv_pcls/leave_out_cmpd_BRD-K87202646/sGR_for_pcls_pearson_corr_rank_n9407x9407.gctx...\n",
      "/0/DATA/0 exists, deleting\n",
      "Disabling compression.\n",
      "Setting chunk size to: 1000x262\n",
      "done [2.48s].\n",
      "Saving HDF5 dataset to: ../results/loocv_pcls/leave_out_cmpd_BRD-K87202646/sGR_for_loo_cmpd_pearson_corr_n20x20.gctx...\n",
      "/0/DATA/0 exists, deleting\n",
      "Disabling compression.\n",
      "Setting chunk size to: 20x20\n",
      "done [0.10s].\n",
      "Saving HDF5 dataset to: ../results/loocv_pcls/leave_out_cmpd_BRD-K87202646/sGR_for_loo_cmpd_to_remaining_kabx_pearson_corr_n20x9407.gctx...\n",
      "/0/DATA/0 exists, deleting\n",
      "Disabling compression.\n",
      "Setting chunk size to: 1000x20\n",
      "done [0.81s].\n"
     ]
    }
   ],
   "source": [
    "if prepare_loocv\n",
    "\n",
    "    all_kabx_cids = unique(col_meta_for_pcls.cid, 'stable');\n",
    "\n",
    "    length(all_kabx_cids)\n",
    "    \n",
    "    number_of_cmpds_loocv = length(unique_kabx_cmpds_list)\n",
    "    \n",
    "    if demo_loocv\n",
    "       if strcmp(demo_loocv_number_or_list, 'number')\n",
    "           number_of_cmpds_loocv = max(1, demo_loocv_number_cmpds)\n",
    "           \n",
    "           index_cmpds_loocv = 1:number_of_cmpds_loocv\n",
    "           \n",
    "       elseif strcmp(demo_loocv_number_or_list, 'list')\n",
    "           number_of_cmpds_loocv = length(demo_loocv_list_cmpds)\n",
    "           \n",
    "           index_cmpds_loocv = find(ismember(unique_kabx_cmpds_list, demo_loocv_list_cmpds))'\n",
    "       else\n",
    "           error('Invalid input for demo_loocv_number_or_list: number or list')\n",
    "       end\n",
    "    end\n",
    "\n",
    "    for i = index_cmpds_loocv\n",
    "\n",
    "        % If the current iteration number is a multiple of 50\n",
    "        if mod(i, 50) == 0\n",
    "            % Print a status message\n",
    "            fprintf('Currently at iteration %d\\n', i);\n",
    "        end\n",
    "\n",
    "        leave_out_cmpd = unique_kabx_cmpds_list(i);\n",
    "\n",
    "        loo_wkdir = fullfile(wkdir, strcat(results_subdir_prefix, strjoin(unique_kabx_cmpds_list(i))));\n",
    "\n",
    "        mk_cd_dir(loo_wkdir, false);\n",
    "\n",
    "        col_meta_for_loo_cmpd = col_meta_for_pcls(ismember(col_meta_for_pcls.pert_id, unique_kabx_cmpds_list(i)), :);\n",
    "\n",
    "        assert(size(col_meta_for_loo_cmpd, 1) > 1)\n",
    "\n",
    "        col_meta_for_pcls_remaining_kabx = col_meta_for_pcls(~ismember(col_meta_for_pcls.pert_id, unique_kabx_cmpds_list(i)), :);\n",
    "\n",
    "        assert(size(col_meta_for_pcls_remaining_kabx, 1) < size(col_meta_for_pcls, 1))\n",
    "\n",
    "        wtable(col_meta_for_pcls_remaining_kabx, fullfile(loo_wkdir, col_meta_kabx_for_pcls_savepath));\n",
    "\n",
    "        wtable(col_meta_for_loo_cmpd, fullfile(loo_wkdir, col_meta_loo_cmpd_savepath));\n",
    "\n",
    "\n",
    "\n",
    "\n",
    "        remaining_kabx_cids = unique(col_meta_for_pcls_remaining_kabx.cid,'stable');\n",
    "\n",
    "        loo_cmpd_cids = unique(col_meta_for_loo_cmpd.cid,'stable');\n",
    "\n",
    "        assert(length(remaining_kabx_cids) < length(all_kabx_cids))\n",
    "\n",
    "        assert(length(loo_cmpd_cids) > 0)\n",
    "\n",
    "        grzs_corr_remaining_kabx = ds_slice(grzs_corr_for_pcls, 'cid',remaining_kabx_cids, 'rid', remaining_kabx_cids);\n",
    "\n",
    "        grzs_corr_loo_cmpd = ds_slice(grzs_corr_for_pcls, 'cid',loo_cmpd_cids, 'rid', loo_cmpd_cids);\n",
    "\n",
    "        grzs_corr_loo_cmpd_to_remaining_kabx = ds_slice(grzs_corr_for_pcls, 'rid',remaining_kabx_cids, 'cid', loo_cmpd_cids);\n",
    "\n",
    "        assert(size(grzs_corr_loo_cmpd_to_remaining_kabx.mat, 1) < size(grzs_corr_for_pcls.mat, 1))\n",
    "\n",
    "        assert(size(grzs_corr_loo_cmpd.mat, 1) > 0)\n",
    "\n",
    "\n",
    "        grzs_corr_rank_remaining_kabx = grzs_corr_remaining_kabx;\n",
    "        mat = rankorder(grzs_corr_remaining_kabx.mat,'dim','row','direc','descend');\n",
    "        grzs_corr_rank_remaining_kabx.mat = (mat+mat')/2;\n",
    "\n",
    "        mkgctx(fullfile(loo_wkdir, corr_for_pcls_savepath),grzs_corr_remaining_kabx);\n",
    "        mkgctx(fullfile(loo_wkdir, corr_rank_for_pcls_savepath),grzs_corr_rank_remaining_kabx);\n",
    "\n",
    "        mkgctx(fullfile(loo_wkdir, corr_for_loo_cmpd_savepath),grzs_corr_loo_cmpd);\n",
    "        mkgctx(fullfile(loo_wkdir, corr_for_loo_cmpd_to_remaining_kabx_savepath),grzs_corr_loo_cmpd_to_remaining_kabx);\n",
    "\n",
    "        moas_remaining_kabx = tbl2gmt(table2struct(col_meta_for_pcls_remaining_kabx),'group_field','pcl_desc','desc_field','pcl_desc','member_field','cid');\n",
    "\n",
    "        idx = ismember({moas_remaining_kabx.head}, filter_moa_annotations);\n",
    "        sum(idx);\n",
    "        moas_remaining_kabx(idx) = [];\n",
    "\n",
    "        mkgmt(fullfile(loo_wkdir, moa_gmt_savepath), moas_remaining_kabx);\n",
    "    end\n",
    "end"
   ]
  },
  {
   "cell_type": "code",
   "execution_count": null,
   "id": "02af2a62-ddc1-4c6d-b3a6-de5df0bb03fe",
   "metadata": {},
   "outputs": [],
   "source": []
  }
 ],
 "metadata": {
  "kernelspec": {
   "display_name": "MATLAB",
   "language": "matlab",
   "name": "imatlab"
  },
  "language_info": {
   "codemirror_mode": "octave",
   "file_extension": ".m",
   "mimetype": "text/x-matlab",
   "name": "matlab",
   "nbconvert_exporter": "imatlab._exporter.MatlabExporter",
   "pygments_lexer": "matlab",
   "version": "9.8.0.1323502 (R2020a)"
  }
 },
 "nbformat": 4,
 "nbformat_minor": 5
}
