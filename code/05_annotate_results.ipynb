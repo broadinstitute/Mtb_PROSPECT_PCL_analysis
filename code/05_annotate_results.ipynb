{
 "cells": [
  {
   "cell_type": "markdown",
   "metadata": {
    "tags": []
   },
   "source": [
    "## Header for selecting leftout compound directory to work in"
   ]
  },
  {
   "cell_type": "code",
   "execution_count": 1,
   "metadata": {
    "tags": [
     "parameters"
    ]
   },
   "outputs": [
    {
     "name": "stdout",
     "output_type": "stream",
     "text": [
      "\n",
      "loo_pert_id_idx =\n",
      "\n",
      "     1\n",
      "\n"
     ]
    }
   ],
   "source": [
    "loo_pert_id_idx = 1"
   ]
  },
  {
   "cell_type": "code",
   "execution_count": 2,
   "metadata": {},
   "outputs": [
    {
     "name": "stdout",
     "output_type": "stream",
     "text": [
      "Reading /idi/cgtb/abond/combine_screens_456/pcls_for_manuscript_final/loocv_pcls/kabx_pert_ids_tbl_for_loocv.txt\n",
      "\n",
      "\n",
      "ans =\n",
      "\n",
      "   437     2\n",
      "\n",
      "\n",
      "ans =\n",
      "\n",
      "  2x3 table\n",
      "\n",
      "    idx          field                value      \n",
      "    ___    _________________    _________________\n",
      "\n",
      "     1     {'kabx_cmpd_idx'}    {[            1]}\n",
      "     2     {'kabx_cmpd'    }    {'BRD-A02179977'}\n",
      "\n"
     ]
    }
   ],
   "source": [
    "unique_kabx_cmpds_tbl = rtable('/idi/cgtb/abond/combine_screens_456/pcls_for_manuscript_final/loocv_pcls/kabx_pert_ids_tbl_for_loocv.txt');\n",
    "\n",
    "size(unique_kabx_cmpds_tbl)\n",
    "headt(unique_kabx_cmpds_tbl)"
   ]
  },
  {
   "cell_type": "code",
   "execution_count": 3,
   "metadata": {
    "tags": []
   },
   "outputs": [
    {
     "name": "stdout",
     "output_type": "stream",
     "text": [
      "\n",
      "this_loocv_cmpd =\n",
      "\n",
      "  1x1 cell array\n",
      "\n",
      "    {'BRD-A02179977'}\n",
      "\n",
      "\n",
      "this_loocv_cmpd_string =\n",
      "\n",
      "    'BRD-A02179977'\n",
      "\n"
     ]
    }
   ],
   "source": [
    "this_loocv_cmpd = unique_kabx_cmpds_tbl.kabx_cmpd(unique_kabx_cmpds_tbl.kabx_cmpd_idx == loo_pert_id_idx)\n",
    "\n",
    "this_loocv_cmpd_string = strjoin(this_loocv_cmpd)"
   ]
  },
  {
   "cell_type": "markdown",
   "metadata": {},
   "source": [
    "## End Header"
   ]
  },
  {
   "cell_type": "code",
   "execution_count": 4,
   "metadata": {},
   "outputs": [
    {
     "name": "stdout",
     "output_type": "stream",
     "text": [
      "\n",
      "datadir =\n",
      "\n",
      "    '/idi/cgtb/abond/combine_screens_456/pcls_for_manuscript_final/loocv_pcls/leave_out_cmpd_BRD-A02179977/validate_new_pcls_thrsh_rank_le20_k_med_gap_den_fast'\n",
      "\n",
      "\n",
      "wkdir =\n",
      "\n",
      "    '/idi/cgtb/abond/combine_screens_456/pcls_for_manuscript_final/loocv_pcls/leave_out_cmpd_BRD-A02179977/validate_new_pcls_thrsh_rank_le20_k_med_gap_den_fast/pcls_all_no_loo_scoring_exclude_self'\n",
      "\n",
      "\n",
      "target_pred_path =\n",
      "\n",
      "    '/idi/cgtb/morzech/idmp/combine_screens_456/cdv2/screens456_combined_community_detection_ranks_1_5_all_annot_with_sele_with_lslope_and_x50.txt'\n",
      "\n",
      "\n",
      "rr_path =\n",
      "\n",
      "    '/idi/cgtb/morzech/idmp/combine_screens_456/replicate_correlation_all.txt'\n",
      "\n",
      "\n",
      "fgr_path =\n",
      "\n",
      "    '/idi/cgtb/morzech/idmp/combine_screens_456/fraction_gr.txt'\n",
      "\n"
     ]
    }
   ],
   "source": [
    "project_id = [];\n",
    "\n",
    "datadir = ['/idi/cgtb/abond/combine_screens_456/pcls_for_manuscript_final/loocv_pcls/', 'leave_out_cmpd_', this_loocv_cmpd_string, '/validate_new_pcls_thrsh_rank_le20_k_med_gap_den_fast_forloop']\n",
    "wkdir = fullfile(datadir,'pcls_all_no_loo_scoring_exclude_self')\n",
    "\n",
    "mk_cd_dir(wkdir, true);\n",
    "imatlab_export_fig('print-png')\n",
    "\n",
    "target_pred_path = '/idi/cgtb/morzech/idmp/combine_screens_456/cdv2/screens456_combined_community_detection_ranks_1_5_all_annot_with_sele_with_lslope_and_x50.txt'\n",
    "rr_path = '/idi/cgtb/morzech/idmp/combine_screens_456/replicate_correlation_all.txt'\n",
    "fgr_path = '/idi/cgtb/morzech/idmp/combine_screens_456/fraction_gr.txt' \n"
   ]
  },
  {
   "cell_type": "code",
   "execution_count": 5,
   "metadata": {},
   "outputs": [
    {
     "name": "stdout",
     "output_type": "stream",
     "text": [
      "\n",
      "ans =\n",
      "\n",
      "  logical\n",
      "\n",
      "   1\n",
      "\n",
      "\n",
      "ans =\n",
      "\n",
      "  logical\n",
      "\n",
      "   1\n",
      "\n",
      "\n",
      "ans =\n",
      "\n",
      "  logical\n",
      "\n",
      "   1\n",
      "\n"
     ]
    }
   ],
   "source": [
    "exist(target_pred_path) > 0\n",
    "exist(rr_path) > 0\n",
    "exist(fgr_path) > 0"
   ]
  },
  {
   "cell_type": "code",
   "execution_count": 6,
   "metadata": {},
   "outputs": [
    {
     "name": "stdout",
     "output_type": "stream",
     "text": [
      "ds_corr_n7225x9427.gctx\n",
      "ds_corr_rank_n7225x9427.gctx\n",
      "pcl_median_corr_n9427x1889.gctx\n",
      "pcl_median_corr_rank_div_group_size_n9427x1889.gctx\n",
      "pcl_median_corr_rank_n9427x1889.gctx\n",
      "\n"
     ]
    }
   ],
   "source": [
    "ls(wkdir)"
   ]
  },
  {
   "cell_type": "code",
   "execution_count": 4,
   "metadata": {
    "tags": []
   },
   "outputs": [
    {
     "name": "stdout",
     "output_type": "stream",
     "text": [
      "Reading /idi/cgtb/morzech/idmp/combine_screens_456/cdv2/screens456_combined_community_detection_ranks_1_5_all_annot_with_sele_with_lslope_and_x50.txt\n",
      "\n",
      "\n",
      "ans =\n",
      "\n",
      "  20x3 table\n",
      "\n",
      "    idx             field                           value              \n",
      "    ___    ________________________    ________________________________\n",
      "\n",
      "     1     {'broad_id'            }    {'0013X 55UXB'                 }\n",
      "     2     {'cid'                 }    {'tbda1:0013X 55UXB:0.781250uM'}\n",
      "     3     {'frac_gr_le0_30'      }    {[                      0.0025]}\n",
      "     4     {'grzs'                }    {[                     -3.8752]}\n",
      "     5     {'grzs_czs'            }    {[                     -8.7018]}\n",
      "     6     {'grzs_slope'          }    {[                      0.9341]}\n",
      "     7     {'grzs_slope_adjr'     }    {[                      0.0043]}\n",
      "     8     {'grzs_x50'            }    {[                      0.6438]}\n",
      "     9     {'grzs_x50_ci_diff'    }    {[                  3.6981e+03]}\n",
      "    10     {'grzs_x50_ci_high'    }    {[                  3.6981e+03]}\n",
      "    11     {'grzs_x50_ci_low'     }    {[                  1.1207e-04]}\n",
      "    12     {'idx_sele_best'       }    {[                           0]}\n",
      "    13     {'idx_sele_best2'      }    {[                           0]}\n",
      "    14     {'idx_sele_tmp'        }    {[                           1]}\n",
      "    15     {'is_wk'               }    {[                           0]}\n",
      "    16     {'pert_id'             }    {'0013X 55UXB'                 }\n",
      "    17     {'pval'                }    {[                      0.0068]}\n",
      "    18     {'strain_id'           }    {'efp'                         }\n",
      "    19     {'x_median_total_count'}    {[                      155357]}\n",
      "    20     {'x_subproject_id'     }    {'tbda1'                       }\n",
      "\n"
     ]
    }
   ],
   "source": [
    "target_pred = rtable(target_pred_path);\n",
    "headt(target_pred)"
   ]
  },
  {
   "cell_type": "code",
   "execution_count": 5,
   "metadata": {},
   "outputs": [
    {
     "name": "stdout",
     "output_type": "stream",
     "text": [
      "\n",
      "ans =\n",
      "\n",
      "       75412\n",
      "\n",
      "\n",
      "ans =\n",
      "\n",
      "       73618\n",
      "\n"
     ]
    }
   ],
   "source": [
    "sum(target_pred.idx_sele_best==0)\n",
    "sum(target_pred.idx_sele_best2==0)"
   ]
  },
  {
   "cell_type": "code",
   "execution_count": 6,
   "metadata": {},
   "outputs": [
    {
     "name": "stdout",
     "output_type": "stream",
     "text": [
      "\n",
      "ans =\n",
      "\n",
      "      187614          20\n",
      "\n",
      "\n",
      "ans =\n",
      "\n",
      "      112202          20\n",
      "\n"
     ]
    }
   ],
   "source": [
    "size(target_pred)\n",
    "target_pred(target_pred.idx_sele_best==0,:) = [];\n",
    "size(target_pred)"
   ]
  },
  {
   "cell_type": "code",
   "execution_count": 7,
   "metadata": {},
   "outputs": [],
   "source": [
    "target_pred = sortrows(target_pred,{'broad_id','grzs'});"
   ]
  },
  {
   "cell_type": "code",
   "execution_count": 8,
   "metadata": {},
   "outputs": [],
   "source": [
    "target_pred = struct2table(wrap_table(table2struct(target_pred(:,{'broad_id','strain_id'})),'broad_id',true));"
   ]
  },
  {
   "cell_type": "code",
   "execution_count": 9,
   "metadata": {},
   "outputs": [
    {
     "name": "stdout",
     "output_type": "stream",
     "text": [
      "\n",
      "ans =\n",
      "\n",
      "  10x2 table\n",
      "\n",
      "        broad_id                                                                       strain_id                                                               \n",
      "    _________________    ______________________________________________________________________________________________________________________________________\n",
      "\n",
      "    {'0013X 55UXB'  }    {'trpG|pyrE|Rv1697|argJ'                                                                                                             }\n",
      "    {'0037U 73XXX'  }    {'ppk1|trpG|acpM|Rv0023|pabB|adoK|mtrA|folD|Rv1697|embC|Rv3644c'                                                                     }\n",
      "    {'0039X 65XXX'  }    {'ppk1|Rv0023|acpM|Rv3644c|trpG|pks13|thyA|pabB|atpDC|Rv1697|rpe'                                                                    }\n",
      "    {'0039Y 64XXX'  }    {'otsB2'                                                                                                                             }\n",
      "    {'0277C 76XXX'  }    {'hemL|dxr|infB|ispD|rpsM|aceE|icd2|Rv1697|rfbE|efp|ino1|acpM|Rv1476|prfA|Rv1339|rpmC|dnaG|clpX|kasA|obgE|Rv2242|lppL|Rv1456c|Rv3267'}\n",
      "    {'032_0026_0135'}    {'gap|Rv0504c|nadC|nadB|tpi|hadB|gcvH'                                                                                               }\n",
      "    {'032_0032_0077'}    {'gap|panD|menC|gpm1|glcB|pyrE|tpi|csd|Rv3635|folD|nadB|nadC|aroF|Rv1463|ndhA|efp|panC|cysS1|coaE|dfp|cmk'                           }\n",
      "    {'032_0052_0006'}    {'Rv2172c'                                                                                                                           }\n",
      "    {'032_0088_0062'}    {'thyA|dapB'                                                                                                                         }\n",
      "    {'032_0089_0079'}    {'ilvB1|tpi|menC|gap|coaE|atpDC|ftsW|csd|Rv1456c'                                                                                    }\n",
      "\n"
     ]
    }
   ],
   "source": [
    "target_pred(1:10,:)"
   ]
  },
  {
   "cell_type": "code",
   "execution_count": 10,
   "metadata": {},
   "outputs": [
    {
     "name": "stdout",
     "output_type": "stream",
     "text": [
      "\n",
      "ans =\n",
      "\n",
      "  2x3 table\n",
      "\n",
      "    idx           field                      value          \n",
      "    ___    ____________________    _________________________\n",
      "\n",
      "     1     {'broad_id'        }    {'0013X 55UXB'          }\n",
      "     2     {'predicted_target'}    {'trpG|pyrE|Rv1697|argJ'}\n",
      "\n"
     ]
    }
   ],
   "source": [
    "idx_vn = ismember(target_pred.Properties.VariableNames,'strain_id');\n",
    "target_pred.Properties.VariableNames(idx_vn) = {'predicted_target'};\n",
    "headt(target_pred)"
   ]
  },
  {
   "cell_type": "markdown",
   "metadata": {
    "tags": []
   },
   "source": [
    "## Add replicate reproducibility "
   ]
  },
  {
   "cell_type": "code",
   "execution_count": 11,
   "metadata": {},
   "outputs": [
    {
     "name": "stdout",
     "output_type": "stream",
     "text": [
      "Reading /idi/cgtb/morzech/idmp/combine_screens_456/replicate_correlation_all.txt\n",
      "\n"
     ]
    }
   ],
   "source": [
    "rr = rtable(rr_path);"
   ]
  },
  {
   "cell_type": "code",
   "execution_count": 12,
   "metadata": {},
   "outputs": [
    {
     "name": "stdout",
     "output_type": "stream",
     "text": [
      "\n",
      "ans =\n",
      "\n",
      "       79879           5\n",
      "\n",
      "\n",
      "ans =\n",
      "\n",
      "  5x3 table\n",
      "\n",
      "    idx           field                                     value                         \n",
      "    ___    ____________________    _______________________________________________________\n",
      "\n",
      "     1     {'count_replicates'}    {[                                                  2]}\n",
      "     2     {'max_rcorr'       }    {[                                             0.2286]}\n",
      "     3     {'rcorr'           }    {[                                             0.2286]}\n",
      "     4     {'rcorr_rank'      }    {[                                             0.0264]}\n",
      "     5     {'cid'             }    {'screen_bi1_tbda2:BRD-A00011930-001-01-7:50.000000uM'}\n",
      "\n"
     ]
    }
   ],
   "source": [
    "size(rr)\n",
    "headt(rr)"
   ]
  },
  {
   "cell_type": "markdown",
   "metadata": {
    "tags": []
   },
   "source": [
    "## Add fraction of GR"
   ]
  },
  {
   "cell_type": "code",
   "execution_count": 13,
   "metadata": {},
   "outputs": [
    {
     "name": "stdout",
     "output_type": "stream",
     "text": [
      "Reading /idi/cgtb/morzech/idmp/combine_screens_456/fraction_gr.txt\n",
      "\n"
     ]
    }
   ],
   "source": [
    "fgr = rtable(fgr_path);"
   ]
  },
  {
   "cell_type": "code",
   "execution_count": 14,
   "metadata": {
    "tags": []
   },
   "outputs": [
    {
     "name": "stdout",
     "output_type": "stream",
     "text": [
      "\n",
      "ans =\n",
      "\n",
      "       79873           4\n",
      "\n",
      "\n",
      "ans =\n",
      "\n",
      "  4x3 table\n",
      "\n",
      "    idx             field                                 value                   \n",
      "    ___    ________________________    ___________________________________________\n",
      "\n",
      "     1     {'cid'                 }    {'kabx2:BRD-A01514287-001-01-8:0.097500uM'}\n",
      "     2     {'x_median_total_count'}    {[                                 396223]}\n",
      "     3     {'sum_gr_le0_30'       }    {[                                      0]}\n",
      "     4     {'frac_gr_le0_30'      }    {[                                      0]}\n",
      "\n"
     ]
    }
   ],
   "source": [
    "size(fgr)\n",
    "headt(fgr)"
   ]
  },
  {
   "cell_type": "code",
   "execution_count": 15,
   "metadata": {
    "tags": []
   },
   "outputs": [
    {
     "name": "stdout",
     "output_type": "stream",
     "text": [
      "\n",
      "ans =\n",
      "\n",
      "  6x1 cell array\n",
      "\n",
      "    {'screen4wk_screen5wk_kabx2_tbda1:DMSO:0uM'}\n",
      "    {'screen5_wk:DMSO:0uM'                     }\n",
      "    {'screen5cp:DMSO:0uM'                      }\n",
      "    {'screen6:DMSO:0.000000uM'                 }\n",
      "    {'screen_bi1_tbda2:DMSO:0uM'               }\n",
      "    {'screen_bi2_kabxlow:DMSO:0uM'             }\n",
      "\n"
     ]
    }
   ],
   "source": [
    "rr.cid(~ismember(rr.cid, fgr.cid))"
   ]
  },
  {
   "cell_type": "code",
   "execution_count": 16,
   "metadata": {
    "tags": []
   },
   "outputs": [
    {
     "name": "stdout",
     "output_type": "stream",
     "text": [
      "\n",
      "ans =\n",
      "\n",
      "  0x1 empty cell array\n",
      "\n"
     ]
    }
   ],
   "source": [
    "fgr.cid(~ismember(fgr.cid, rr.cid))"
   ]
  },
  {
   "cell_type": "raw",
   "metadata": {},
   "source": [
    "results_path = fullfile(wkdir,'correlation_to_selected_pcls.txt')\n",
    "opts = detectImportOptions(results_path);\n",
    "opts.SelectedVariableNames = {'rid','pcl_id','pcl_size_actual'};\n",
    "t = readtable(results_path,opts);\n",
    "headt(t)\n",
    "size(t)"
   ]
  },
  {
   "cell_type": "markdown",
   "metadata": {
    "tags": []
   },
   "source": [
    "## Add replicate reproducibility and fraction of GR to existing GCTs"
   ]
  },
  {
   "cell_type": "code",
   "execution_count": 17,
   "metadata": {
    "tags": []
   },
   "outputs": [
    {
     "name": "stdout",
     "output_type": "stream",
     "text": [
      "median_corr\n",
      "\n",
      "g =\n",
      "\n",
      "  1x1 cell array\n",
      "\n",
      "    {'/idi/cgtb/abond/combine_screens_456/pcls_for_manuscript_final/validate_new_pcls_thrsh_rank_le20_k_med_gap_den/pcls_all_no_loo_scoring_exclude_self/pcl_median_corr_n79873x1704.gctx'}\n",
      "\n",
      "Reading /idi/cgtb/abond/combine_screens_456/pcls_for_manuscript_final/validate_new_pcls_thrsh_rank_le20_k_med_gap_den/pcls_all_no_loo_scoring_exclude_self/pcl_median_corr_n79873x1704.gctx [1704x79873]\n",
      "Done [6.27 s].\n",
      "\n",
      "ans =\n",
      "\n",
      "  4x1 cell array\n",
      "\n",
      "    {'broad_id'  }\n",
      "    {'pert_dose' }\n",
      "    {'pert_id'   }\n",
      "    {'pert_idose'}\n",
      "\n",
      "\n",
      "ans =\n",
      "\n",
      "  0x1 empty cell array\n",
      "\n",
      "\n",
      "ans =\n",
      "\n",
      "  0x1 empty cell array\n",
      "\n",
      "\n",
      "ans =\n",
      "\n",
      "  8x1 cell array\n",
      "\n",
      "    {'x_median_total_count'}\n",
      "    {'frac_gr_le0_30'      }\n",
      "    {'rcorr'               }\n",
      "    {'rcorr_rank'          }\n",
      "    {'broad_id'            }\n",
      "    {'pert_dose'           }\n",
      "    {'pert_id'             }\n",
      "    {'pert_idose'          }\n",
      "\n",
      "Saving HDF5 dataset to: /idi/cgtb/abond/combine_screens_456/pcls_for_manuscript_final/validate_new_pcls_thrsh_rank_le20_k_med_gap_den/pcls_all_no_loo_scoring_exclude_self/pcl_median_corr_n79873x1704.gctx...\n",
      "/0/DATA/0 exists, deleting\n",
      "Disabling compression.\n",
      "Setting chunk size to: 1000x262\n",
      "done [9.70s].\n",
      "\n",
      "ans =\n",
      "\n",
      "    '/idi/cgtb/abond/combine_screens_456/pcls_for_manuscript_final/validate_new_pcls_thrsh_rank_le20_k_med_gap_den/pcls_all_no_loo_scoring_exclude_self/pcl_median_corr_n79873x1704.gctx'\n",
      "\n",
      "median_corr_rank\n",
      "\n",
      "g =\n",
      "\n",
      "  1x1 cell array\n",
      "\n",
      "    {'/idi/cgtb/abond/combine_screens_456/pcls_for_manuscript_final/validate_new_pcls_thrsh_rank_le20_k_med_gap_den/pcls_all_no_loo_scoring_exclude_self/pcl_median_corr_rank_n79873x1704.gctx'}\n",
      "\n",
      "Reading /idi/cgtb/abond/combine_screens_456/pcls_for_manuscript_final/validate_new_pcls_thrsh_rank_le20_k_med_gap_den/pcls_all_no_loo_scoring_exclude_self/pcl_median_corr_rank_n79873x1704.gctx [1704x79873]\n",
      "Done [8.64 s].\n",
      "\n",
      "ans =\n",
      "\n",
      "  4x1 cell array\n",
      "\n",
      "    {'broad_id'  }\n",
      "    {'pert_dose' }\n",
      "    {'pert_id'   }\n",
      "    {'pert_idose'}\n",
      "\n",
      "\n",
      "ans =\n",
      "\n",
      "  0x1 empty cell array\n",
      "\n",
      "\n",
      "ans =\n",
      "\n",
      "  0x1 empty cell array\n",
      "\n",
      "\n",
      "ans =\n",
      "\n",
      "  8x1 cell array\n",
      "\n",
      "    {'x_median_total_count'}\n",
      "    {'frac_gr_le0_30'      }\n",
      "    {'rcorr'               }\n",
      "    {'rcorr_rank'          }\n",
      "    {'broad_id'            }\n",
      "    {'pert_dose'           }\n",
      "    {'pert_id'             }\n",
      "    {'pert_idose'          }\n",
      "\n",
      "Saving HDF5 dataset to: /idi/cgtb/abond/combine_screens_456/pcls_for_manuscript_final/validate_new_pcls_thrsh_rank_le20_k_med_gap_den/pcls_all_no_loo_scoring_exclude_self/pcl_median_corr_rank_n79873x1704.gctx...\n",
      "/0/DATA/0 exists, deleting\n",
      "Disabling compression.\n",
      "Setting chunk size to: 1000x262\n",
      "done [6.30s].\n",
      "\n",
      "ans =\n",
      "\n",
      "    '/idi/cgtb/abond/combine_screens_456/pcls_for_manuscript_final/validate_new_pcls_thrsh_rank_le20_k_med_gap_den/pcls_all_no_loo_scoring_exclude_self/pcl_median_corr_rank_n79873x1704.gctx'\n",
      "\n",
      "median_corr_rank_div_group_size\n",
      "\n",
      "g =\n",
      "\n",
      "  1x1 cell array\n",
      "\n",
      "    {'/idi/cgtb/abond/combine_screens_456/pcls_for_manuscript_final/validate_new_pcls_thrsh_rank_le20_k_med_gap_den/pcls_all_no_loo_scoring_exclude_self/pcl_median_corr_rank_div_group_size_n79873x1704.gctx'}\n",
      "\n",
      "Reading /idi/cgtb/abond/combine_screens_456/pcls_for_manuscript_final/validate_new_pcls_thrsh_rank_le20_k_med_gap_den/pcls_all_no_loo_scoring_exclude_self/pcl_median_corr_rank_div_group_size_n79873x1704.gctx [1704x79873]\n",
      "Done [8.69 s].\n",
      "\n",
      "ans =\n",
      "\n",
      "  4x1 cell array\n",
      "\n",
      "    {'broad_id'  }\n",
      "    {'pert_dose' }\n",
      "    {'pert_id'   }\n",
      "    {'pert_idose'}\n",
      "\n",
      "\n",
      "ans =\n",
      "\n",
      "  0x1 empty cell array\n",
      "\n",
      "\n",
      "ans =\n",
      "\n",
      "  0x1 empty cell array\n",
      "\n",
      "\n",
      "ans =\n",
      "\n",
      "  8x1 cell array\n",
      "\n",
      "    {'x_median_total_count'}\n",
      "    {'frac_gr_le0_30'      }\n",
      "    {'rcorr'               }\n",
      "    {'rcorr_rank'          }\n",
      "    {'broad_id'            }\n",
      "    {'pert_dose'           }\n",
      "    {'pert_id'             }\n",
      "    {'pert_idose'          }\n",
      "\n",
      "Saving HDF5 dataset to: /idi/cgtb/abond/combine_screens_456/pcls_for_manuscript_final/validate_new_pcls_thrsh_rank_le20_k_med_gap_den/pcls_all_no_loo_scoring_exclude_self/pcl_median_corr_rank_div_group_size_n79873x1704.gctx...\n",
      "/0/DATA/0 exists, deleting\n",
      "Disabling compression.\n",
      "Setting chunk size to: 1000x262\n",
      "done [5.73s].\n",
      "\n",
      "ans =\n",
      "\n",
      "    '/idi/cgtb/abond/combine_screens_456/pcls_for_manuscript_final/validate_new_pcls_thrsh_rank_le20_k_med_gap_den/pcls_all_no_loo_scoring_exclude_self/pcl_median_corr_rank_div_group_size_n79873x1704.gctx'\n",
      "\n"
     ]
    }
   ],
   "source": [
    "% Create gcts\n",
    "fields = {'median_corr','median_corr_rank','median_corr_rank_div_group_size'};\n",
    "\n",
    "for ii = 1:numel(fields)\n",
    "    disp(fields{ii})\n",
    "    g = glob(fullfile(wkdir,strcat('pcl_',fields{ii},'_n*.gctx')))\n",
    "    s = parse_gctx(g{1});\n",
    "    s.chd\n",
    "    s.cid(~ismember(s.cid, rr.cid))\n",
    "    s.cid(~ismember(s.cid, fgr.cid))\n",
    "    s = annotate_ds(s,table2struct(rr(:,{'cid','rcorr','rcorr_rank'})),'dim','column','keyfield','cid');\n",
    "    s = annotate_ds(s,table2struct(fgr(:,{'cid','x_median_total_count','frac_gr_le0_30'})),'dim','column','keyfield','cid');\n",
    "    s.chd\n",
    "    \n",
    "    mkgctx(fullfile(wkdir,strcat('pcl_',fields{ii})), s)\n",
    "end"
   ]
  },
  {
   "cell_type": "code",
   "execution_count": 18,
   "metadata": {},
   "outputs": [
    {
     "name": "stdout",
     "output_type": "stream",
     "text": [
      "\n",
      "ans =\n",
      "\n",
      "  8x1 cell array\n",
      "\n",
      "    {'x_median_total_count'}\n",
      "    {'frac_gr_le0_30'      }\n",
      "    {'rcorr'               }\n",
      "    {'rcorr_rank'          }\n",
      "    {'broad_id'            }\n",
      "    {'pert_dose'           }\n",
      "    {'pert_id'             }\n",
      "    {'pert_idose'          }\n",
      "\n",
      "\n",
      "ans =\n",
      "\n",
      "  5x1 cell array\n",
      "\n",
      "    {'num_pert_id_unique'}\n",
      "    {'pcl_broad_id'      }\n",
      "    {'pcl_desc'          }\n",
      "    {'pcl_pert_id'       }\n",
      "    {'pcl_size'          }\n",
      "\n"
     ]
    }
   ],
   "source": [
    "s.chd\n",
    "s.rhd"
   ]
  }
 ],
 "metadata": {
  "kernelspec": {
   "display_name": "MATLAB",
   "language": "matlab",
   "name": "imatlab"
  },
  "language_info": {
   "codemirror_mode": "octave",
   "file_extension": ".m",
   "mimetype": "text/x-matlab",
   "name": "matlab",
   "nbconvert_exporter": "imatlab._exporter.MatlabExporter",
   "pygments_lexer": "matlab",
   "version": "9.8.0.1323502 (R2020a)"
  }
 },
 "nbformat": 4,
 "nbformat_minor": 4
}
