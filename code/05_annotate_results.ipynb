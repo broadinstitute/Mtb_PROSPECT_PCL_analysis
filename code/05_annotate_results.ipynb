{
 "cells": [
  {
   "cell_type": "markdown",
   "metadata": {},
   "source": [
    "## Start"
   ]
  },
  {
   "cell_type": "code",
   "execution_count": null,
   "metadata": {},
   "outputs": [],
   "source": [
    "datadir = '../data';\n",
    "wkdir = '../results';\n",
    "\n",
    "mk_cd_dir(wkdir, false);\n",
    "%imatlab_export_fig('print-png')\n",
    "\n",
    "% loocv inputs\n",
    "\n",
    "prepare_loocv = true\n",
    "\n",
    "demo_loocv = true\n",
    "\n",
    "demo_loocv_number_or_list = 'number' % 'number' or 'list'\n",
    "\n",
    "demo_loocv_number_cmpds = 2\n",
    "\n",
    "demo_loocv_list_cmpds = {'BRD-K04804440','BRD-K01507359','BRD-K87202646','BRD-K59853741', 'BRD-K27302037'} % Ciprofloxacin, Rifampin, Isoniazid, Q203, Thioacetazone\n",
    "\n",
    "results_subdir_prefix = 'loocv_pcls/leave_out_cmpd_'\n",
    "\n",
    "loocv_save_out = false % save tabular file for each treatment's PCL similarity score\n",
    "\n",
    "\n",
    "% general inputs\n",
    "\n",
    "rr_path = fullfile(datadir, 'replicate_correlation_all.txt')\n",
    "\n",
    "fgr_path = fullfile(datadir, 'fraction_gr.txt')\n",
    "\n",
    "% previous Spectral Clustering inputs\n",
    "\n",
    "thrsh_rank = 20 % threshold for average pairwise rank of correlation across KABX to connect treatments as mutual nearest-neighbors\n",
    "\n",
    "dynamic_thrsh_per_moa = false % if true then threshold is round(log(size of MOA) * thrsh_rank), otherwise identical threshold for every MOA\n",
    "\n",
    "k_type = 'k_med_gap_den' % eigengap heuristic to take for estimating number of K clusters: k_num_zero, k_num_zero_plus_one, k_med_gap_den, k_gap_den (see create_laplacian_matrix.m for additional information)\n",
    "\n",
    "if dynamic_thrsh_per_moa\n",
    "    outdir_name = sprintf('pcls_spectral_clustering_thrsh_rank_le%dxlogsize_%s', thrsh_rank, k_type) % log(MOA size), i.e. the number of treatments/dsCGI profiles in the MOA\n",
    "else\n",
    "    outdir_name = sprintf('pcls_spectral_clustering_thrsh_rank_le%d_%s', thrsh_rank, k_type)\n",
    "end\n",
    "\n",
    "outdir = fullfile(wkdir, outdir_name)\n",
    "\n",
    "mk_cd_dir(outdir, false);"
   ]
  },
  {
   "cell_type": "code",
   "execution_count": 5,
   "metadata": {},
   "outputs": [
    {
     "name": "stdout",
     "output_type": "stream",
     "text": [
      "\n",
      "ans =\n",
      "\n",
      "  logical\n",
      "\n",
      "   1\n",
      "\n",
      "\n",
      "ans =\n",
      "\n",
      "  logical\n",
      "\n",
      "   1\n",
      "\n",
      "\n",
      "ans =\n",
      "\n",
      "  logical\n",
      "\n",
      "   1\n",
      "\n"
     ]
    }
   ],
   "source": [
    "exist(rr_path) > 0\n",
    "exist(fgr_path) > 0"
   ]
  },
  {
   "cell_type": "markdown",
   "metadata": {
    "tags": []
   },
   "source": [
    "## Add replicate reproducibility "
   ]
  },
  {
   "cell_type": "code",
   "execution_count": 11,
   "metadata": {},
   "outputs": [
    {
     "name": "stdout",
     "output_type": "stream",
     "text": [
      "Reading /idi/cgtb/morzech/idmp/combine_screens_456/replicate_correlation_all.txt\n",
      "\n"
     ]
    }
   ],
   "source": [
    "rr = rtable(rr_path);"
   ]
  },
  {
   "cell_type": "code",
   "execution_count": 12,
   "metadata": {},
   "outputs": [
    {
     "name": "stdout",
     "output_type": "stream",
     "text": [
      "\n",
      "ans =\n",
      "\n",
      "       79879           5\n",
      "\n",
      "\n",
      "ans =\n",
      "\n",
      "  5x3 table\n",
      "\n",
      "    idx           field                                     value                         \n",
      "    ___    ____________________    _______________________________________________________\n",
      "\n",
      "     1     {'count_replicates'}    {[                                                  2]}\n",
      "     2     {'max_rcorr'       }    {[                                             0.2286]}\n",
      "     3     {'rcorr'           }    {[                                             0.2286]}\n",
      "     4     {'rcorr_rank'      }    {[                                             0.0264]}\n",
      "     5     {'cid'             }    {'screen_bi1_tbda2:BRD-A00011930-001-01-7:50.000000uM'}\n",
      "\n"
     ]
    }
   ],
   "source": [
    "size(rr)\n",
    "headt(rr)"
   ]
  },
  {
   "cell_type": "markdown",
   "metadata": {
    "tags": []
   },
   "source": [
    "## Add fraction of GR"
   ]
  },
  {
   "cell_type": "code",
   "execution_count": 13,
   "metadata": {},
   "outputs": [
    {
     "name": "stdout",
     "output_type": "stream",
     "text": [
      "Reading /idi/cgtb/morzech/idmp/combine_screens_456/fraction_gr.txt\n",
      "\n"
     ]
    }
   ],
   "source": [
    "fgr = rtable(fgr_path);"
   ]
  },
  {
   "cell_type": "code",
   "execution_count": 14,
   "metadata": {
    "tags": []
   },
   "outputs": [
    {
     "name": "stdout",
     "output_type": "stream",
     "text": [
      "\n",
      "ans =\n",
      "\n",
      "       79873           4\n",
      "\n",
      "\n",
      "ans =\n",
      "\n",
      "  4x3 table\n",
      "\n",
      "    idx             field                                 value                   \n",
      "    ___    ________________________    ___________________________________________\n",
      "\n",
      "     1     {'cid'                 }    {'kabx2:BRD-A01514287-001-01-8:0.097500uM'}\n",
      "     2     {'x_median_total_count'}    {[                                 396223]}\n",
      "     3     {'sum_gr_le0_30'       }    {[                                      0]}\n",
      "     4     {'frac_gr_le0_30'      }    {[                                      0]}\n",
      "\n"
     ]
    }
   ],
   "source": [
    "size(fgr)\n",
    "headt(fgr)"
   ]
  },
  {
   "cell_type": "code",
   "execution_count": 15,
   "metadata": {
    "tags": []
   },
   "outputs": [
    {
     "name": "stdout",
     "output_type": "stream",
     "text": [
      "\n",
      "ans =\n",
      "\n",
      "  6x1 cell array\n",
      "\n",
      "    {'screen4wk_screen5wk_kabx2_tbda1:DMSO:0uM'}\n",
      "    {'screen5_wk:DMSO:0uM'                     }\n",
      "    {'screen5cp:DMSO:0uM'                      }\n",
      "    {'screen6:DMSO:0.000000uM'                 }\n",
      "    {'screen_bi1_tbda2:DMSO:0uM'               }\n",
      "    {'screen_bi2_kabxlow:DMSO:0uM'             }\n",
      "\n"
     ]
    }
   ],
   "source": [
    "rr.cid(~ismember(rr.cid, fgr.cid))"
   ]
  },
  {
   "cell_type": "code",
   "execution_count": 16,
   "metadata": {
    "tags": []
   },
   "outputs": [
    {
     "name": "stdout",
     "output_type": "stream",
     "text": [
      "\n",
      "ans =\n",
      "\n",
      "  0x1 empty cell array\n",
      "\n"
     ]
    }
   ],
   "source": [
    "fgr.cid(~ismember(fgr.cid, rr.cid))"
   ]
  },
  {
   "cell_type": "markdown",
   "metadata": {},
   "source": [
    "## Full model section"
   ]
  },
  {
   "cell_type": "code",
   "execution_count": 6,
   "metadata": {},
   "outputs": [
    {
     "name": "stdout",
     "output_type": "stream",
     "text": [
      "ds_corr_n7225x9427.gctx\n",
      "ds_corr_rank_n7225x9427.gctx\n",
      "pcl_median_corr_n9427x1889.gctx\n",
      "pcl_median_corr_rank_div_group_size_n9427x1889.gctx\n",
      "pcl_median_corr_rank_n9427x1889.gctx\n",
      "\n"
     ]
    }
   ],
   "source": [
    "ls(outdir)"
   ]
  },
  {
   "cell_type": "markdown",
   "metadata": {
    "tags": []
   },
   "source": [
    "### Add replicate reproducibility and fraction of GR to existing GCTs"
   ]
  },
  {
   "cell_type": "code",
   "execution_count": 17,
   "metadata": {
    "collapsed": true,
    "jupyter": {
     "outputs_hidden": true
    },
    "tags": []
   },
   "outputs": [
    {
     "name": "stdout",
     "output_type": "stream",
     "text": [
      "median_corr\n",
      "\n",
      "g =\n",
      "\n",
      "  1x1 cell array\n",
      "\n",
      "    {'/idi/cgtb/abond/combine_screens_456/pcls_for_manuscript_final/validate_new_pcls_thrsh_rank_le20_k_med_gap_den/pcls_all_no_loo_scoring_exclude_self/pcl_median_corr_n79873x1704.gctx'}\n",
      "\n",
      "Reading /idi/cgtb/abond/combine_screens_456/pcls_for_manuscript_final/validate_new_pcls_thrsh_rank_le20_k_med_gap_den/pcls_all_no_loo_scoring_exclude_self/pcl_median_corr_n79873x1704.gctx [1704x79873]\n",
      "Done [6.27 s].\n",
      "\n",
      "ans =\n",
      "\n",
      "  4x1 cell array\n",
      "\n",
      "    {'broad_id'  }\n",
      "    {'pert_dose' }\n",
      "    {'pert_id'   }\n",
      "    {'pert_idose'}\n",
      "\n",
      "\n",
      "ans =\n",
      "\n",
      "  0x1 empty cell array\n",
      "\n",
      "\n",
      "ans =\n",
      "\n",
      "  0x1 empty cell array\n",
      "\n",
      "\n",
      "ans =\n",
      "\n",
      "  8x1 cell array\n",
      "\n",
      "    {'x_median_total_count'}\n",
      "    {'frac_gr_le0_30'      }\n",
      "    {'rcorr'               }\n",
      "    {'rcorr_rank'          }\n",
      "    {'broad_id'            }\n",
      "    {'pert_dose'           }\n",
      "    {'pert_id'             }\n",
      "    {'pert_idose'          }\n",
      "\n",
      "Saving HDF5 dataset to: /idi/cgtb/abond/combine_screens_456/pcls_for_manuscript_final/validate_new_pcls_thrsh_rank_le20_k_med_gap_den/pcls_all_no_loo_scoring_exclude_self/pcl_median_corr_n79873x1704.gctx...\n",
      "/0/DATA/0 exists, deleting\n",
      "Disabling compression.\n",
      "Setting chunk size to: 1000x262\n",
      "done [9.70s].\n",
      "\n",
      "ans =\n",
      "\n",
      "    '/idi/cgtb/abond/combine_screens_456/pcls_for_manuscript_final/validate_new_pcls_thrsh_rank_le20_k_med_gap_den/pcls_all_no_loo_scoring_exclude_self/pcl_median_corr_n79873x1704.gctx'\n",
      "\n",
      "median_corr_rank\n",
      "\n",
      "g =\n",
      "\n",
      "  1x1 cell array\n",
      "\n",
      "    {'/idi/cgtb/abond/combine_screens_456/pcls_for_manuscript_final/validate_new_pcls_thrsh_rank_le20_k_med_gap_den/pcls_all_no_loo_scoring_exclude_self/pcl_median_corr_rank_n79873x1704.gctx'}\n",
      "\n",
      "Reading /idi/cgtb/abond/combine_screens_456/pcls_for_manuscript_final/validate_new_pcls_thrsh_rank_le20_k_med_gap_den/pcls_all_no_loo_scoring_exclude_self/pcl_median_corr_rank_n79873x1704.gctx [1704x79873]\n",
      "Done [8.64 s].\n",
      "\n",
      "ans =\n",
      "\n",
      "  4x1 cell array\n",
      "\n",
      "    {'broad_id'  }\n",
      "    {'pert_dose' }\n",
      "    {'pert_id'   }\n",
      "    {'pert_idose'}\n",
      "\n",
      "\n",
      "ans =\n",
      "\n",
      "  0x1 empty cell array\n",
      "\n",
      "\n",
      "ans =\n",
      "\n",
      "  0x1 empty cell array\n",
      "\n",
      "\n",
      "ans =\n",
      "\n",
      "  8x1 cell array\n",
      "\n",
      "    {'x_median_total_count'}\n",
      "    {'frac_gr_le0_30'      }\n",
      "    {'rcorr'               }\n",
      "    {'rcorr_rank'          }\n",
      "    {'broad_id'            }\n",
      "    {'pert_dose'           }\n",
      "    {'pert_id'             }\n",
      "    {'pert_idose'          }\n",
      "\n",
      "Saving HDF5 dataset to: /idi/cgtb/abond/combine_screens_456/pcls_for_manuscript_final/validate_new_pcls_thrsh_rank_le20_k_med_gap_den/pcls_all_no_loo_scoring_exclude_self/pcl_median_corr_rank_n79873x1704.gctx...\n",
      "/0/DATA/0 exists, deleting\n",
      "Disabling compression.\n",
      "Setting chunk size to: 1000x262\n",
      "done [6.30s].\n",
      "\n",
      "ans =\n",
      "\n",
      "    '/idi/cgtb/abond/combine_screens_456/pcls_for_manuscript_final/validate_new_pcls_thrsh_rank_le20_k_med_gap_den/pcls_all_no_loo_scoring_exclude_self/pcl_median_corr_rank_n79873x1704.gctx'\n",
      "\n",
      "median_corr_rank_div_group_size\n",
      "\n",
      "g =\n",
      "\n",
      "  1x1 cell array\n",
      "\n",
      "    {'/idi/cgtb/abond/combine_screens_456/pcls_for_manuscript_final/validate_new_pcls_thrsh_rank_le20_k_med_gap_den/pcls_all_no_loo_scoring_exclude_self/pcl_median_corr_rank_div_group_size_n79873x1704.gctx'}\n",
      "\n",
      "Reading /idi/cgtb/abond/combine_screens_456/pcls_for_manuscript_final/validate_new_pcls_thrsh_rank_le20_k_med_gap_den/pcls_all_no_loo_scoring_exclude_self/pcl_median_corr_rank_div_group_size_n79873x1704.gctx [1704x79873]\n",
      "Done [8.69 s].\n",
      "\n",
      "ans =\n",
      "\n",
      "  4x1 cell array\n",
      "\n",
      "    {'broad_id'  }\n",
      "    {'pert_dose' }\n",
      "    {'pert_id'   }\n",
      "    {'pert_idose'}\n",
      "\n",
      "\n",
      "ans =\n",
      "\n",
      "  0x1 empty cell array\n",
      "\n",
      "\n",
      "ans =\n",
      "\n",
      "  0x1 empty cell array\n",
      "\n",
      "\n",
      "ans =\n",
      "\n",
      "  8x1 cell array\n",
      "\n",
      "    {'x_median_total_count'}\n",
      "    {'frac_gr_le0_30'      }\n",
      "    {'rcorr'               }\n",
      "    {'rcorr_rank'          }\n",
      "    {'broad_id'            }\n",
      "    {'pert_dose'           }\n",
      "    {'pert_id'             }\n",
      "    {'pert_idose'          }\n",
      "\n",
      "Saving HDF5 dataset to: /idi/cgtb/abond/combine_screens_456/pcls_for_manuscript_final/validate_new_pcls_thrsh_rank_le20_k_med_gap_den/pcls_all_no_loo_scoring_exclude_self/pcl_median_corr_rank_div_group_size_n79873x1704.gctx...\n",
      "/0/DATA/0 exists, deleting\n",
      "Disabling compression.\n",
      "Setting chunk size to: 1000x262\n",
      "done [5.73s].\n",
      "\n",
      "ans =\n",
      "\n",
      "    '/idi/cgtb/abond/combine_screens_456/pcls_for_manuscript_final/validate_new_pcls_thrsh_rank_le20_k_med_gap_den/pcls_all_no_loo_scoring_exclude_self/pcl_median_corr_rank_div_group_size_n79873x1704.gctx'\n",
      "\n"
     ]
    }
   ],
   "source": [
    "% Create gcts\n",
    "fields = {'pcl_similarity_score','pcl_and_moa_agree'};\n",
    "\n",
    "for ii = 1:numel(fields)\n",
    "    disp(fields{ii})\n",
    "    g = glob(fullfile(outdir,strcat(fields{ii},'_n*.gctx')))\n",
    "    s = parse_gctx(g{1});\n",
    "    s.chd\n",
    "    s.cid(~ismember(s.cid, rr.cid))\n",
    "    s.cid(~ismember(s.cid, fgr.cid))\n",
    "    s = annotate_ds(s,table2struct(rr(:,{'cid','rcorr','rcorr_rank'})),'dim','column','keyfield','cid');\n",
    "    s = annotate_ds(s,table2struct(fgr(:,{'cid','x_median_total_count','frac_gr_le0_30'})),'dim','column','keyfield','cid');\n",
    "    s.chd\n",
    "    \n",
    "    mkgctx(fullfile(outdir,strcat(fields{ii})), s)\n",
    "end"
   ]
  },
  {
   "cell_type": "code",
   "execution_count": 18,
   "metadata": {},
   "outputs": [
    {
     "name": "stdout",
     "output_type": "stream",
     "text": [
      "\n",
      "ans =\n",
      "\n",
      "  8x1 cell array\n",
      "\n",
      "    {'x_median_total_count'}\n",
      "    {'frac_gr_le0_30'      }\n",
      "    {'rcorr'               }\n",
      "    {'rcorr_rank'          }\n",
      "    {'broad_id'            }\n",
      "    {'pert_dose'           }\n",
      "    {'pert_id'             }\n",
      "    {'pert_idose'          }\n",
      "\n",
      "\n",
      "ans =\n",
      "\n",
      "  5x1 cell array\n",
      "\n",
      "    {'num_pert_id_unique'}\n",
      "    {'pcl_broad_id'      }\n",
      "    {'pcl_desc'          }\n",
      "    {'pcl_pert_id'       }\n",
      "    {'pcl_size'          }\n",
      "\n"
     ]
    }
   ],
   "source": [
    "s.chd\n",
    "s.rhd"
   ]
  },
  {
   "cell_type": "markdown",
   "metadata": {},
   "source": [
    "## LOOCV section"
   ]
  },
  {
   "cell_type": "code",
   "execution_count": null,
   "metadata": {},
   "outputs": [],
   "source": [
    "if prepare_loocv\n",
    "\n",
    "    unique_kabx_cmpds_tbl = rtable(unique_kabx_cmpds_tbl_path);\n",
    "\n",
    "    size(unique_kabx_cmpds_tbl)\n",
    "    headt(unique_kabx_cmpds_tbl)\n",
    "    \n",
    "    unique_kabx_cmpds_list = unique(unique_kabx_cmpds_tbl.kabx_cmpd);\n",
    "\n",
    "    length(unique_kabx_cmpds_list)\n",
    "    \n",
    "    number_of_cmpds_loocv = length(unique_kabx_cmpds_list)\n",
    "    \n",
    "    if demo_loocv\n",
    "       if strcmp(demo_loocv_number_or_list, 'number')\n",
    "           number_of_cmpds_loocv = max(1, demo_loocv_number_cmpds)\n",
    "           \n",
    "           index_cmpds_loocv = 1:number_of_cmpds_loocv\n",
    "           \n",
    "       elseif strcmp(demo_loocv_number_or_list, 'list')\n",
    "           number_of_cmpds_loocv = length(demo_loocv_list_cmpds)\n",
    "           \n",
    "           index_cmpds_loocv = find(ismember(unique_kabx_cmpds_list, demo_loocv_list_cmpds))'\n",
    "       else\n",
    "           error('Invalid input for demo_loocv_number_or_list: number or list')\n",
    "       end\n",
    "    end\n",
    "    \n",
    "    for i = index_cmpds_loocv\n",
    "    \n",
    "        % If the current iteration number is a multiple of 50\n",
    "        if mod(i, 50) == 0\n",
    "            % Print a status message\n",
    "            fprintf('Currently at iteration %d\\n', i);\n",
    "        end\n",
    "\n",
    "        leave_out_cmpd = unique_kabx_cmpds_list(i);\n",
    "        \n",
    "        loo_wkdir = fullfile(wkdir, strcat(results_subdir_prefix, strjoin(unique_kabx_cmpds_list(i))));\n",
    "\n",
    "        mk_cd_dir(loo_wkdir, false);\n",
    "        \n",
    "        loo_outdir = fullfile(loo_wkdir, outdir_name)\n",
    "        \n",
    "        mk_cd_dir(loo_outdir, false);\n",
    "        \n",
    "        % step specific commands\n",
    "    \n",
    "        ls(loo_outdir)\n",
    "        \n",
    "        % Add replicate reproducibility and fraction of GR to existing GCTs\n",
    "        \n",
    "        % Create gcts\n",
    "        fields = {'pcl_similarity_score','pcl_and_moa_agree'};\n",
    "\n",
    "        for ii = 1:numel(fields)\n",
    "            disp(fields{ii})\n",
    "            g = glob(fullfile(loo_outdir,strcat(fields{ii},'_n*.gctx')))\n",
    "            s = parse_gctx(g{1});\n",
    "            s.chd\n",
    "            s.cid(~ismember(s.cid, rr.cid))\n",
    "            s.cid(~ismember(s.cid, fgr.cid))\n",
    "            s = annotate_ds(s,table2struct(rr(:,{'cid','rcorr','rcorr_rank'})),'dim','column','keyfield','cid');\n",
    "            s = annotate_ds(s,table2struct(fgr(:,{'cid','x_median_total_count','frac_gr_le0_30'})),'dim','column','keyfield','cid');\n",
    "            s.chd\n",
    "\n",
    "            mkgctx(fullfile(loo_outdir,strcat(fields{ii})), s)\n",
    "        end\n",
    "        \n",
    "        s.chd\n",
    "        s.rhd\n",
    "\n",
    "    end\n",
    "    \n",
    "end"
   ]
  }
 ],
 "metadata": {
  "kernelspec": {
   "display_name": "MATLAB",
   "language": "matlab",
   "name": "imatlab"
  },
  "language_info": {
   "codemirror_mode": "octave",
   "file_extension": ".m",
   "mimetype": "text/x-matlab",
   "name": "matlab",
   "nbconvert_exporter": "imatlab._exporter.MatlabExporter",
   "pygments_lexer": "matlab",
   "version": "9.8.0.1323502 (R2020a)"
  }
 },
 "nbformat": 4,
 "nbformat_minor": 4
}
