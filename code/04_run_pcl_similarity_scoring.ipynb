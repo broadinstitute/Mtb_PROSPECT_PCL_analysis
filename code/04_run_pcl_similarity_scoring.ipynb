{
 "cells": [
  {
   "cell_type": "markdown",
   "id": "82cbb6e7-89ea-4d4b-9d45-e320506270c4",
   "metadata": {},
   "source": [
    "# Start"
   ]
  },
  {
   "cell_type": "code",
   "execution_count": null,
   "id": "ebc69153-ef44-470f-951a-d9c4ee083ff3",
   "metadata": {},
   "outputs": [],
   "source": [
    "datadir = '../data';\n",
    "wkdir = '../results';\n",
    "\n",
    "mk_cd_dir(wkdir, false);\n",
    "%imatlab_export_fig('print-png')\n",
    "\n",
    "% loocv inputs\n",
    "\n",
    "prepare_loocv = true\n",
    "\n",
    "demo_loocv = true\n",
    "\n",
    "demo_loocv_number_or_list = 'number' % 'number' or 'list'\n",
    "\n",
    "demo_loocv_number_cmpds = 2\n",
    "\n",
    "demo_loocv_list_cmpds = {'BRD-K04804440','BRD-K01507359','BRD-K87202646','BRD-K59853741', 'BRD-K27302037'} % Ciprofloxacin, Rifampin, Isoniazid, Q203, Thioacetazone\n",
    "\n",
    "results_subdir_prefix = 'loocv_pcls/leave_out_cmpd_'\n",
    "\n",
    "loocv_save_fig = true % .png files of spectral clustering input and output\n",
    "\n",
    "loocv_save_out = true % save tabular and gmt files for each MOA separately with the output of spectral clsutering\n",
    "\n",
    "\n",
    "% general inputs\n",
    "\n",
    "unique_kabx_cmpds_tbl_path = '../results/kabx_pert_ids_tbl_for_loocv.txt'\n",
    "\n",
    "moa_figdir = 'verify_moas/figures'\n",
    "\n",
    "moa_gctdir = 'verify_moas/gcts'\n",
    "\n",
    "corr_for_pcls_savepath = 'sGR_for_pcls_pearson_corr'\n",
    "\n",
    "corr_rank_for_pcls_savepath = 'sGR_for_pcls_pearson_corr_rank'\n",
    "\n",
    "moa_gmt_savepath = 'moas.gmt'\n",
    "\n",
    "save_fig = true % .png files of spectral clustering input and output\n",
    "\n",
    "save_out = true % save tabular and gmt files for each MOA separately with the output of spectral clsutering\n",
    "\n",
    "\n",
    "% Similarity scoring inputs\n",
    "\n",
    "rng_seed = 0; % specified seed for initializing the random number generator, Matlab factory default is the Mersenne Twister generator with seed 0 (see spectral_clustering_for_pcls.m for additional information)\n",
    "\n",
    "thrsh_rank = 20 % threshold for average pairwise rank of correlation across KABX to connect treatments as mutual nearest-neighbors\n",
    "\n",
    "thrsh_factor = 1; % factor to multiply by thrsh_rank if dynamic_thrsh_per_moa is false; default is 1\n",
    "\n",
    "dynamic_thrsh_per_moa = false % if true then threshold is round(log(size of MOA) * thrsh_rank), otherwise identical threshold for every MOA\n",
    "\n",
    "k_type = 'k_med_gap_den' % eigengap heuristic to take for estimating number of K clusters: k_num_zero, k_num_zero_plus_one, k_med_gap_den, k_gap_den (see create_laplacian_matrix.m for additional information)\n",
    "\n",
    "\n",
    "% outputs\n",
    "\n",
    "if dynamic_thrsh_per_moa\n",
    "    outdir_name = sprintf('clusters_spectral_clustering_thrsh_rank_le%dxlogsize_%s', thrsh_rank, k_type) % log(MOA size), i.e. the number of treatments/dsCGI profiles in the MOA\n",
    "else\n",
    "    outdir_name = sprintf('clusters_spectral_clustering_thrsh_rank_le%d_%s', thrsh_rank, k_type)\n",
    "end\n",
    "\n",
    "outdir = fullfile(wkdir, outdir_name)\n",
    "\n",
    "moa_k_values_filename = 'k_values.txt'\n",
    "\n",
    "clusters_tbl_incl_singletons_filename = 'clusters_spectral_clust_including_singletons.txt'\n",
    "\n",
    "clusters_tbl_filename = 'clusters_spectral_clust.txt'\n",
    "\n",
    "clusters_gmt_filename = 'clusters_spectral_clust.gmt'"
   ]
  },
  {
   "cell_type": "markdown",
   "id": "5334a51a-410e-491f-8b76-2b27753e9b90",
   "metadata": {},
   "source": [
    "# Run PCL similarity scoring "
   ]
  },
  {
   "cell_type": "code",
   "execution_count": null,
   "id": "e5c07d58-6482-4192-87eb-4cc88a4beac2",
   "metadata": {},
   "outputs": [],
   "source": []
  },
  {
   "cell_type": "markdown",
   "id": "ca12031d-76f5-459b-bec9-d9b390e294ac",
   "metadata": {},
   "source": [
    "# LOOCV section"
   ]
  },
  {
   "cell_type": "code",
   "execution_count": null,
   "id": "544b1d11-7306-4088-b4b3-7dce156806c3",
   "metadata": {},
   "outputs": [],
   "source": []
  }
 ],
 "metadata": {
  "kernelspec": {
   "display_name": "MATLAB",
   "language": "matlab",
   "name": "imatlab"
  },
  "language_info": {
   "name": ""
  }
 },
 "nbformat": 4,
 "nbformat_minor": 5
}
