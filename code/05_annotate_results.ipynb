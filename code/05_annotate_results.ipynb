{
 "cells": [
  {
   "cell_type": "markdown",
   "metadata": {},
   "source": [
    "## Start"
   ]
  },
  {
   "cell_type": "code",
   "execution_count": null,
   "metadata": {},
   "outputs": [],
   "source": [
    "datadir = '../data';\n",
    "wkdir = '../results';\n",
    "\n",
    "mk_cd_dir(wkdir, false);\n",
    "%imatlab_export_fig('print-png')\n",
    "\n",
    "% loocv inputs\n",
    "\n",
    "prepare_loocv = true\n",
    "\n",
    "demo_loocv = true\n",
    "\n",
    "demo_loocv_number_or_list = 'number' % 'number' or 'list'\n",
    "\n",
    "demo_loocv_number_cmpds = 2\n",
    "\n",
    "demo_loocv_list_cmpds = {'BRD-K04804440','BRD-K01507359','BRD-K87202646','BRD-K59853741', 'BRD-K27302037'} % Ciprofloxacin, Rifampin, Isoniazid, Q203, Thioacetazone\n",
    "\n",
    "results_subdir_prefix = 'loocv_pcls/leave_out_cmpd_'\n",
    "\n",
    "loocv_save_out = false % save tabular file for each treatment's PCL similarity score\n",
    "\n",
    "\n",
    "% general inputs\n",
    "\n",
    "rr_path = fullfile(datadir, 'replicate_correlation.txt')\n",
    "\n",
    "fgr_path = fullfile(datadir, 'fraction_gr.txt')\n",
    "\n",
    "% previous Spectral Clustering inputs\n",
    "\n",
    "thrsh_rank = 20 % threshold for average pairwise rank of correlation across KABX to connect treatments as mutual nearest-neighbors\n",
    "\n",
    "dynamic_thrsh_per_moa = false % if true then threshold is round(log(size of MOA) * thrsh_rank), otherwise identical threshold for every MOA\n",
    "\n",
    "k_type = 'k_med_gap_den' % eigengap heuristic to take for estimating number of K clusters: k_num_zero, k_num_zero_plus_one, k_med_gap_den, k_gap_den (see create_laplacian_matrix.m for additional information)\n",
    "\n",
    "if dynamic_thrsh_per_moa\n",
    "    outdir_name = sprintf('pcls_spectral_clustering_thrsh_rank_le%dxlogsize_%s', thrsh_rank, k_type) % log(MOA size), i.e. the number of treatments/dsCGI profiles in the MOA\n",
    "else\n",
    "    outdir_name = sprintf('pcls_spectral_clustering_thrsh_rank_le%d_%s', thrsh_rank, k_type)\n",
    "end\n",
    "\n",
    "outdir = fullfile(wkdir, outdir_name)\n",
    "\n",
    "mk_cd_dir(outdir, false);"
   ]
  },
  {
   "cell_type": "code",
   "execution_count": null,
   "metadata": {},
   "outputs": [],
   "source": [
    "exist(rr_path) > 0\n",
    "exist(fgr_path) > 0"
   ]
  },
  {
   "cell_type": "markdown",
   "metadata": {
    "tags": []
   },
   "source": [
    "## Add replicate reproducibility "
   ]
  },
  {
   "cell_type": "code",
   "execution_count": null,
   "metadata": {},
   "outputs": [],
   "source": [
    "rr = rtable(rr_path);"
   ]
  },
  {
   "cell_type": "code",
   "execution_count": null,
   "metadata": {},
   "outputs": [],
   "source": [
    "size(rr)\n",
    "headt(rr)"
   ]
  },
  {
   "cell_type": "markdown",
   "metadata": {
    "tags": []
   },
   "source": [
    "## Add fraction of GR"
   ]
  },
  {
   "cell_type": "code",
   "execution_count": null,
   "metadata": {},
   "outputs": [],
   "source": [
    "fgr = rtable(fgr_path);"
   ]
  },
  {
   "cell_type": "code",
   "execution_count": null,
   "metadata": {
    "tags": []
   },
   "outputs": [],
   "source": [
    "size(fgr)\n",
    "headt(fgr)"
   ]
  },
  {
   "cell_type": "code",
   "execution_count": null,
   "metadata": {
    "tags": []
   },
   "outputs": [],
   "source": [
    "rr.cid(~ismember(rr.cid, fgr.cid))"
   ]
  },
  {
   "cell_type": "code",
   "execution_count": null,
   "metadata": {
    "tags": []
   },
   "outputs": [],
   "source": [
    "fgr.cid(~ismember(fgr.cid, rr.cid))"
   ]
  },
  {
   "cell_type": "markdown",
   "metadata": {},
   "source": [
    "## Full model section"
   ]
  },
  {
   "cell_type": "code",
   "execution_count": null,
   "metadata": {},
   "outputs": [],
   "source": [
    "ls(outdir)"
   ]
  },
  {
   "cell_type": "markdown",
   "metadata": {
    "tags": []
   },
   "source": [
    "### Add replicate reproducibility and fraction of GR to existing GCTs"
   ]
  },
  {
   "cell_type": "code",
   "execution_count": null,
   "metadata": {
    "tags": []
   },
   "outputs": [],
   "source": [
    "% Create gcts\n",
    "fields = {'cluster_median_corr','pcl_similarity_score','pcl_and_moa_agree'};\n",
    "\n",
    "for ii = 1:numel(fields)\n",
    "    disp(fields{ii})\n",
    "    g = glob(fullfile(outdir,strcat(fields{ii},'_n*.gctx')))\n",
    "    s = parse_gctx(g{1});\n",
    "    s.chd\n",
    "    s.cid(~ismember(s.cid, rr.cid))\n",
    "    s.cid(~ismember(s.cid, fgr.cid))\n",
    "    s = annotate_ds(s,table2struct(rr(:,{'cid','rcorr','rcorr_rank'})),'dim','column','keyfield','cid');\n",
    "    s = annotate_ds(s,table2struct(fgr(:,{'cid','x_median_total_count','frac_gr_le0_30'})),'dim','column','keyfield','cid');\n",
    "    s.chd\n",
    "    \n",
    "    mkgctx(fullfile(outdir,strcat(fields{ii})), s)\n",
    "end"
   ]
  },
  {
   "cell_type": "code",
   "execution_count": null,
   "metadata": {},
   "outputs": [],
   "source": [
    "s.chd\n",
    "s.rhd"
   ]
  },
  {
   "cell_type": "markdown",
   "metadata": {},
   "source": [
    "## LOOCV section"
   ]
  },
  {
   "cell_type": "code",
   "execution_count": null,
   "metadata": {},
   "outputs": [],
   "source": [
    "if prepare_loocv\n",
    "\n",
    "    unique_kabx_cmpds_tbl = rtable(unique_kabx_cmpds_tbl_path);\n",
    "\n",
    "    size(unique_kabx_cmpds_tbl)\n",
    "    headt(unique_kabx_cmpds_tbl)\n",
    "    \n",
    "    unique_kabx_cmpds_list = unique(unique_kabx_cmpds_tbl.kabx_cmpd);\n",
    "\n",
    "    length(unique_kabx_cmpds_list)\n",
    "    \n",
    "    number_of_cmpds_loocv = length(unique_kabx_cmpds_list)\n",
    "    \n",
    "    if demo_loocv\n",
    "       if strcmp(demo_loocv_number_or_list, 'number')\n",
    "           number_of_cmpds_loocv = max(1, demo_loocv_number_cmpds)\n",
    "           \n",
    "           index_cmpds_loocv = 1:number_of_cmpds_loocv\n",
    "           \n",
    "       elseif strcmp(demo_loocv_number_or_list, 'list')\n",
    "           number_of_cmpds_loocv = length(demo_loocv_list_cmpds)\n",
    "           \n",
    "           index_cmpds_loocv = find(ismember(unique_kabx_cmpds_list, demo_loocv_list_cmpds))'\n",
    "       else\n",
    "           error('Invalid input for demo_loocv_number_or_list: number or list')\n",
    "       end\n",
    "    end\n",
    "    \n",
    "    for i = index_cmpds_loocv\n",
    "    \n",
    "        % If the current iteration number is a multiple of 50\n",
    "        if mod(i, 50) == 0\n",
    "            % Print a status message\n",
    "            fprintf('Currently at iteration %d\\n', i);\n",
    "        end\n",
    "\n",
    "        leave_out_cmpd = unique_kabx_cmpds_list(i);\n",
    "        \n",
    "        loo_wkdir = fullfile(wkdir, strcat(results_subdir_prefix, strjoin(unique_kabx_cmpds_list(i))));\n",
    "\n",
    "        mk_cd_dir(loo_wkdir, false);\n",
    "        \n",
    "        loo_outdir = fullfile(loo_wkdir, outdir_name)\n",
    "        \n",
    "        mk_cd_dir(loo_outdir, false);\n",
    "        \n",
    "        % step specific commands\n",
    "    \n",
    "        ls(loo_outdir)\n",
    "        \n",
    "        % Add replicate reproducibility and fraction of GR to existing GCTs\n",
    "        \n",
    "        % Create gcts\n",
    "        fields = {'cluster_median_corr','pcl_similarity_score','pcl_and_moa_agree'};\n",
    "\n",
    "        for ii = 1:numel(fields)\n",
    "            disp(fields{ii})\n",
    "            g = glob(fullfile(loo_outdir,strcat(fields{ii},'_n*.gctx')))\n",
    "            s = parse_gctx(g{1});\n",
    "            s.chd\n",
    "            s.cid(~ismember(s.cid, rr.cid))\n",
    "            s.cid(~ismember(s.cid, fgr.cid))\n",
    "            s = annotate_ds(s,table2struct(rr(:,{'cid','rcorr','rcorr_rank'})),'dim','column','keyfield','cid');\n",
    "            s = annotate_ds(s,table2struct(fgr(:,{'cid','x_median_total_count','frac_gr_le0_30'})),'dim','column','keyfield','cid');\n",
    "            s.chd\n",
    "\n",
    "            mkgctx(fullfile(loo_outdir,strcat(fields{ii})), s)\n",
    "        end\n",
    "        \n",
    "        s.chd\n",
    "        s.rhd\n",
    "\n",
    "    end\n",
    "    \n",
    "end"
   ]
  }
 ],
 "metadata": {
  "kernelspec": {
   "display_name": "MATLAB",
   "language": "matlab",
   "name": "imatlab"
  },
  "language_info": {
   "codemirror_mode": "octave",
   "file_extension": ".m",
   "mimetype": "text/x-matlab",
   "name": "matlab",
   "nbconvert_exporter": "imatlab._exporter.MatlabExporter",
   "pygments_lexer": "matlab",
   "version": "9.8.0.1323502 (R2020a)"
  }
 },
 "nbformat": 4,
 "nbformat_minor": 4
}
