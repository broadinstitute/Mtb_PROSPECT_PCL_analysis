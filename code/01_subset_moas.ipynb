{
 "cells": [
  {
   "cell_type": "markdown",
   "id": "3c075971-ac63-4a82-b9ef-9f5ee59aa771",
   "metadata": {
    "jp-MarkdownHeadingCollapsed": true,
    "tags": []
   },
   "source": [
    "## Check operating system and dependencies"
   ]
  },
  {
   "cell_type": "code",
   "execution_count": 5,
   "id": "03575915-4494-4b9b-bde8-91106e19763d",
   "metadata": {},
   "outputs": [
    {
     "name": "stdout",
     "output_type": "stream",
     "text": [
      "Linux uger-d024.broadinstitute.org 3.10.0-1160.119.1.el7.x86_64 #1 SMP Tue May 14 11:55:25 EDT 2024 x86_64 x86_64 x86_64 GNU/Linux\n",
      "     0\n",
      "\n"
     ]
    }
   ],
   "source": [
    "% Get operating system information\n",
    "if ispc\n",
    "    os_info = system('ver');\n",
    "elseif isunix\n",
    "    os_info = system('uname -a');\n",
    "elseif ismac\n",
    "    os_info = system('sw_vers');\n",
    "else\n",
    "    os_info = 'Unknown OS';\n",
    "end\n",
    "disp(os_info);"
   ]
  },
  {
   "cell_type": "code",
   "execution_count": 2,
   "id": "550bba0d-3330-4cf8-a1a8-cd6171e20335",
   "metadata": {},
   "outputs": [
    {
     "name": "stdout",
     "output_type": "stream",
     "text": [
      "  1x92 struct array with fields:\n",
      "\n",
      "    Name\n",
      "    Version\n",
      "    Release\n",
      "    Date\n",
      "\n"
     ]
    }
   ],
   "source": [
    "% List all installed toolboxes and their versions\n",
    "toolboxes = ver;\n",
    "disp(toolboxes);"
   ]
  },
  {
   "cell_type": "code",
   "execution_count": 6,
   "id": "58743798-557c-44bc-bac6-7eacdd3604ac",
   "metadata": {},
   "outputs": [
    {
     "name": "stdout",
     "output_type": "stream",
     "text": [
      "    MATLABVersion: '9.8.0.1323502 (R2020a)'\n",
      "        Toolboxes: [1x92 struct]\n",
      "             Date: 29-Aug-2024 21:05:24\n",
      "\n"
     ]
    }
   ],
   "source": [
    "% Get MATLAB version and other session information\n",
    "session_info = struct();\n",
    "session_info.MATLABVersion = version;\n",
    "session_info.Toolboxes = ver;\n",
    "session_info.Date = datetime('now');\n",
    "disp(session_info);"
   ]
  },
  {
   "cell_type": "code",
   "execution_count": 4,
   "id": "98c20f8b-2096-4495-9755-40ba91e8ca82",
   "metadata": {},
   "outputs": [
    {
     "name": "stdout",
     "output_type": "stream",
     "text": [
      "                      Name                       Version     Enabled    Identifier\n",
      "    _________________________________________    ________    _______    __________\n",
      "\n",
      "    \"Vehicle Dynamics Blockset\"                  \"1.4\"        true         \"VE\"   \n",
      "    \"Simulink Coder\"                             \"9.3\"        true         \"RT\"   \n",
      "    \"Fixed-Point Designer\"                       \"7.0\"        true         \"PO\"   \n",
      "    \"Optimization Toolbox\"                       \"8.5\"        true         \"OP\"   \n",
      "    \"Wireless HDL Toolbox\"                       \"2.0\"        true         \"LH\"   \n",
      "    \"Simulink Report Generator\"                  \"5.8\"        true         \"SR\"   \n",
      "    \"Control System Toolbox\"                     \"10.8\"       true         \"CT\"   \n",
      "    \"Datafeed Toolbox\"                           \"5.9.1\"      true         \"DF\"   \n",
      "    \"SimEvents\"                                  \"5.8\"        true         \"SE\"   \n",
      "    \"Reinforcement Learning Toolbox\"             \"1.2\"        true         \"RL\"   \n",
      "    \"Bioinformatics Toolbox\"                     \"4.14\"       true         \"BI\"   \n",
      "    \"Powertrain Blockset\"                        \"1.7\"        true         \"PW\"   \n",
      "    \"Instrument Control Toolbox\"                 \"4.2\"        true         \"IC\"   \n",
      "    \"Antenna Toolbox\"                            \"4.2\"        true         \"AA\"   \n",
      "    \"MATLAB Compiler SDK\"                        \"6.8\"        true         \"MJ\"   \n",
      "    \"Communications Toolbox\"                     \"7.3\"        true         \"CM\"   \n",
      "    \"Mixed-Signal Blockset\"                      \"1.2\"        true         \"AM\"   \n",
      "    \"Filter Design HDL Coder\"                    \"3.1.7\"      true         \"FH\"   \n",
      "    \"DSP System Toolbox\"                         \"9.10\"       true         \"DS\"   \n",
      "    \"Econometrics Toolbox\"                       \"5.4\"        true         \"ET\"   \n",
      "    \"HDL Verifier\"                               \"6.1\"        true         \"ES\"   \n",
      "    \"Simscape Fluids\"                            \"3.0\"        true         \"SH\"   \n",
      "    \"Embedded Coder\"                             \"7.4\"        true         \"EC\"   \n",
      "    \"RF Toolbox\"                                 \"3.8\"        true         \"RF\"   \n",
      "    \"Sensor Fusion and Tracking Toolbox\"         \"1.3\"        true         \"TF\"   \n",
      "    \"Aerospace Blockset\"                         \"4.3\"        true         \"AE\"   \n",
      "    \"Financial Instruments Toolbox\"              \"3.0\"        true         \"IT\"   \n",
      "    \"Robust Control Toolbox\"                     \"6.8\"        true         \"RC\"   \n",
      "    \"Simulink Compiler\"                          \"1.0\"        true         \"SK\"   \n",
      "    \"Predictive Maintenance Toolbox\"             \"2.2\"        true         \"PM\"   \n",
      "    \"Automated Driving Toolbox\"                  \"3.1\"        true         \"DR\"   \n",
      "    \"Financial Toolbox\"                          \"5.15\"       true         \"FI\"   \n",
      "    \"Wavelet Toolbox\"                            \"5.4\"        true         \"WA\"   \n",
      "    \"Symbolic Math Toolbox\"                      \"8.5\"        true         \"SM\"   \n",
      "    \"Simulink Design Verifier\"                   \"4.3\"        true         \"DV\"   \n",
      "    \"Simulink Test\"                              \"3.2\"        true         \"SZ\"   \n",
      "    \"SimBiology\"                                 \"5.10\"       true         \"SB\"   \n",
      "    \"ROS Toolbox\"                                \"1.1\"        true         \"RR\"   \n",
      "    \"MATLAB Compiler\"                            \"8.0\"        true         \"CO\"   \n",
      "    \"Robotics System Toolbox\"                    \"3.1\"        true         \"RO\"   \n",
      "    \"Deep Learning Toolbox\"                      \"14.0\"       true         \"NN\"   \n",
      "    \"Stateflow\"                                  \"10.2\"       true         \"SF\"   \n",
      "    \"MATLAB Report Generator\"                    \"5.8\"        true         \"MR\"   \n",
      "    \"Curve Fitting Toolbox\"                      \"3.5.11\"     true         \"CF\"   \n",
      "    \"GPU Coder\"                                  \"1.5\"        true         \"GC\"   \n",
      "    \"Statistics and Machine Learning Toolbox\"    \"11.7\"       true         \"ST\"   \n",
      "    \"SoC Blockset\"                               \"1.2\"        true         \"HW\"   \n",
      "    \"Simulink Code Inspector\"                    \"3.6\"        true         \"CI\"   \n",
      "    \"HDL Coder\"                                  \"3.16\"       true         \"HD\"   \n",
      "    \"Audio Toolbox\"                              \"2.2\"        true         \"AU\"   \n",
      "    \"Trading Toolbox\"                            \"3.6.1\"      true         \"TR\"   \n",
      "    \"Aerospace Toolbox\"                          \"3.3\"        true         \"AT\"   \n",
      "    \"Vision HDL Toolbox\"                         \"2.1\"        true         \"VT\"   \n",
      "    \"Simulink Check\"                             \"4.5\"        true         \"VV\"   \n",
      "    \"Parallel Computing Toolbox\"                 \"7.2\"        true         \"DM\"   \n",
      "    \"WLAN Toolbox\"                               \"3.0\"        true         \"WL\"   \n",
      "    \"Simscape Electrical\"                        \"7.3\"        true         \"PS\"   \n",
      "    \"RF Blockset\"                                \"7.4\"        true         \"RB\"   \n",
      "    \"Computer Vision Toolbox\"                    \"9.2\"        true         \"VP\"   \n",
      "    \"AUTOSAR Blockset\"                           \"2.2\"        true         \"AS\"   \n",
      "    \"Simulink 3D Animation\"                      \"9.0\"        true         \"VR\"   \n",
      "    \"Global Optimization Toolbox\"                \"4.3\"        true         \"GD\"   \n",
      "    \"Navigation Toolbox\"                         \"1.1\"        true         \"NV\"   \n",
      "    \"Simscape Driveline\"                         \"3.1\"        true         \"LD\"   \n",
      "    \"Model Predictive Control Toolbox\"           \"6.4\"        true         \"MP\"   \n",
      "    \"Database Toolbox\"                           \"9.2.1\"      true         \"DB\"   \n",
      "    \"Signal Processing Toolbox\"                  \"8.4\"        true         \"SG\"   \n",
      "    \"Simulink Control Design\"                    \"5.5\"        true         \"SD\"   \n",
      "    \"Phased Array System Toolbox\"                \"4.3\"        true         \"AR\"   \n",
      "    \"Mapping Toolbox\"                            \"4.10\"       true         \"MG\"   \n",
      "    \"Vehicle Network Toolbox\"                    \"4.4\"        true         \"VN\"   \n",
      "    \"Simulink PLC Coder\"                         \"3.2\"        true         \"PL\"   \n",
      "    \"Fuzzy Logic Toolbox\"                        \"2.7\"        true         \"FL\"   \n",
      "    \"Simscape Multibody\"                         \"7.1\"        true         \"MS\"   \n",
      "    \"MATLAB Coder\"                               \"5.0\"        true         \"ME\"   \n",
      "    \"System Identification Toolbox\"              \"9.12\"       true         \"ID\"   \n",
      "    \"Simulink Requirements\"                      \"1.5\"        true         \"RQ\"   \n",
      "    \"Partial Differential Equation Toolbox\"      \"3.4\"        true         \"PD\"   \n",
      "    \"Risk Management Toolbox\"                    \"1.7\"        true         \"RK\"   \n",
      "    \"Simscape\"                                   \"4.8\"        true         \"SS\"   \n",
      "    \"Image Acquisition Toolbox\"                  \"6.2\"        true         \"IA\"   \n",
      "    \"Simulink Design Optimization\"               \"3.8\"        true         \"SO\"   \n",
      "    \"System Composer\"                            \"1.2\"        true         \"ZC\"   \n",
      "    \"Motor Control Blockset\"                     \"1.0\"        true         \"MT\"   \n",
      "    \"Simulink Coverage\"                          \"5.0\"        true         \"CV\"   \n",
      "    \"LTE Toolbox\"                                \"3.3\"        true         \"LS\"   \n",
      "    \"Image Processing Toolbox\"                   \"11.1\"       true         \"IP\"   \n",
      "    \"5G Toolbox\"                                 \"2.0\"        true         \"5G\"   \n",
      "    \"Text Analytics Toolbox\"                     \"1.5\"        true         \"TA\"   \n",
      "    \"SerDes Toolbox\"                             \"1.2\"        true         \"SX\"   \n",
      "    \"Simulink\"                                   \"10.1\"       true         \"SL\"   \n",
      "\n"
     ]
    }
   ],
   "source": [
    "% List installed add-ons and dependencies\n",
    "addons = matlab.addons.installedAddons();\n",
    "disp(addons);"
   ]
  },
  {
   "cell_type": "markdown",
   "id": "ba129eb3-ee49-4da7-935e-8cc905a87436",
   "metadata": {},
   "source": [
    "# Start"
   ]
  },
  {
   "cell_type": "code",
   "execution_count": 1,
   "id": "8b1ad69f-191f-4cdf-a370-0388c765973b",
   "metadata": {
    "tags": []
   },
   "outputs": [
    {
     "name": "stdout",
     "output_type": "stream",
     "text": [
      "\n",
      "kabx_annot_path =\n",
      "\n",
      "    '/idi/cgtb/abond/annotation/KABX_for_manuscript_20240413.xlsx'\n",
      "\n"
     ]
    }
   ],
   "source": [
    "datadir = '/idi/cgtb/morzech/idmp/combine_screens_456';\n",
    "wkdir = '/idi/cgtb/abond/combine_screens_456/pcls_for_manuscript_final';\n",
    "%wkdir = fullfile(datadir,'pcls_remove_gsk_no_broad_sar_pearson');\n",
    "\n",
    "mk_cd_dir(wkdir, true);\n",
    "imatlab_export_fig('print-png')\n",
    "\n",
    "kabx_annot_path = '/idi/cgtb/abond/annotation/KABX_for_manuscript_20240413.xlsx'"
   ]
  },
  {
   "cell_type": "code",
   "execution_count": 3,
   "id": "85c75d96-350b-486d-89c0-18f886480ae0",
   "metadata": {},
   "outputs": [
    {
     "name": "stdout",
     "output_type": "stream",
     "text": [
      "1 pert_id\n",
      "2 pert_id_count\n",
      "3 pert_id_alt\n",
      "4 pert_id_pubchem_cid\n",
      "5 pubchem_link\n",
      "6 pert_iname\n",
      "7 pert_class\n",
      "8 pert_reference\n",
      "9 target_process\n",
      "10 target_pathway\n",
      "11 target_description\n",
      "12 target_description_long\n",
      "13 target_description_multi_detailed\n",
      "14 protein_target\n",
      "15 gene_target\n",
      "16 hypomorph_target\n",
      "17 hypomorph_interest\n",
      "18 ProdrugActivation_\n",
      "19 notes\n",
      "20 evidence_type\n",
      "21 computational\n",
      "22 biochemical\n",
      "23 genetic\n",
      "24 high_confidence\n",
      "25 canonical_smiles\n",
      "26 inchi_key\n",
      "27 inchi_key_prefix\n",
      "28 inchi_key_prefix_count\n"
     ]
    }
   ],
   "source": [
    "annot = xls2table(kabx_annot_path,1,true);"
   ]
  },
  {
   "cell_type": "code",
   "execution_count": 4,
   "id": "8520359f-e104-425a-bd9c-5f8f2d3dc2f9",
   "metadata": {},
   "outputs": [
    {
     "name": "stdout",
     "output_type": "stream",
     "text": [
      "\n",
      "ans =\n",
      "\n",
      "   437    28\n",
      "\n"
     ]
    }
   ],
   "source": [
    "size(annot)"
   ]
  },
  {
   "cell_type": "code",
   "execution_count": 5,
   "id": "ec42becf-3df5-4ba5-990c-6160d69b2cdf",
   "metadata": {
    "collapsed": true,
    "jupyter": {
     "outputs_hidden": true
    },
    "tags": []
   },
   "outputs": [
    {
     "name": "stdout",
     "output_type": "stream",
     "text": [
      "\n",
      "ans =\n",
      "\n",
      "  437x1 cell array\n",
      "\n",
      "    {'BRD-K00093274' }\n",
      "    {'BRD-K00093272' }\n",
      "    {'BRD-K00093273' }\n",
      "    {'BRD-K99844592' }\n",
      "    {'BRD-K52025859' }\n",
      "    {'BRD-K32795028' }\n",
      "    {'BRD-K45179240' }\n",
      "    {'BRD-K60731427' }\n",
      "    {'BRD-K00092685' }\n",
      "    {'BRD-K41413117' }\n",
      "    {'BRD-K80267133' }\n",
      "    {'BRD-K74016539' }\n",
      "    {'BRD-K65278948' }\n",
      "    {'BRD-K58069855' }\n",
      "    {'BRD-K07208025' }\n",
      "    {'BRD-K88429204' }\n",
      "    {'BRD-A86736466' }\n",
      "    {'BRD-K08151102' }\n",
      "    {'BRD-K32842773' }\n",
      "    {'BRD-K59456551' }\n",
      "    {'BRD-A74914197' }\n",
      "    {'BRD-K25799961' }\n",
      "    {'BRD-K10671814' }\n",
      "    {'BRD-K14116214' }\n",
      "    {'BRD-K02594908' }\n",
      "    {'BRD-K50859149' }\n",
      "    {'BRD-K32273377' }\n",
      "    {'BRD-K31682896' }\n",
      "    {'BRD-K21520694' }\n",
      "    {'BRD-K17205817' }\n",
      "    {'BRD-K28494619' }\n",
      "    {'BRD-K55250441' }\n",
      "    {'BRD-K93524252' }\n",
      "    {'BRD-K11640013' }\n",
      "    {'BRD-K14705039' }\n",
      "    {'BRD-K71125014' }\n",
      "    {'BRD-K87492696' }\n",
      "    {'BRD-K19742012' }\n",
      "    {'BRD-K76845197' }\n",
      "    {'BRD-K52416806' }\n",
      "    {'BRD-K62363391' }\n",
      "    {'BRD-K05512067' }\n",
      "    {'BRD-K36292707' }\n",
      "    {'BRD-K87317809' }\n",
      "    {'BRD-K00092684' }\n",
      "    {'BRD-K00092683' }\n",
      "    {'BRD-K90874731' }\n",
      "    {'BRD-K00092183' }\n",
      "    {'BRD-K00092688' }\n",
      "    {'BRD-K31740437' }\n",
      "    {'BRD-K54145401' }\n",
      "    {'BRD-A16591784' }\n",
      "    {'BRD-K10090029' }\n",
      "    {'BRD-K77432251' }\n",
      "    {'BRD-K66039912' }\n",
      "    {'BRD-K83641560' }\n",
      "    {'BRD-K14661019' }\n",
      "    {'BRD-K87395897' }\n",
      "    {'BRD-K58597051' }\n",
      "    {'BRD-K76257682' }\n",
      "    {'BRD-K63155003' }\n",
      "    {'BRD-K16343284' }\n",
      "    {'BRD-A23080907' }\n",
      "    {'BRD-K96671969' }\n",
      "    {'BRD-K00005141' }\n",
      "    {'BRD-K17480742' }\n",
      "    {'BRD-K93231391' }\n",
      "    {'BRD-K43913323' }\n",
      "    {'BRD-K33394115' }\n",
      "    {'BRD-K00092686' }\n",
      "    {'BRD-K00092687' }\n",
      "    {'BRD-A42812271' }\n",
      "    {'BRD-A34856796' }\n",
      "    {'BRD-A59733260' }\n",
      "    {'BRD-A02179977' }\n",
      "    {'BRD-K00251100' }\n",
      "    {'BRD-K87879546' }\n",
      "    {'BRD-K17346269' }\n",
      "    {'BRD-K26238968' }\n",
      "    {'BRD-K34883066' }\n",
      "    {'BRD-K29887672' }\n",
      "    {'BRD-K27302037' }\n",
      "    {'BRD-K92661767' }\n",
      "    {'BRD-K28594598' }\n",
      "    {'BRD-K95141739' }\n",
      "    {'BRD-K12102668' }\n",
      "    {'BRD-K57864646' }\n",
      "    {'BRD-K61582089' }\n",
      "    {'BRD-K11943448' }\n",
      "    {'BRD-K20041728' }\n",
      "    {'BRD-K29901445' }\n",
      "    {'BRD-K15707964' }\n",
      "    {'BRD-K51997757' }\n",
      "    {'BRD-K98427564' }\n",
      "    {'BRD-K55128567' }\n",
      "    {'BRD-K80390541' }\n",
      "    {'BRD-K72948907' }\n",
      "    {'BRD-K16904384' }\n",
      "    {'BRD-K38633957' }\n",
      "    {'BRD-K08753063' }\n",
      "    {'BRD-K38402943' }\n",
      "    {'BRD-K60267961' }\n",
      "    {'BRD-K30516678' }\n",
      "    {'BRD-K16675056' }\n",
      "    {'BRD-K88568253' }\n",
      "    {'BRD-K87202646' }\n",
      "    {'BRD-K41731458' }\n",
      "    {'BRD-K11210723' }\n",
      "    {'BRD-K44817881' }\n",
      "    {'BRD-K45520244' }\n",
      "    {'BRD-K80978124' }\n",
      "    {'BRD-K92522608' }\n",
      "    {'BRD-K77268072' }\n",
      "    {'BRD-A05354310' }\n",
      "    {'BRD-A78106073' }\n",
      "    {'BRD-A95980241' }\n",
      "    {'BRD-K33710385' }\n",
      "    {'BRD-K51207550' }\n",
      "    {'BRD-K75360161' }\n",
      "    {'BRD-K97863768' }\n",
      "    {'BRD-K98305621' }\n",
      "    {'BRD-K12037340' }\n",
      "    {'BRD-K58861914' }\n",
      "    {'BRD-K08973992' }\n",
      "    {'BRD-K79707415' }\n",
      "    {'BRD-K95496644' }\n",
      "    {'BRD-K48888725' }\n",
      "    {'BRD-K23791635' }\n",
      "    {'BRD-A96641513' }\n",
      "    {'BRD-K53492054' }\n",
      "    {'BRD-A46973818' }\n",
      "    {'BRD-K93139382' }\n",
      "    {'BRD-A82163352' }\n",
      "    {'BRD-K52075040' }\n",
      "    {'BRD-K63343048' }\n",
      "    {'BRD-K28119352' }\n",
      "    {'BRD-K00005150' }\n",
      "    {'BRD-K69774614' }\n",
      "    {'BRD-K15788763' }\n",
      "    {'BRD-K45430307' }\n",
      "    {'BRD-K64497452' }\n",
      "    {'BRD-A49616161' }\n",
      "    {'BRD-A84807802' }\n",
      "    {'BRD-K31807080' }\n",
      "    {'BRD-K79491187' }\n",
      "    {'BRD-K63591033' }\n",
      "    {'BRD-K04030334' }\n",
      "    {'BRD-K66898851' }\n",
      "    {'BRD-K91214177' }\n",
      "    {'BRD-K01802697' }\n",
      "    {'BRD-K03950661' }\n",
      "    {'BRD-K08893438' }\n",
      "    {'BRD-K16424896' }\n",
      "    {'BRD-K19854078' }\n",
      "    {'BRD-K27030784' }\n",
      "    {'BRD-K39339421' }\n",
      "    {'BRD-K51096299' }\n",
      "    {'BRD-K60362380' }\n",
      "    {'BRD-K83910486' }\n",
      "    {'BRD-K09343855' }\n",
      "    {'BRD-K89211941' }\n",
      "    {'BRD-K11310996' }\n",
      "    {'BRD-K68017837' }\n",
      "    {'BRD-K80953170' }\n",
      "    {'BRD-K87685179' }\n",
      "    {'BRD-K87226815' }\n",
      "    {'BRD-K94250879' }\n",
      "    {'BRD-K14312455' }\n",
      "    {'BRD-K44133266' }\n",
      "    {'BRD-K71364508' }\n",
      "    {'BRD-K45142033' }\n",
      "    {'BRD-K21375516' }\n",
      "    {'BRD-K51346944' }\n",
      "    {'BRD-K18574842' }\n",
      "    {'BRD-K27871792' }\n",
      "    {'BRD-K05673000' }\n",
      "    {'BRD-K96786677' }\n",
      "    {'BRD-K01244426' }\n",
      "    {'BRD-K60663764' }\n",
      "    {'BRD-K28224173' }\n",
      "    {'BRD-K72167406' }\n",
      "    {'BRD-K80545773' }\n",
      "    {'BRD-K02292852' }\n",
      "    {'BRD-K82960980' }\n",
      "    {'BRD-K24871708' }\n",
      "    {'BRD-M30170555' }\n",
      "    {'BRD-K91065602' }\n",
      "    {'BRD-A79545933' }\n",
      "    {'BRD-K15766189' }\n",
      "    {'BRD-K17971521' }\n",
      "    {'BRD-A07932845' }\n",
      "    {'BRD-A67799922' }\n",
      "    {'BRD-A07244995' }\n",
      "    {'BRD-K85307935' }\n",
      "    {'BRD-K90991629' }\n",
      "    {'BRD-K66615216' }\n",
      "    {'BRD-K04804440' }\n",
      "    {'BRD-K09471561' }\n",
      "    {'BRD-A47790386' }\n",
      "    {'BRD-K78113049' }\n",
      "    {'BRD-K55034111' }\n",
      "    {'BRD-A74980173' }\n",
      "    {'BRD-K11196887' }\n",
      "    {'BRD-A24228527' }\n",
      "    {'BRD-A05468928' }\n",
      "    {'BRD-K77038618' }\n",
      "    {'BRD-K98384930' }\n",
      "    {'BRD-K45916615' }\n",
      "    {'BRD-K76534306' }\n",
      "    {'BRD-K71926323' }\n",
      "    {'BRD-K08525451' }\n",
      "    {'BRD-K73923631' }\n",
      "    {'BRD-K66412701' }\n",
      "    {'BRD-A92341659' }\n",
      "    {'BRD-A24397426' }\n",
      "    {'BRD-K62374253' }\n",
      "    {'BRD-A93964801' }\n",
      "    {'BRD-A41450521' }\n",
      "    {'BRD-K10362825' }\n",
      "    {'BRD-K37798499' }\n",
      "    {'BRD-K47869605' }\n",
      "    {'BRD-K32368635' }\n",
      "    {'BRD-K47886988' }\n",
      "    {'BRD-K08999871' }\n",
      "    {'BRD-A69777949' }\n",
      "    {'BRD-K49841478' }\n",
      "    {'BRD-K14704277' }\n",
      "    {'BRD-K28247815' }\n",
      "    {'BRD-K04548931' }\n",
      "    {'BRD-K13843533' }\n",
      "    {'BRD-K28767608' }\n",
      "    {'BRD-K43389675' }\n",
      "    {'BRD-K92093830' }\n",
      "    {'BRD-K69650333' }\n",
      "    {'BRD-K68346641' }\n",
      "    {'BRD-K72560711' }\n",
      "    {'BRD-K81100236' }\n",
      "    {'BRD-K77614261' }\n",
      "    {'BRD-K00535541' }\n",
      "    {'BRD-K44595561' }\n",
      "    {'BRD-K84417469' }\n",
      "    {'BRD-K94650501' }\n",
      "    {'BRD-M87138257' }\n",
      "    {'BRD-K68408467' }\n",
      "    {'BRD-K24715592' }\n",
      "    {'BRD-K63784565' }\n",
      "    {'BRD-K79821389' }\n",
      "    {'BRD-K37890730' }\n",
      "    {'BRD-K55696337' }\n",
      "    {'BRD-K08547377' }\n",
      "    {'BRD-K56767355' }\n",
      "    {'BRD-K57698251' }\n",
      "    {'BRD-K64323980' }\n",
      "    {'BRD-K67617993' }\n",
      "    {'BRD-K87207035' }\n",
      "    {'BRD-A42752142' }\n",
      "    {'BRD-A50652048' }\n",
      "    {'BRD-K48195670' }\n",
      "    {'BRD-K91601245' }\n",
      "    {'BRD-K49350383' }\n",
      "    {'BRD-K91543828' }\n",
      "    {'BRD-K41601912' }\n",
      "    {'BRD-K86484527' }\n",
      "    {'BRD-K42267433' }\n",
      "    {'BRD-K79019129' }\n",
      "    {'BRD-K22796536' }\n",
      "    {'BRD-K50327268' }\n",
      "    {'BRD-K93034159' }\n",
      "    {'BRD-K34022604' }\n",
      "    {'BRD-K84466663' }\n",
      "    {'BRD-A99822647' }\n",
      "    {'BRD-K51747290' }\n",
      "    {'BRD-K33106058' }\n",
      "    {'BRD-K03406345' }\n",
      "    {'BRD-K79254416' }\n",
      "    {'BRD-K15108141' }\n",
      "    {'BRD-K36137799' }\n",
      "    {'BRD-K24844714' }\n",
      "    {'BRD-K11630072' }\n",
      "    {'BRD-A79903587' }\n",
      "    {'BRD-K58262659' }\n",
      "    {'BRD-K47832606' }\n",
      "    {'BRD-K61192372' }\n",
      "    {'BRD-A18840826' }\n",
      "    {'BRD-K66227851' }\n",
      "    {'BRD-K51626221' }\n",
      "    {'BRD-K85204746' }\n",
      "    {'BRD-K41140669' }\n",
      "    {'BRD-K69540638' }\n",
      "    {'BRD-K59325863' }\n",
      "    {'BRD-K78659596' }\n",
      "    {'BRD-K88510285' }\n",
      "    {'BRD-K37908742' }\n",
      "    {'BRD-A74906485' }\n",
      "    {'BRD-K60230970' }\n",
      "    {'BRD-K15179879' }\n",
      "    {'BRD-K91438851' }\n",
      "    {'BRD-A13121918' }\n",
      "    {'BRD-A27303082' }\n",
      "    {'BRD-A28477941' }\n",
      "    {'BRD-A34408345' }\n",
      "    {'BRD-A60772044' }\n",
      "    {'BRD-A75281937' }\n",
      "    {'BRD-A77529650' }\n",
      "    {'BRD-A89016892' }\n",
      "    {'BRD-K03591040' }\n",
      "    {'BRD-K10610814' }\n",
      "    {'BRD-K32667026' }\n",
      "    {'BRD-K50582804' }\n",
      "    {'BRD-K96235226' }\n",
      "    {'BRD-K72066874' }\n",
      "    {'BRD-K78741702' }\n",
      "    {'BRD-K46404219' }\n",
      "    {'BRD-K91011325' }\n",
      "    {'BRD-K57363465' }\n",
      "    {'BRD-K90817094' }\n",
      "    {'BRD-K05614754' }\n",
      "    {'BRD-K76372632' }\n",
      "    {'BRD-K92184319' }\n",
      "    {'BRD-K55192287' }\n",
      "    {'BRD-K00376689' }\n",
      "    {'BRD-K00092698' }\n",
      "    {'BRD-K56614220' }\n",
      "    {'BRD-K90535337' }\n",
      "    {'BRD-K26793974' }\n",
      "    {'BRD-K49755152' }\n",
      "    {'BRD-K74423833' }\n",
      "    {'DT2012-0328419'}\n",
      "    {'BRD-K66994095' }\n",
      "    {'BRD-K76929026' }\n",
      "    {'BRD-K99107635' }\n",
      "    {'BRD-K40154364' }\n",
      "    {'BRD-K59853741' }\n",
      "    {'BRD-K35960502' }\n",
      "    {'BRD-K07283971' }\n",
      "    {'BRD-K96471533' }\n",
      "    {'BRD-K15616905' }\n",
      "    {'BRD-K14821540' }\n",
      "    {'BRD-K01826543' }\n",
      "    {'BRD-K01826542' }\n",
      "    {'BRD-K95921201' }\n",
      "    {'BRD-K35559145' }\n",
      "    {'BRD-K89997465' }\n",
      "    {'BRD-A84481105' }\n",
      "    {'BRD-K06980535' }\n",
      "    {'BRD-K19352500' }\n",
      "    {'BRD-K63675182' }\n",
      "    {'BRD-K55127134' }\n",
      "    {'BRD-K89732114' }\n",
      "    {'BRD-K10995081' }\n",
      "    {'BRD-K01825828' }\n",
      "    {'BRD-K60762818' }\n",
      "    {'BRD-K43172524' }\n",
      "    {'BRD-K54931188' }\n",
      "    {'BRD-A84314495' }\n",
      "    {'BRD-K17583151' }\n",
      "    {'BRD-K29869729' }\n",
      "    {'BRD-K47871594' }\n",
      "    {'BRD-K98033054' }\n",
      "    {'BRD-K97534525' }\n",
      "    {'BRD-K67035534' }\n",
      "    {'BRD-K11851919' }\n",
      "    {'BRD-K85985071' }\n",
      "    {'BRD-A65053104' }\n",
      "    {'BRD-K80404833' }\n",
      "    {'BRD-K26040644' }\n",
      "    {'BRD-K82498081' }\n",
      "    {'BRD-K43962705' }\n",
      "    {'BRD-A46188889' }\n",
      "    {'BRD-K01507359' }\n",
      "    {'BRD-A06889673' }\n",
      "    {'BRD-K92835935' }\n",
      "    {'BRD-K92838188' }\n",
      "    {'BRD-A50987946' }\n",
      "    {'BRD-A15637061' }\n",
      "    {'BRD-A22740840' }\n",
      "    {'BRD-A25492003' }\n",
      "    {'BRD-K01666773' }\n",
      "    {'BRD-A34145622' }\n",
      "    {'BRD-K01666774' }\n",
      "    {'BRD-A49035384' }\n",
      "    {'BRD-A54142827' }\n",
      "    {'BRD-A62336573' }\n",
      "    {'BRD-A69651145' }\n",
      "    {'BRD-M68646745' }\n",
      "    {'BRD-K01825150' }\n",
      "    {'BRD-A70638330' }\n",
      "    {'BRD-K00005140' }\n",
      "    {'BRD-K11905747' }\n",
      "    {'BRD-K40939496' }\n",
      "    {'BRD-K71772032' }\n",
      "    {'BRD-K74759733' }\n",
      "    {'BRD-K88043978' }\n",
      "    {'BRD-M29626677' }\n",
      "    {'BRD-M50166410' }\n",
      "    {'BRD-A17411484' }\n",
      "    {'BRD-A17655518' }\n",
      "    {'BRD-K36007650' }\n",
      "    {'BRD-K37130656' }\n",
      "    {'BRD-K59436580' }\n",
      "    {'BRD-K66876909' }\n",
      "    {'BRD-K69553440' }\n",
      "    {'BRD-K86670086' }\n",
      "    {'BRD-K23586533' }\n",
      "    {'BRD-K27771035' }\n",
      "    {'BRD-K49384696' }\n",
      "    {'BRD-A03433762' }\n",
      "    {'BRD-A11805855' }\n",
      "    {'BRD-A22164928' }\n",
      "    {'BRD-A39183045' }\n",
      "    {'BRD-A96252257' }\n",
      "    {'BRD-K32256160' }\n",
      "    {'BRD-K36796419' }\n",
      "    {'BRD-K37753391' }\n",
      "    {'BRD-K38684403' }\n",
      "    {'BRD-K49668410' }\n",
      "    {'BRD-K52756523' }\n",
      "    {'BRD-K74501079' }\n",
      "    {'BRD-A84854230' }\n",
      "    {'BRD-K01825145' }\n",
      "    {'BRD-K63550407' }\n",
      "    {'BRD-K08111712' }\n",
      "    {'BRD-K11298197' }\n",
      "    {'BRD-K79711234' }\n",
      "    {'BRD-A43748923' }\n",
      "    {'BRD-A19584055' }\n",
      "    {'BRD-K22938173' }\n",
      "    {'BRD-K33127883' }\n",
      "    {'BRD-K21656677' }\n",
      "    {'BRD-K74722711' }\n",
      "    {'BRD-K78355918' }\n",
      "    {'BRD-A88442245' }\n",
      "    {'BRD-K20683639' }\n",
      "    {'BRD-K13447729' }\n",
      "    {'BRD-K15262564' }\n",
      "    {'BRD-K76713213' }\n",
      "    {'BRD-K03924778' }\n",
      "\n"
     ]
    }
   ],
   "source": [
    "annot.pert_id"
   ]
  },
  {
   "cell_type": "markdown",
   "id": "0ba5b4c8-1330-497d-92cb-d9ef396d0c62",
   "metadata": {},
   "source": [
    "## Load gcts"
   ]
  },
  {
   "cell_type": "code",
   "execution_count": 6,
   "id": "cbcfe2d8-f252-4a81-bfd3-0ee243aaba29",
   "metadata": {},
   "outputs": [
    {
     "name": "stdout",
     "output_type": "stream",
     "text": [
      "Reading /idi/cgtb/morzech/idmp/combine_screens_456/gr_screens_456_n79873x340.gctx [340x79873]\n",
      "Done [22.57 s].\n"
     ]
    }
   ],
   "source": [
    "gr = parse_gctx(fullfile(datadir,'gr_screens_456_n79873x340.gctx'));"
   ]
  },
  {
   "cell_type": "code",
   "execution_count": 7,
   "id": "4daa39bd-6b01-4cfa-9aea-828feb9674eb",
   "metadata": {},
   "outputs": [
    {
     "name": "stdout",
     "output_type": "stream",
     "text": [
      "Reading /idi/cgtb/morzech/idmp/combine_screens_456/grzs_screens_456_n79873x340.gctx [340x79873]\n",
      "Done [20.99 s].\n"
     ]
    }
   ],
   "source": [
    "grzs = parse_gctx(fullfile(datadir,'grzs_screens_456_n79873x340.gctx'));"
   ]
  },
  {
   "cell_type": "code",
   "execution_count": 8,
   "id": "b70ac83b-5444-4274-af2b-2e73ab3ce945",
   "metadata": {},
   "outputs": [
    {
     "name": "stdout",
     "output_type": "stream",
     "text": [
      "Reading /idi/cgtb/morzech/idmp/combine_screens_456/grzs_czs_screens_456_n79873x340.gctx [340x79873]\n",
      "Done [21.01 s].\n"
     ]
    }
   ],
   "source": [
    "grzs_czs = parse_gctx(fullfile(datadir,'grzs_czs_screens_456_n79873x340.gctx'));"
   ]
  },
  {
   "cell_type": "markdown",
   "id": "35934f42-28bb-4987-be0d-35196b940ab3",
   "metadata": {},
   "source": [
    "## Generate col_meta"
   ]
  },
  {
   "cell_type": "code",
   "execution_count": 9,
   "id": "63f9c2a0-e9ea-41ec-935f-251280e90c6e",
   "metadata": {},
   "outputs": [
    {
     "name": "stdout",
     "output_type": "stream",
     "text": [
      "gct2meta> Creating row and column metadata tables\n",
      "\n"
     ]
    }
   ],
   "source": [
    "[~,col_meta] = gct2meta(grzs);"
   ]
  },
  {
   "cell_type": "code",
   "execution_count": 10,
   "id": "fc4043cd-c5f7-4afd-b5e3-83802028c567",
   "metadata": {
    "tags": []
   },
   "outputs": [
    {
     "name": "stdout",
     "output_type": "stream",
     "text": [
      "\n",
      "ans =\n",
      "\n",
      "  33x3 table\n",
      "\n",
      "    idx               field                              value               \n",
      "    ___    ___________________________    ___________________________________\n",
      "\n",
      "     1     {'cid'                    }    {'tbda1:0013X 55UXB:0.781250uM'   }\n",
      "     2     {'broad_id'               }    {'0013X 55UXB'                    }\n",
      "     3     {'canonical_smiles'       }    {'-666'                           }\n",
      "     4     {'cid_org'                }    {'tbda1:0013X 55UXB:0.781250uM'   }\n",
      "     5     {'dose_series_id'         }    {'tbda_100.0'                     }\n",
      "     6     {'n_replicates'           }    {[                              2]}\n",
      "     7     {'pert_dose'              }    {[                         0.7812]}\n",
      "     8     {'pert_dose_act'          }    {[                         0.7812]}\n",
      "     9     {'pert_dose_unit'         }    {'uM'                             }\n",
      "    10     {'pert_id'                }    {'0013X 55UXB'                    }\n",
      "    11     {'pert_idose'             }    {'0.781250uM'                     }\n",
      "    12     {'pert_idose_tickl'       }    {'0.7812uM'                       }\n",
      "    13     {'pert_itime'             }    {'-666'                           }\n",
      "    14     {'pert_time'              }    {[                           -666]}\n",
      "    15     {'pert_time_unit'         }    {'-666'                           }\n",
      "    16     {'pert_type'              }    {'trt'                            }\n",
      "    17     {'project_id'             }    {'screen4wk_screen5wk_tbda1_kabx2'}\n",
      "    18     {'sample_id'              }    {'-666'                           }\n",
      "    19     {'trt_id'                 }    {'0013X 55UXB:0.781250uM'         }\n",
      "    20     {'trt_id_count'           }    {[                              1]}\n",
      "    21     {'x_cid_original'         }    {'0013X 55UXB:0.781250'           }\n",
      "    22     {'x_cid_original_prev'    }    {'tbda:0013X 55U*B:0.78125'       }\n",
      "    23     {'x_csv_broad_id'         }    {'0013X 55U*B'                    }\n",
      "    24     {'x_csv_compound'         }    {'0013X 55UXB'                    }\n",
      "    25     {'x_csv_concentration'    }    {[                         0.7812]}\n",
      "    26     {'x_csv_n_replicates'     }    {[                           -666]}\n",
      "    27     {'x_csv_pert_dose'        }    {[                         0.7812]}\n",
      "    28     {'x_csv_x_pert_collection'}    {'tbda'                           }\n",
      "    29     {'x_dose_series_id'       }    {'-666'                           }\n",
      "    30     {'x_median_total_count'   }    {[                           -666]}\n",
      "    31     {'x_pert_collection'      }    {'tbda'                           }\n",
      "    32     {'x_replicate_count'      }    {'2'                              }\n",
      "    33     {'x_subproject_id'        }    {'tbda1'                          }\n",
      "\n"
     ]
    }
   ],
   "source": [
    "headt(col_meta)"
   ]
  },
  {
   "cell_type": "markdown",
   "id": "b6b3cdb8-aa3f-4b0b-9c8d-efe7fcf76bdd",
   "metadata": {},
   "source": [
    "## Combine kabx with Broad SAR"
   ]
  },
  {
   "cell_type": "code",
   "execution_count": 11,
   "id": "c9ccc510-f041-4f56-ae2a-d1e52460ccef",
   "metadata": {},
   "outputs": [],
   "source": [
    "annot.pcl_desc = annot.target_description;"
   ]
  },
  {
   "cell_type": "code",
   "execution_count": 12,
   "id": "223096d7-6f39-48c3-8ddb-c28c4e8525f3",
   "metadata": {},
   "outputs": [],
   "source": [
    "fields = {'pert_id','pcl_desc'};\n",
    "%pcl_annot = [annot(:,fields);broad_sar(:,fields)];\n",
    "pcl_annot = [annot(:,fields)]; % LEAVE OUT Broad SAR"
   ]
  },
  {
   "cell_type": "code",
   "execution_count": 13,
   "id": "9fdf54b6-6e54-4ca1-944c-c2aeba1b0112",
   "metadata": {},
   "outputs": [
    {
     "name": "stdout",
     "output_type": "stream",
     "text": [
      "\n",
      "ans =\n",
      "\n",
      "       79873          33\n",
      "\n",
      "\n",
      "ans =\n",
      "\n",
      "       79873          34\n",
      "\n"
     ]
    }
   ],
   "source": [
    "size(col_meta)\n",
    "col_meta = outerjoin(col_meta,pcl_annot,'Keys','pert_id','RightVariables','pcl_desc','Type','left','MergeKeys',true);\n",
    "size(col_meta)"
   ]
  },
  {
   "cell_type": "code",
   "execution_count": 14,
   "id": "8c1212ff-2857-4bd7-9aa2-b4976ae7c284",
   "metadata": {},
   "outputs": [],
   "source": [
    "wtable(col_meta,fullfile(wkdir,'col_meta.txt'))"
   ]
  },
  {
   "cell_type": "code",
   "execution_count": 15,
   "id": "cd666d64-db3f-43a5-b501-c2da7ce4fba8",
   "metadata": {},
   "outputs": [],
   "source": [
    "col_meta = sortrows(col_meta,{'pcl_desc','broad_id','pert_dose'});"
   ]
  },
  {
   "cell_type": "markdown",
   "id": "10096c51-7410-48d6-afa9-09ab0be98e69",
   "metadata": {
    "tags": []
   },
   "source": [
    "## Exclude pool_reproducibility"
   ]
  },
  {
   "cell_type": "code",
   "execution_count": 16,
   "id": "049abccb-56df-4bdd-b201-de5b45073ffd",
   "metadata": {},
   "outputs": [
    {
     "name": "stdout",
     "output_type": "stream",
     "text": [
      "                 Value    Count   Percent\n",
      "                  tbda     8094     10.13%\n",
      "             screen5cp    16488     20.64%\n",
      "                  -666     8812     11.03%\n",
      "                   gsk      256      0.32%\n",
      "                  WuXi    10078     12.62%\n",
      "                 Otava     3470      4.34%\n",
      "             broad_sar     1368      1.71%\n",
      "               Edelris     1917      2.40%\n",
      "                  s4wk     6653      8.33%\n",
      "                    bi     9910     12.41%\n",
      "                  kabx    11904     14.90%\n",
      "                fadD32      152      0.19%\n",
      "  broad_sar_literature      168      0.21%\n",
      "  pool_reproducibility       80      0.10%\n",
      "            jg_QcrB-W2       24      0.03%\n",
      "            ghddi_efpA      104      0.13%\n",
      "                 WAC40        8      0.01%\n",
      "                 empty        1      0.00%\n",
      "        kabx_extension      136      0.17%\n",
      "                poscon      200      0.25%\n",
      "                   dxr        8      0.01%\n",
      "       fadD32 coumarin       32      0.04%\n",
      "        inplate_poscon       10      0.01%\n"
     ]
    }
   ],
   "source": [
    "tabulate(col_meta.x_pert_collection)"
   ]
  },
  {
   "cell_type": "raw",
   "id": "6310a2c5-2749-437c-ba9f-3ffcd375b163",
   "metadata": {},
   "source": [
    "idx = ismember(col_meta.x_pert_collection,'pool_reproducibility');\n",
    "sum(idx)\n",
    "col_meta(idx,:) = [];"
   ]
  },
  {
   "cell_type": "markdown",
   "id": "8855f0a5-9676-410c-bc95-465019741b8f",
   "metadata": {
    "tags": []
   },
   "source": [
    "## Keep only entries that are annotated with detailed_target_decription"
   ]
  },
  {
   "cell_type": "code",
   "execution_count": 17,
   "id": "24176c26-cff3-4d6e-81c1-33eb7f5d8850",
   "metadata": {
    "tags": []
   },
   "outputs": [
    {
     "name": "stdout",
     "output_type": "stream",
     "text": [
      "                                               Value    Count   Percent\n",
      "                                        30S ribosome      417      4.42%\n",
      "                                   30S ribosome|InfB       40      0.42%\n",
      "                         30S ribosome|tRNA synthesis       20      0.21%\n",
      "                                        50S ribosome      740      7.85%\n",
      "                                  50S ribosome|FusA1       40      0.42%\n",
      "                                        ATP synthase       38      0.40%\n",
      "                                               AccD6       60      0.64%\n",
      "                                                 Alr      320      3.39%\n",
      "                                            Alr|DdlA       28      0.30%\n",
      "                                               CoaBC       16      0.17%\n",
      "                                               CydAB       36      0.38%\n",
      "                                              Cyp121       60      0.64%\n",
      "                                                CysH       20      0.21%\n",
      "                                                DHFR      212      2.25%\n",
      "                                          DHFR|ThyAX      148      1.57%\n",
      "                                                DHPS      416      4.41%\n",
      "                                 DprE1-DprE2 complex      268      2.84%\n",
      "                                                 Dxr        8      0.08%\n",
      "                                              EmbABC       28      0.30%\n",
      "                                              FadD32       76      0.81%\n",
      "                                                 Fba       20      0.21%\n",
      "                            FtsZ|DprE1-DprE2 complex       18      0.19%\n",
      "                                                 Fum       20      0.21%\n",
      "                                                 Glf       40      0.42%\n",
      "                                                GlgB       20      0.21%\n",
      "                                                GlmU      100      1.06%\n",
      "                                               GyrAB      827      8.77%\n",
      "                                          GyrAB|DnaG      164      1.74%\n",
      "                                          GyrAB|TopA      260      2.76%\n",
      "                                              HadABC       48      0.51%\n",
      "                                                 Icl       16      0.17%\n",
      "                                               IlvB1       24      0.25%\n",
      "                                                InhA     1162     12.33%\n",
      "                                           InhA|GlmU       40      0.42%\n",
      "                                          InhA|MapAB       20      0.21%\n",
      "                                                KasA       20      0.21%\n",
      "                                          KasA|AccD6       20      0.21%\n",
      "                                                LprG       16      0.17%\n",
      "                                                MbtI      140      1.49%\n",
      "                                                 Mdh       20      0.21%\n",
      "                                               MmpL3      115      1.22%\n",
      "                                         MmpL3|EchA6       28      0.30%\n",
      "                                                MshC       20      0.21%\n",
      "                                                MurI       20      0.21%\n",
      "                                  NADH dehydrogenase       36      0.38%\n",
      "                   NADH dehydrogenase|phenazine-like       28      0.30%\n",
      "                   PG transpeptidation and transport      316      3.35%\n",
      "                                                PanC       36      0.38%\n",
      "                                                ParA       40      0.42%\n",
      "       ParA|membrane potential disruption and efflux       20      0.21%\n",
      "                                               PknAG       20      0.21%\n",
      "                                                PknB       19      0.20%\n",
      "                                               Pks13       69      0.73%\n",
      "                                           PptT|FtsZ       20      0.21%\n",
      "                                                PrrB       48      0.51%\n",
      "                                                QcrB      130      1.38%\n",
      "                                                RpoB      270      2.86%\n",
      "                                                TopA      240      2.55%\n",
      "                                               TrpAB       60      0.64%\n",
      "                                                TrxC       20      0.21%\n",
      "                                                UppS        8      0.08%\n",
      "                                      beta-lactamase       60      0.64%\n",
      "                                     cAMP modulation       20      0.21%\n",
      "                           clp protease / proteasome      457      4.85%\n",
      "                                     lipid esterases       20      0.21%\n",
      "                                  membrane integrity       38      0.40%\n",
      "            membrane potential disruption and efflux      159      1.69%\n",
      "  membrane potential disruption and efflux|NADH dehydrogenase      220      2.33%\n",
      "                               menaquinone synthesis       20      0.21%\n",
      "                                 metal ion chelation       36      0.38%\n",
      "                                      phenazine-like       61      0.65%\n",
      "                                   purine metabolism      100      1.06%\n",
      "                             purine metabolism|GuaB2      100      1.06%\n",
      "                             purine metabolism|NrdF2       80      0.85%\n",
      "       purine metabolism|pyrimidine metabolism|NrdF2       20      0.21%\n",
      "                               pyrimidine metabolism       60      0.64%\n",
      "                 pyrimidine metabolism|CoaA and PyrG      140      1.49%\n",
      "                         pyrimidine metabolism|NrdF2       20      0.21%\n",
      "                         pyrimidine metabolism|ThyAX      160      1.70%\n",
      "                                   sterol metabolism       20      0.21%\n",
      "                                      tRNA synthesis       87      0.92%\n"
     ]
    }
   ],
   "source": [
    "tabulate(sort(col_meta.pcl_desc))"
   ]
  },
  {
   "cell_type": "code",
   "execution_count": 18,
   "id": "6aa016c9-604d-4627-9a29-251fdd20cb83",
   "metadata": {},
   "outputs": [
    {
     "name": "stdout",
     "output_type": "stream",
     "text": [
      "\n",
      "ans =\n",
      "\n",
      "       70446\n",
      "\n"
     ]
    }
   ],
   "source": [
    "idx = cellfun(@isempty, col_meta.pcl_desc);\n",
    "sum(idx)\n",
    "col_meta(idx,:) = [];"
   ]
  },
  {
   "cell_type": "code",
   "execution_count": 19,
   "id": "dcb7b62b-8089-4c18-987c-80ecb0ee9e6b",
   "metadata": {},
   "outputs": [],
   "source": [
    "wtable(col_meta, fullfile(wkdir,'col_meta_kabx.txt'))"
   ]
  },
  {
   "cell_type": "markdown",
   "id": "2a29d17a-52d1-4303-b8fa-a8021aed366d",
   "metadata": {},
   "source": [
    "## Unwrap detailed target description"
   ]
  },
  {
   "cell_type": "code",
   "execution_count": 20,
   "id": "e3986d2c-84d6-4ccb-ac0a-f26023a55e75",
   "metadata": {},
   "outputs": [
    {
     "name": "stdout",
     "output_type": "stream",
     "text": [
      "\n",
      "ans =\n",
      "\n",
      "        9427          34\n",
      "\n",
      "\n",
      "ans =\n",
      "\n",
      "       11081          34\n",
      "\n"
     ]
    }
   ],
   "source": [
    "size(col_meta)\n",
    "col_meta_for_pcls = struct2table(unwrap_table(table2struct(col_meta),'pcl_desc','|'));\n",
    "size(col_meta_for_pcls)"
   ]
  },
  {
   "cell_type": "code",
   "execution_count": 21,
   "id": "09dc8cee-2099-405d-b5a3-b601e7f8f6ba",
   "metadata": {},
   "outputs": [],
   "source": [
    "wtable(col_meta_for_pcls, fullfile(wkdir,'col_meta_kabx_for_pcls.txt'))"
   ]
  },
  {
   "cell_type": "code",
   "execution_count": 22,
   "id": "fc6bf74e-efd1-43ea-bc60-7764accb6239",
   "metadata": {},
   "outputs": [],
   "source": [
    "col_meta_for_pcls.pcl_desc = any2str(col_meta_for_pcls.pcl_desc);"
   ]
  },
  {
   "cell_type": "markdown",
   "id": "3db3fe34-ca38-47a3-b0aa-f654d4580d3c",
   "metadata": {},
   "source": [
    "## Slice gcts"
   ]
  },
  {
   "cell_type": "code",
   "execution_count": 23,
   "id": "eb23c87f-a5a1-41bb-b5a8-373970eac646",
   "metadata": {
    "tags": []
   },
   "outputs": [
    {
     "name": "stdout",
     "output_type": "stream",
     "text": [
      "\n",
      "ans =\n",
      "\n",
      "  10x1 cell array\n",
      "\n",
      "    {'tbda1:0013X 55UXB:0.781250uM'  }\n",
      "    {'tbda1:0013X 55UXB:1.562500uM'  }\n",
      "    {'tbda1:0013X 55UXB:100.000000uM'}\n",
      "    {'tbda1:0013X 55UXB:12.500000uM' }\n",
      "    {'tbda1:0013X 55UXB:25.000000uM' }\n",
      "    {'tbda1:0013X 55UXB:3.125000uM'  }\n",
      "    {'tbda1:0013X 55UXB:50.000000uM' }\n",
      "    {'tbda1:0013X 55UXB:6.250000uM'  }\n",
      "    {'tbda1:0037U 73XXX:0.390625uM'  }\n",
      "    {'tbda1:0037U 73XXX:0.781250uM'  }\n",
      "\n",
      "\n",
      "ans =\n",
      "\n",
      "  10x1 cell array\n",
      "\n",
      "    {'tbda1:0013X 55UXB:0.781250uM'  }\n",
      "    {'tbda1:0013X 55UXB:1.562500uM'  }\n",
      "    {'tbda1:0013X 55UXB:100.000000uM'}\n",
      "    {'tbda1:0013X 55UXB:12.500000uM' }\n",
      "    {'tbda1:0013X 55UXB:25.000000uM' }\n",
      "    {'tbda1:0013X 55UXB:3.125000uM'  }\n",
      "    {'tbda1:0013X 55UXB:50.000000uM' }\n",
      "    {'tbda1:0013X 55UXB:6.250000uM'  }\n",
      "    {'tbda1:0037U 73XXX:0.390625uM'  }\n",
      "    {'tbda1:0037U 73XXX:0.781250uM'  }\n",
      "\n"
     ]
    }
   ],
   "source": [
    "gr.cid(1:10)\n",
    "grzs.cid(1:10)"
   ]
  },
  {
   "cell_type": "code",
   "execution_count": 24,
   "id": "257014e0-bb62-4de1-b3e3-e7623cfa8dad",
   "metadata": {},
   "outputs": [],
   "source": [
    "gr = ds_slice(gr,'cid',unique(col_meta_for_pcls.cid,'stable'));\n",
    "grzs = ds_slice(grzs,'cid',unique(col_meta_for_pcls.cid,'stable'));\n",
    "grzs_czs = ds_slice(grzs_czs,'cid',unique(col_meta_for_pcls.cid,'stable'));"
   ]
  },
  {
   "cell_type": "code",
   "execution_count": 25,
   "id": "b0e28a42-3c1f-4ecc-8a20-182bdd808d37",
   "metadata": {},
   "outputs": [
    {
     "name": "stdout",
     "output_type": "stream",
     "text": [
      "Saving HDF5 dataset to: /idi/cgtb/abond/combine_screens_456/pcls_for_manuscript_final/gr_pcls_screens456_n9427x340.gctx...\n",
      "Disabling compression.\n",
      "Setting chunk size to: 340x771\n",
      "done [1.85s].\n",
      "\n",
      "ans =\n",
      "\n",
      "    '/idi/cgtb/abond/combine_screens_456/pcls_for_manuscript_final/gr_pcls_screens456_n9427x340.gctx'\n",
      "\n",
      "Saving HDF5 dataset to: /idi/cgtb/abond/combine_screens_456/pcls_for_manuscript_final/grzs_pcls_screens456_n9427x340.gctx...\n",
      "Disabling compression.\n",
      "Setting chunk size to: 340x771\n",
      "done [1.50s].\n",
      "\n",
      "ans =\n",
      "\n",
      "    '/idi/cgtb/abond/combine_screens_456/pcls_for_manuscript_final/grzs_pcls_screens456_n9427x340.gctx'\n",
      "\n",
      "Saving HDF5 dataset to: /idi/cgtb/abond/combine_screens_456/pcls_for_manuscript_final/grzs_czs_pcls_screens456_n9427x340.gctx...\n",
      "Disabling compression.\n",
      "Setting chunk size to: 340x771\n",
      "done [1.43s].\n",
      "\n",
      "ans =\n",
      "\n",
      "    '/idi/cgtb/abond/combine_screens_456/pcls_for_manuscript_final/grzs_czs_pcls_screens456_n9427x340.gctx'\n",
      "\n"
     ]
    }
   ],
   "source": [
    "mkgctx(fullfile(wkdir,'gr_pcls_screens456.gctx'),gr)\n",
    "mkgctx(fullfile(wkdir,'grzs_pcls_screens456.gctx'),grzs)\n",
    "mkgctx(fullfile(wkdir,'grzs_czs_pcls_screens456.gctx'),grzs_czs)"
   ]
  },
  {
   "cell_type": "markdown",
   "id": "85c46afc-65ef-42b8-994a-ae8614b0215a",
   "metadata": {},
   "source": [
    "## Create gmt"
   ]
  },
  {
   "cell_type": "code",
   "execution_count": 26,
   "id": "e3c01230-eef7-4633-b03f-2e384e5c646c",
   "metadata": {},
   "outputs": [
    {
     "name": "stdout",
     "output_type": "stream",
     "text": [
      "\n",
      "pcls = \n",
      "\n",
      "  71x1 struct array with fields:\n",
      "\n",
      "    head\n",
      "    desc\n",
      "    entry\n",
      "    len\n",
      "\n"
     ]
    }
   ],
   "source": [
    "pcls = tbl2gmt(table2struct(col_meta_for_pcls),'group_field','pcl_desc','desc_field','pcl_desc','member_field','cid')"
   ]
  },
  {
   "cell_type": "markdown",
   "id": "e54e05f7-dcaf-4c8a-a02a-90ecf6d36a49",
   "metadata": {},
   "source": [
    "## Remove ambiguous annotation"
   ]
  },
  {
   "cell_type": "code",
   "execution_count": 27,
   "id": "8a4ae76a-0049-4117-80f2-e02c5a6208cd",
   "metadata": {},
   "outputs": [
    {
     "name": "stdout",
     "output_type": "stream",
     "text": [
      "\n",
      "ans =\n",
      "\n",
      "     0\n",
      "\n",
      "\n",
      "pcls = \n",
      "\n",
      "  71x1 struct array with fields:\n",
      "\n",
      "    head\n",
      "    desc\n",
      "    entry\n",
      "    len\n",
      "\n"
     ]
    }
   ],
   "source": [
    "idx = ismember({pcls.head},{'NaN','unknown','whole cell only'});\n",
    "sum(idx)\n",
    "pcls(idx) = []"
   ]
  },
  {
   "cell_type": "code",
   "execution_count": 28,
   "id": "18573fcc-3647-4528-aa6c-248249c2b26d",
   "metadata": {},
   "outputs": [],
   "source": [
    "mkgmt(fullfile(wkdir,'new_pcls.gmt'), pcls)"
   ]
  },
  {
   "cell_type": "markdown",
   "id": "86cf28dc-6c96-48a3-988a-1d348256ea48",
   "metadata": {},
   "source": [
    "## Calculate correlation and rank of correlation using grzs"
   ]
  },
  {
   "cell_type": "code",
   "execution_count": 29,
   "id": "45bac42d-563b-4517-b811-1f736249ac24",
   "metadata": {},
   "outputs": [],
   "source": [
    "grzs_corr = ds_corr(grzs, 'type', 'pearson');"
   ]
  },
  {
   "cell_type": "code",
   "execution_count": 30,
   "id": "697afb88-2f53-4fd4-9271-727e78f03fd0",
   "metadata": {},
   "outputs": [],
   "source": [
    "grzs_corr_rank = grzs_corr;\n",
    "mat = rankorder(grzs_corr.mat,'dim','row','direc','descend');\n",
    "grzs_corr_rank.mat = (mat+mat')/2;"
   ]
  },
  {
   "cell_type": "code",
   "execution_count": 31,
   "id": "c583daa9-93ae-4015-b625-c2694dd2a7a6",
   "metadata": {},
   "outputs": [
    {
     "name": "stdout",
     "output_type": "stream",
     "text": [
      "Saving HDF5 dataset to: /idi/cgtb/abond/combine_screens_456/pcls_for_manuscript_final/grzs_for_pcls_screens456_pearson_corr_n9427x9427.gctx...\n",
      "Disabling compression.\n",
      "Setting chunk size to: 1000x262\n",
      "done [6.60s].\n",
      "\n",
      "ans =\n",
      "\n",
      "    '/idi/cgtb/abond/combine_screens_456/pcls_for_manuscript_final/grzs_for_pcls_screens456_pearson_corr_n9427x9427.gctx'\n",
      "\n",
      "Saving HDF5 dataset to: /idi/cgtb/abond/combine_screens_456/pcls_for_manuscript_final/grzs_for_pcls_screens456_pearson_corr_rank_n9427x9427.gctx...\n",
      "Disabling compression.\n",
      "Setting chunk size to: 1000x262\n",
      "done [6.28s].\n",
      "\n",
      "ans =\n",
      "\n",
      "    '/idi/cgtb/abond/combine_screens_456/pcls_for_manuscript_final/grzs_for_pcls_screens456_pearson_corr_rank_n9427x9427.gctx'\n",
      "\n"
     ]
    }
   ],
   "source": [
    "mkgctx(fullfile(wkdir,'grzs_for_pcls_screens456_pearson_corr.gctx'),grzs_corr)\n",
    "mkgctx(fullfile(wkdir,'grzs_for_pcls_screens456_pearson_corr_rank.gctx'),grzs_corr_rank)"
   ]
  },
  {
   "cell_type": "code",
   "execution_count": null,
   "id": "ec43d7c4-742f-45d3-b3ca-73cda107fcb7",
   "metadata": {},
   "outputs": [],
   "source": []
  }
 ],
 "metadata": {
  "kernelspec": {
   "display_name": "MATLAB",
   "language": "matlab",
   "name": "imatlab"
  },
  "language_info": {
   "codemirror_mode": "octave",
   "file_extension": ".m",
   "mimetype": "text/x-matlab",
   "name": "matlab",
   "nbconvert_exporter": "imatlab._exporter.MatlabExporter",
   "pygments_lexer": "matlab",
   "version": "9.8.0.1323502 (R2020a)"
  }
 },
 "nbformat": 4,
 "nbformat_minor": 5
}
