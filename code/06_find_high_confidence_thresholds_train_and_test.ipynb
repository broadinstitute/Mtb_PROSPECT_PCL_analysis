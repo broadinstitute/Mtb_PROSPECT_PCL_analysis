{
 "cells": [
  {
   "cell_type": "markdown",
   "id": "6a837d1d-007a-4501-9ef6-d3c6f181b088",
   "metadata": {},
   "source": [
    "## Start"
   ]
  },
  {
   "cell_type": "code",
   "execution_count": 75,
   "id": "8e6c7a44-76c5-4999-9562-1e4cb34f9a46",
   "metadata": {
    "tags": []
   },
   "outputs": [
    {
     "name": "stdout",
     "output_type": "stream",
     "text": [
      "\n",
      "prepare_loocv =\n",
      "\n",
      "  logical\n",
      "\n",
      "   1\n",
      "\n",
      "\n",
      "demo_loocv =\n",
      "\n",
      "  logical\n",
      "\n",
      "   1\n",
      "\n",
      "\n",
      "demo_loocv_number_or_list =\n",
      "\n",
      "    'number'\n",
      "\n",
      "\n",
      "demo_loocv_number_cmpds =\n",
      "\n",
      "     2\n",
      "\n",
      "\n",
      "demo_loocv_list_cmpds =\n",
      "\n",
      "  1x5 cell array\n",
      "\n",
      "  Columns 1 through 3\n",
      "\n",
      "    {'BRD-K04804440'}    {'BRD-K01507359'}    {'BRD-K87202646'}\n",
      "\n",
      "  Columns 4 through 5\n",
      "\n",
      "    {'BRD-K59853741'}    {'BRD-K27302037'}\n",
      "\n",
      "\n",
      "results_subdir_prefix =\n",
      "\n",
      "    'loocv_pcls/leave_out_cmpd_'\n",
      "\n",
      "\n",
      "loocv_save_out =\n",
      "\n",
      "  logical\n",
      "\n",
      "   0\n",
      "\n",
      "\n",
      "thrsh_rank =\n",
      "\n",
      "    20\n",
      "\n",
      "\n",
      "dynamic_thrsh_per_moa =\n",
      "\n",
      "  logical\n",
      "\n",
      "   0\n",
      "\n",
      "\n",
      "k_type =\n",
      "\n",
      "    'k_med_gap_den'\n",
      "\n",
      "\n",
      "outdir_name =\n",
      "\n",
      "    'pcls_spectral_clustering_thrsh_rank_le20_k_med_gap_den'\n",
      "\n",
      "\n",
      "outdir =\n",
      "\n",
      "    '../results/pcls_spectral_clustering_thrsh_rank_le20_k_med_gap_den'\n",
      "\n",
      "\n",
      "pcls_moa_path =\n",
      "\n",
      "    '../results/pcls_spectral_clustering_thrsh_rank_le20_k_med_gap_den/pcls.gmt'\n",
      "\n",
      "\n",
      "col_meta_kabx_for_pcls_filename =\n",
      "\n",
      "    'col_meta_kabx_for_pcls.txt'\n",
      "\n",
      "\n",
      "unknown_target_description_values =\n",
      "\n",
      "  1x6 cell array\n",
      "\n",
      "  Columns 1 through 5\n",
      "\n",
      "    {0x0 char}    {'NA'}    {'NAN'}    {'NaN'}    {'whole cell only'}\n",
      "\n",
      "  Column 6\n",
      "\n",
      "    {'unknown'}\n",
      "\n",
      "\n",
      "make_fig =\n",
      "\n",
      "  logical\n",
      "\n",
      "   0\n",
      "\n",
      "\n",
      "out_tbl_savename =\n",
      "\n",
      "    'by_pcl_similarity_to_confidence_score_thresholds_from_training_on_kabx.txt'\n",
      "\n",
      "\n",
      "opt_tbl_savename =\n",
      "\n",
      "    'by_pcl_high_confidence_similarity_score_thresholds_from_training_on_kabx.txt'\n",
      "\n",
      "\n",
      "out_tbl_test_cmpd_savename =\n",
      "\n",
      "    'by_pcl_similarity_to_confidence_score_test_cmpd_results.txt'\n",
      "\n"
     ]
    }
   ],
   "source": [
    "datadir = '../data';\n",
    "wkdir = '../results';\n",
    "\n",
    "mk_cd_dir(wkdir, false);\n",
    "%imatlab_export_fig('print-png')\n",
    "\n",
    "% loocv inputs\n",
    "\n",
    "prepare_loocv = true\n",
    "\n",
    "demo_loocv = true\n",
    "\n",
    "demo_loocv_number_or_list = 'number' % 'number' or 'list'\n",
    "\n",
    "demo_loocv_number_cmpds = 2\n",
    "\n",
    "demo_loocv_list_cmpds = {'BRD-K04804440','BRD-K01507359','BRD-K87202646','BRD-K59853741', 'BRD-K27302037'} % Ciprofloxacin, Rifampin, Isoniazid, Q203, Thioacetazone\n",
    "\n",
    "results_subdir_prefix = 'loocv_pcls/leave_out_cmpd_'\n",
    "\n",
    "loocv_save_out = false % save tabular file for each treatment's PCL similarity score\n",
    "\n",
    "\n",
    "% previous Spectral Clustering inputs\n",
    "\n",
    "thrsh_rank = 20 % threshold for average pairwise rank of correlation across KABX to connect treatments as mutual nearest-neighbors\n",
    "\n",
    "dynamic_thrsh_per_moa = false % if true then threshold is round(log(size of MOA) * thrsh_rank), otherwise identical threshold for every MOA\n",
    "\n",
    "k_type = 'k_med_gap_den' % eigengap heuristic to take for estimating number of K clusters: k_num_zero, k_num_zero_plus_one, k_med_gap_den, k_gap_den (see create_laplacian_matrix.m for additional information)\n",
    "\n",
    "if dynamic_thrsh_per_moa\n",
    "    outdir_name = sprintf('pcls_spectral_clustering_thrsh_rank_le%dxlogsize_%s', thrsh_rank, k_type) % log(MOA size), i.e. the number of treatments/dsCGI profiles in the MOA\n",
    "else\n",
    "    outdir_name = sprintf('pcls_spectral_clustering_thrsh_rank_le%d_%s', thrsh_rank, k_type)\n",
    "end\n",
    "\n",
    "outdir = fullfile(wkdir, outdir_name)\n",
    "\n",
    "mk_cd_dir(outdir, false);\n",
    "\n",
    "\n",
    "% step-specific inputs\n",
    "\n",
    "pcls_moa_path = fullfile(outdir, 'pcls.gmt')\n",
    "\n",
    "col_meta_kabx_for_pcls_filename = 'col_meta_kabx_for_pcls.txt'\n",
    "\n",
    "unknown_target_description_values = {'','NA','NAN','NaN','whole cell only','unknown'} % in case of different processing filetypes and NA values stored in import/export\n",
    "\n",
    "make_fig = false\n",
    "\n",
    "out_tbl_savename = 'by_pcl_similarity_to_confidence_score_thresholds_from_training_on_kabx.txt'\n",
    "\n",
    "opt_tbl_savename = 'by_pcl_high_confidence_similarity_score_thresholds_from_training_on_kabx.txt'\n",
    "\n",
    "out_tbl_test_cmpd_savename = 'by_pcl_similarity_to_confidence_score_test_cmpd_results.txt'\n",
    "\n",
    "high_confidence_pcl_confidence_score_thres = 1; % defined as such for uniformity and simplicity across all PCLs\n",
    "\n",
    "%pcl_stats_filename = 'figures_corr_summary.txt'\n",
    "\n",
    "%pcl_stats_path = fullfile(wkdir, pcl_stats_filename)"
   ]
  },
  {
   "cell_type": "code",
   "execution_count": 76,
   "id": "165815e4-b141-4371-982c-852a99c98984",
   "metadata": {},
   "outputs": [
    {
     "name": "stdout",
     "output_type": "stream",
     "text": [
      "\n",
      "col_meta_kabx_for_pcls_path =\n",
      "\n",
      "    '../results/col_meta_kabx_for_pcls.txt'\n",
      "\n"
     ]
    }
   ],
   "source": [
    "col_meta_kabx_for_pcls_path = fullfile(wkdir, col_meta_kabx_for_pcls_filename)"
   ]
  },
  {
   "cell_type": "code",
   "execution_count": 77,
   "id": "4372ab4d-810b-43eb-bad6-8d9a80174928",
   "metadata": {
    "tags": []
   },
   "outputs": [
    {
     "name": "stdout",
     "output_type": "stream",
     "text": [
      "\n",
      "ans =\n",
      "\n",
      "  logical\n",
      "\n",
      "   1\n",
      "\n",
      "\n",
      "ans =\n",
      "\n",
      "  logical\n",
      "\n",
      "   1\n",
      "\n"
     ]
    }
   ],
   "source": [
    "exist(col_meta_kabx_for_pcls_path) > 0\n",
    "\n",
    "exist(pcls_moa_path) > 0\n",
    "\n",
    "%exist(pcl_stats_path) > 0\n",
    "\n",
    "assert(exist(col_meta_kabx_for_pcls_path) > 0)\n",
    "\n",
    "assert(exist(pcls_moa_path) > 0)\n",
    "\n",
    "%assert(exist(pcl_stats_path) > 0)"
   ]
  },
  {
   "cell_type": "code",
   "execution_count": 78,
   "id": "2fa92294-ca92-41a9-bb2e-31332c53a7e6",
   "metadata": {
    "tags": []
   },
   "outputs": [
    {
     "name": "stdout",
     "output_type": "stream",
     "text": [
      "cluster_median_corr_n10819x1947.gctx\n",
      "ds_corr_n7229x10819.gctx\n",
      "kabx_pcl_similarity_score_x_rcorr_all_profile_pcl_pairs.png\n",
      "kabx_roc_fpr_x_tpr_all_profile_pcl_pairs.png\n",
      "kabx_roc_tpr_x_pcl_similarity_score_threshold_all_profile_pcl_pairs.png\n",
      "pcl_and_moa_agree_n10819x1140.gctx\n",
      "pcl_confidence_score_n10819x10.gctx\n",
      "pcl_confidence_score_n10819x100.gctx\n",
      "pcl_similarity_score_n10819x1140.gctx\n",
      "pcls.gmt\n",
      "test_compound_pcl_similarity_score_x_rcorr_all_profile_pcl_pairs.png\n",
      "\n"
     ]
    }
   ],
   "source": [
    "ls(outdir)"
   ]
  },
  {
   "cell_type": "markdown",
   "id": "d9c2fb58-efae-4a9c-a680-e1d2d988ae8b",
   "metadata": {
    "tags": []
   },
   "source": [
    "## Load annotation of KABX dsCGI profiles used to construct PCLs and extract the unique KABX compound list (pert_ids)"
   ]
  },
  {
   "cell_type": "code",
   "execution_count": 81,
   "id": "052ea2c2-95d8-4ce7-9f1a-7b3284cc97ba",
   "metadata": {
    "tags": []
   },
   "outputs": [
    {
     "name": "stdout",
     "output_type": "stream",
     "text": [
      "\n",
      "col_meta_kabx_for_pcls_path =\n",
      "\n",
      "    '../results/col_meta_kabx_for_pcls.txt'\n",
      "\n",
      "Reading ../results/col_meta_kabx_for_pcls.txt\n",
      "\n",
      "Size and head of col_meta_kabx_for_pcls table\n",
      "\n",
      "ans =\n",
      "\n",
      "       11081          22\n",
      "\n",
      "\n",
      "ans =\n",
      "\n",
      "  22x3 table\n",
      "\n",
      "    idx               field                                                                        value                                                          \n",
      "    ___    ___________________________    ________________________________________________________________________________________________________________________\n",
      "\n",
      "     1     {'cid'                    }    {'kabx2:BRD-A05468928-003-01-4:0.097500uM'                                                                             }\n",
      "     2     {'broad_id'               }    {'BRD-A05468928-003-01-4'                                                                                              }\n",
      "     3     {'canonical_smiles'       }    {'CC1CN(CCN1)c1cc2n(cc(C(O)=O)c(=O)c2cc1F)-c1ccc(F)cc1F'                                                               }\n",
      "     4     {'pert_class'             }    {'fluoroquinolone'                                                                                                     }\n",
      "     5     {'pert_dose'              }    {[                                                                                                              0.0975]}\n",
      "     6     {'pert_id'                }    {'BRD-A05468928'                                                                                                       }\n",
      "     7     {'pert_id_pubchem_cid'    }    {'60021'                                                                                                               }\n",
      "     8     {'pert_idose'             }    {'0.097500uM'                                                                                                          }\n",
      "     9     {'pert_idose_tickl'       }    {'0.0975uM'                                                                                                            }\n",
      "    10     {'pert_iname'             }    {'temafloxacin'                                                                                                        }\n",
      "    11     {'pert_reference'         }    {'https://doi.org/10.1128/aac.00944-06|https://doi.org/10.1038/s41586-019-1315-z|https://go.drugbank.com/drugs/DB01405'}\n",
      "    12     {'pert_type'              }    {'trt'                                                                                                                 }\n",
      "    13     {'proj_broad_id'          }    {'screen4wk_screen5wk_tbda1_kabx2:BRD-A05468928-003-01-4'                                                              }\n",
      "    14     {'project_id'             }    {'screen4wk_screen5wk_tbda1_kabx2'                                                                                     }\n",
      "    15     {'target_description'     }    {'GyrAB'                                                                                                               }\n",
      "    16     {'target_description_long'}    {'DNA gyrase'                                                                                                          }\n",
      "    17     {'target_pathway'         }    {'DNA replication'                                                                                                     }\n",
      "    18     {'target_process'         }    {'DNA replication and repair'                                                                                          }\n",
      "    19     {'trt_id'                 }    {'BRD-A05468928-003-01-4:0.097500uM'                                                                                   }\n",
      "    20     {'x_csv_broad_id'         }    {'BRD-A05468928-003-01-4'                                                                                              }\n",
      "    21     {'x_subproject_id'        }    {'kabx2'                                                                                                               }\n",
      "    22     {'pcl_desc'               }    {'GyrAB'                                                                                                               }\n",
      "\n"
     ]
    }
   ],
   "source": [
    "%% will be used to split up training (KABX) set from test (unknown compound) set and use of col_meta_kabx_for_pcls.txt file\n",
    "%% is particularly important for iterations of LOOCV in order to subset out the leftout KABX compound as the test set since\n",
    "%% it was not used in PCL construction and will not appear in the extracted KABX compound list \n",
    "\n",
    "col_meta_kabx_for_pcls_path\n",
    "col_meta_kabx_for_pcls = rtable(col_meta_kabx_for_pcls_path);\n",
    "disp('Size and head of col_meta_kabx_for_pcls table');\n",
    "size(col_meta_kabx_for_pcls)\n",
    "headt(col_meta_kabx_for_pcls)"
   ]
  },
  {
   "cell_type": "code",
   "execution_count": 82,
   "id": "6c29fcdc-76dd-4575-81db-bb1ed14ea283",
   "metadata": {},
   "outputs": [
    {
     "name": "stdout",
     "output_type": "stream",
     "text": [
      "\n",
      "ans =\n",
      "\n",
      "   437\n",
      "\n"
     ]
    }
   ],
   "source": [
    "unique_pert_ids_in_kabx_for_pcls = unique(col_meta_kabx_for_pcls.pert_id);\n",
    "\n",
    "length(unique_pert_ids_in_kabx_for_pcls)"
   ]
  },
  {
   "cell_type": "markdown",
   "id": "33db27e1-ee25-4dc3-9d83-a09efcf643db",
   "metadata": {},
   "source": [
    "## Parse gctx with the PCL similarity score (median correlation of treatment to each PCL's treatments)"
   ]
  },
  {
   "cell_type": "code",
   "execution_count": 83,
   "id": "a7ed01f5-1b54-4728-ba72-77d91bf39b34",
   "metadata": {},
   "outputs": [
    {
     "name": "stdout",
     "output_type": "stream",
     "text": [
      "\n",
      "g =\n",
      "\n",
      "  1x1 cell array\n",
      "\n",
      "    {'../results/pcls_spectral_clustering_thrsh_rank_le20_k_med_gap_den/pcl_similarity_score_n10819x1140.gctx'}\n",
      "\n",
      "Reading ../results/pcls_spectral_clustering_thrsh_rank_le20_k_med_gap_den/pcl_similarity_score_n10819x1140.gctx [1140x10819]\n",
      "Done [2.41 s].\n"
     ]
    }
   ],
   "source": [
    "g = glob(fullfile(outdir,'pcl_similarity_score_n*.gctx'))\n",
    "s = parse_gctx(g{1});"
   ]
  },
  {
   "cell_type": "code",
   "execution_count": 84,
   "id": "882f8b49-2ec2-4c55-a8e4-0ff070174e2e",
   "metadata": {},
   "outputs": [
    {
     "name": "stdout",
     "output_type": "stream",
     "text": [
      "\n",
      "ans =\n",
      "\n",
      "  24x1 cell array\n",
      "\n",
      "    {'broad_id'               }\n",
      "    {'canonical_smiles'       }\n",
      "    {'frac_gr_le0_30'         }\n",
      "    {'pert_class'             }\n",
      "    {'pert_dose'              }\n",
      "    {'pert_id'                }\n",
      "    {'pert_id_pubchem_cid'    }\n",
      "    {'pert_idose'             }\n",
      "    {'pert_idose_tickl'       }\n",
      "    {'pert_iname'             }\n",
      "    {'pert_reference'         }\n",
      "    {'pert_type'              }\n",
      "    {'proj_broad_id'          }\n",
      "    {'project_id'             }\n",
      "    {'rcorr'                  }\n",
      "    {'rcorr_rank'             }\n",
      "    {'target_description'     }\n",
      "    {'target_description_long'}\n",
      "    {'target_pathway'         }\n",
      "    {'target_process'         }\n",
      "    {'trt_id'                 }\n",
      "    {'x_csv_broad_id'         }\n",
      "    {'x_median_total_count'   }\n",
      "    {'x_subproject_id'        }\n",
      "\n"
     ]
    }
   ],
   "source": [
    "s.chd"
   ]
  },
  {
   "cell_type": "markdown",
   "id": "5570f02d-5a85-4c80-9166-9d62ccad41f3",
   "metadata": {},
   "source": [
    "## Parse gctx with binary labels if KABX treatment belongs to MOA of a PCL, i.e, pcl_and_moa_agree"
   ]
  },
  {
   "cell_type": "code",
   "execution_count": 85,
   "id": "db78f799-d129-47c7-8328-6229511d3ab3",
   "metadata": {},
   "outputs": [
    {
     "name": "stdout",
     "output_type": "stream",
     "text": [
      "\n",
      "g =\n",
      "\n",
      "  1x1 cell array\n",
      "\n",
      "    {'../results/pcls_spectral_clustering_thrsh_rank_le20_k_med_gap_den/pcl_and_moa_agree_n10819x1140.gctx'}\n",
      "\n",
      "Reading ../results/pcls_spectral_clustering_thrsh_rank_le20_k_med_gap_den/pcl_and_moa_agree_n10819x1140.gctx [1140x10819]\n",
      "Done [2.44 s].\n"
     ]
    }
   ],
   "source": [
    "g = glob(fullfile(outdir,'pcl_and_moa_agree_n*.gctx'))\n",
    "l = parse_gctx(g{1});"
   ]
  },
  {
   "cell_type": "code",
   "execution_count": 86,
   "id": "55689f29-e17a-4015-8216-c09fe746c81b",
   "metadata": {},
   "outputs": [
    {
     "name": "stdout",
     "output_type": "stream",
     "text": [
      "\n",
      "ans =\n",
      "\n",
      "  24x1 cell array\n",
      "\n",
      "    {'broad_id'               }\n",
      "    {'canonical_smiles'       }\n",
      "    {'frac_gr_le0_30'         }\n",
      "    {'pert_class'             }\n",
      "    {'pert_dose'              }\n",
      "    {'pert_id'                }\n",
      "    {'pert_id_pubchem_cid'    }\n",
      "    {'pert_idose'             }\n",
      "    {'pert_idose_tickl'       }\n",
      "    {'pert_iname'             }\n",
      "    {'pert_reference'         }\n",
      "    {'pert_type'              }\n",
      "    {'proj_broad_id'          }\n",
      "    {'project_id'             }\n",
      "    {'rcorr'                  }\n",
      "    {'rcorr_rank'             }\n",
      "    {'target_description'     }\n",
      "    {'target_description_long'}\n",
      "    {'target_pathway'         }\n",
      "    {'target_process'         }\n",
      "    {'trt_id'                 }\n",
      "    {'x_csv_broad_id'         }\n",
      "    {'x_median_total_count'   }\n",
      "    {'x_subproject_id'        }\n",
      "\n"
     ]
    }
   ],
   "source": [
    "l.chd"
   ]
  },
  {
   "cell_type": "markdown",
   "id": "0e242ac0-de39-4054-90ba-f9a614abb3ff",
   "metadata": {
    "tags": []
   },
   "source": [
    "## Select all profiles regardless of rcorr"
   ]
  },
  {
   "cell_type": "code",
   "execution_count": 87,
   "id": "f542dd79-65e5-4a64-8270-fd5e5eb52a9f",
   "metadata": {},
   "outputs": [
    {
     "name": "stdout",
     "output_type": "stream",
     "text": [
      "Total number of compounds (pert_ids): 611\n",
      "Total number of broad_ids: 679\n",
      "Total number of proj_broad_ids: 1141\n",
      "Total number of dsCGI profiles / treatments (cids): 10819\n"
     ]
    }
   ],
   "source": [
    "disp(sprintf('Total number of compounds (pert_ids): %d', numel(unique(s.cdesc(:,s.cdict('pert_id'))))))\n",
    "disp(sprintf('Total number of broad_ids: %d', numel(unique(s.cdesc(:,s.cdict('broad_id'))))))\n",
    "disp(sprintf('Total number of proj_broad_ids: %d', numel(unique(s.cdesc(:,s.cdict('proj_broad_id'))))))\n",
    "disp(sprintf('Total number of dsCGI profiles / treatments (cids): %d', numel(unique(s.cid))))\n",
    "\n",
    "%% Commented out portion would consider only dsCGI profiles with rcorr (replicate correlation/reproducibility) above a given threshold %%\n",
    "%cidx = cell2mat(s.cdesc(:,s.cdict('rcorr')))>=0.3;\n",
    "%sum(cidx)\n",
    "%disp(sprintf('Total number of compounds (pert_ids) with high rcorr: %d', numel(unique(s.cdesc(cidx,s.cdict('pert_id'))))))\n",
    "%disp(sprintf('Total number of broad_ids with high rcorr: %d', numel(unique(s.cdesc(cidx,s.cdict('broad_id'))))))\n",
    "%disp(sprintf('Total number of proj_broad_ids with high rcorr: %d', numel(unique(s.cdesc(cidx,s.cdict('proj_broad_id'))))))\n",
    "%disp(sprintf('Total number of dsCGI profiles / treatments (cids) with high rcorr: %d', numel(unique(s.cdesc(cidx,s.cdict('pert_id'))))))\n",
    "%\n",
    "%s = ds_slice(s,'cidx',cidx);"
   ]
  },
  {
   "cell_type": "code",
   "execution_count": 88,
   "id": "591dbd39-d5c9-4574-836b-fc8f4b9e4e5f",
   "metadata": {},
   "outputs": [
    {
     "name": "stdout",
     "output_type": "stream",
     "text": [
      "\n",
      "unknown_target_description_values =\n",
      "\n",
      "  1x6 cell array\n",
      "\n",
      "  Columns 1 through 5\n",
      "\n",
      "    {0x0 char}    {'NA'}    {'NAN'}    {'NaN'}    {'whole cell only'}\n",
      "\n",
      "  Column 6\n",
      "\n",
      "    {'unknown'}\n",
      "\n",
      "Number of KABX MOA-annotated dsCGI profiles\n",
      "\n",
      "ans =\n",
      "\n",
      "        9427\n",
      "\n",
      "Number of unknown, test dsCGI profiles\n",
      "\n",
      "ans =\n",
      "\n",
      "        1392\n",
      "\n"
     ]
    }
   ],
   "source": [
    "unknown_target_description_values\n",
    "\n",
    "cidx = ~cellfun(@(x) any(strcmp(x, unknown_target_description_values)), s.cdesc(:, s.cdict('target_description')));\n",
    "disp('Number of KABX MOA-annotated dsCGI profiles')\n",
    "sum(cidx)\n",
    "disp('Number of unknown, test dsCGI profiles')\n",
    "sum(~cidx)"
   ]
  },
  {
   "cell_type": "code",
   "execution_count": 89,
   "id": "95d5cea8-60c2-4c60-81a9-3a854c1f2bc5",
   "metadata": {
    "tags": []
   },
   "outputs": [
    {
     "name": "stdout",
     "output_type": "stream",
     "text": [
      "\n",
      "ans =\n",
      "\n",
      "  81x3 table\n",
      "\n",
      "                          target_description                           count    percent \n",
      "    _______________________________________________________________    _____    ________\n",
      "\n",
      "    {'30S ribosome'                                               }     417       4.4235\n",
      "    {'30S ribosome|InfB'                                          }      40      0.42431\n",
      "    {'30S ribosome|tRNA synthesis'                                }      20      0.21216\n",
      "    {'50S ribosome'                                               }     740       7.8498\n",
      "    {'50S ribosome|FusA1'                                         }      40      0.42431\n",
      "    {'ATP synthase'                                               }      38       0.4031\n",
      "    {'AccD6'                                                      }      60      0.63647\n",
      "    {'Alr'                                                        }     320       3.3945\n",
      "    {'Alr|DdlA'                                                   }      28      0.29702\n",
      "    {'CoaBC'                                                      }      16      0.16973\n",
      "    {'CydAB'                                                      }      36      0.38188\n",
      "    {'Cyp121'                                                     }      60      0.63647\n",
      "    {'CysH'                                                       }      20      0.21216\n",
      "    {'DHFR'                                                       }     212       2.2489\n",
      "    {'DHFR|ThyAX'                                                 }     148         1.57\n",
      "    {'DHPS'                                                       }     416       4.4129\n",
      "    {'DprE1-DprE2 complex'                                        }     268       2.8429\n",
      "    {'Dxr'                                                        }       8     0.084863\n",
      "    {'EmbABC'                                                     }      28      0.29702\n",
      "    {'FadD32'                                                     }      76      0.80619\n",
      "    {'Fba'                                                        }      20      0.21216\n",
      "    {'FtsZ|DprE1-DprE2 complex'                                   }      18      0.19094\n",
      "    {'Fum'                                                        }      20      0.21216\n",
      "    {'Glf'                                                        }      40      0.42431\n",
      "    {'GlgB'                                                       }      20      0.21216\n",
      "    {'GlmU'                                                       }     100       1.0608\n",
      "    {'GyrAB'                                                      }     827       8.7727\n",
      "    {'GyrAB|DnaG'                                                 }     164       1.7397\n",
      "    {'GyrAB|TopA'                                                 }     260        2.758\n",
      "    {'HadABC'                                                     }      48      0.50918\n",
      "    {'Icl'                                                        }      16      0.16973\n",
      "    {'IlvB1'                                                      }      24      0.25459\n",
      "    {'InhA'                                                       }    1162       12.326\n",
      "    {'InhA|GlmU'                                                  }      40      0.42431\n",
      "    {'InhA|MapAB'                                                 }      20      0.21216\n",
      "    {'KasA'                                                       }      20      0.21216\n",
      "    {'KasA|AccD6'                                                 }      20      0.21216\n",
      "    {'LprG'                                                       }      16      0.16973\n",
      "    {'MbtI'                                                       }     140       1.4851\n",
      "    {'Mdh'                                                        }      20      0.21216\n",
      "    {'MmpL3'                                                      }     115       1.2199\n",
      "    {'MmpL3|EchA6'                                                }      28      0.29702\n",
      "    {'MshC'                                                       }      20      0.21216\n",
      "    {'MurI'                                                       }      20      0.21216\n",
      "    {'NADH dehydrogenase'                                         }      36      0.38188\n",
      "    {'NADH dehydrogenase|phenazine-like'                          }      28      0.29702\n",
      "    {'PG transpeptidation and transport'                          }     316       3.3521\n",
      "    {'PanC'                                                       }      36      0.38188\n",
      "    {'ParA'                                                       }      40      0.42431\n",
      "    {'ParA|membrane potential disruption and efflux'              }      20      0.21216\n",
      "    {'PknAG'                                                      }      20      0.21216\n",
      "    {'PknB'                                                       }      19      0.20155\n",
      "    {'Pks13'                                                      }      69      0.73194\n",
      "    {'PptT|FtsZ'                                                  }      20      0.21216\n",
      "    {'PrrB'                                                       }      48      0.50918\n",
      "    {'QcrB'                                                       }     130        1.379\n",
      "    {'RpoB'                                                       }     270       2.8641\n",
      "    {'TopA'                                                       }     240       2.5459\n",
      "    {'TrpAB'                                                      }      60      0.63647\n",
      "    {'TrxC'                                                       }      20      0.21216\n",
      "    {'UppS'                                                       }       8     0.084863\n",
      "    {'beta-lactamase'                                             }      60      0.63647\n",
      "    {'cAMP modulation'                                            }      20      0.21216\n",
      "    {'clp protease / proteasome'                                  }     457       4.8478\n",
      "    {'lipid esterases'                                            }      20      0.21216\n",
      "    {'membrane integrity'                                         }      38       0.4031\n",
      "    {'membrane potential disruption and efflux'                   }     159       1.6866\n",
      "    {'membrane potential disruption and efflux|NADH dehydrogenase'}     220       2.3337\n",
      "    {'menaquinone synthesis'                                      }      20      0.21216\n",
      "    {'metal ion chelation'                                        }      36      0.38188\n",
      "    {'phenazine-like'                                             }      61      0.64708\n",
      "    {'purine metabolism'                                          }     100       1.0608\n",
      "    {'purine metabolism|GuaB2'                                    }     100       1.0608\n",
      "    {'purine metabolism|NrdF2'                                    }      80      0.84863\n",
      "    {'purine metabolism|pyrimidine metabolism|NrdF2'              }      20      0.21216\n",
      "    {'pyrimidine metabolism'                                      }      60      0.63647\n",
      "    {'pyrimidine metabolism|CoaA and PyrG'                        }     140       1.4851\n",
      "    {'pyrimidine metabolism|NrdF2'                                }      20      0.21216\n",
      "    {'pyrimidine metabolism|ThyAX'                                }     160       1.6973\n",
      "    {'sterol metabolism'                                          }      20      0.21216\n",
      "    {'tRNA synthesis'                                             }      87      0.92288\n",
      "\n",
      "\n",
      "ans =\n",
      "\n",
      "  1x3 table\n",
      "\n",
      "    target_description    count    percent\n",
      "    __________________    _____    _______\n",
      "\n",
      "          {'NA'}          1392       100  \n",
      "\n"
     ]
    }
   ],
   "source": [
    "% dsCGI profiles from MOA-annotated KABX compounds\n",
    "sortrows(cell2table(tabulate(s.cdesc(cidx,s.cdict('target_description'))),...\n",
    "    'VariableNames',{'target_description','count','percent'}),1)\n",
    "\n",
    "% dsCGI profiles from unannotated test compounds NA, N/A, NAN, Not Applicable\n",
    "sortrows(cell2table(tabulate(s.cdesc(~cidx,s.cdict('target_description'))),...\n",
    "    'VariableNames',{'target_description','count','percent'}),1)"
   ]
  },
  {
   "cell_type": "markdown",
   "id": "c1bbdb7e-8bc5-4efb-aac9-c100ad50e7cc",
   "metadata": {},
   "source": [
    "## Construct table with PCL similarity score and binary labels of if dsCGI profile matches each PCL's annotated MOA for fitting PCL confidence score mapping and finding high-confidence similarity score thresholds"
   ]
  },
  {
   "cell_type": "code",
   "execution_count": 90,
   "id": "a6cf596e-eac3-46ee-beac-a81b7af07525",
   "metadata": {},
   "outputs": [
    {
     "name": "stdout",
     "output_type": "stream",
     "text": [
      "\n",
      "ss = \n",
      "\n",
      "  struct with fields:\n",
      "\n",
      "        mat: [1140x10819 single]\n",
      "        rid: {1140x1 cell}\n",
      "        rhd: {7x1 cell}\n",
      "      rdesc: {1140x7 cell}\n",
      "        cid: {10819x1 cell}\n",
      "        chd: {24x1 cell}\n",
      "      cdesc: {10819x24 cell}\n",
      "      rdict: [7x1 containers.Map]\n",
      "      cdict: [24x1 containers.Map]\n",
      "        src: '../results/pcls_spectral_clustering_thrsh_rank_le20_k_med_gap_den/pcl_similarity_score_n10819x1140.gctx'\n",
      "    version: 'GCTX1.0'\n",
      "     h5path: '/0/DATA/0/matrix'\n",
      "     h5name: 'unnamed'\n",
      "\n"
     ]
    }
   ],
   "source": [
    "ss = s"
   ]
  },
  {
   "cell_type": "code",
   "execution_count": 91,
   "id": "5ca8aecd-ee08-45fe-9f6c-6b45bb16bca2",
   "metadata": {
    "tags": []
   },
   "outputs": [
    {
     "name": "stdout",
     "output_type": "stream",
     "text": [
      "Head of col_meta_ss tbl:\n",
      "    idx               field                                                                        value                                                          \n",
      "    ___    ___________________________    ________________________________________________________________________________________________________________________\n",
      "\n",
      "     1     {'cid'                    }    {'kabx2:BRD-A05468928-003-01-4:0.097500uM'                                                                             }\n",
      "     2     {'broad_id'               }    {'BRD-A05468928-003-01-4'                                                                                              }\n",
      "     3     {'canonical_smiles'       }    {'CC1CN(CCN1)c1cc2n(cc(C(O)=O)c(=O)c2cc1F)-c1ccc(F)cc1F'                                                               }\n",
      "     4     {'frac_gr_le0_30'         }    {[                                                                                                                   0]}\n",
      "     5     {'pert_class'             }    {'fluoroquinolone'                                                                                                     }\n",
      "     6     {'pert_dose'              }    {[                                                                                                              0.0975]}\n",
      "     7     {'pert_id'                }    {'BRD-A05468928'                                                                                                       }\n",
      "     8     {'pert_id_pubchem_cid'    }    {'60021'                                                                                                               }\n",
      "     9     {'pert_idose'             }    {'0.097500uM'                                                                                                          }\n",
      "    10     {'pert_idose_tickl'       }    {'0.0975uM'                                                                                                            }\n",
      "    11     {'pert_iname'             }    {'temafloxacin'                                                                                                        }\n",
      "    12     {'pert_reference'         }    {'https://doi.org/10.1128/aac.00944-06|https://doi.org/10.1038/s41586-019-1315-z|https://go.drugbank.com/drugs/DB01405'}\n",
      "    13     {'pert_type'              }    {'trt'                                                                                                                 }\n",
      "    14     {'proj_broad_id'          }    {'screen4wk_screen5wk_tbda1_kabx2:BRD-A05468928-003-01-4'                                                              }\n",
      "    15     {'project_id'             }    {'screen4wk_screen5wk_tbda1_kabx2'                                                                                     }\n",
      "    16     {'rcorr'                  }    {[                                                                                                              0.0538]}\n",
      "    17     {'rcorr_rank'             }    {[                                                                                                              0.3211]}\n",
      "    18     {'target_description'     }    {'GyrAB'                                                                                                               }\n",
      "    19     {'target_description_long'}    {'DNA gyrase'                                                                                                          }\n",
      "    20     {'target_pathway'         }    {'DNA replication'                                                                                                     }\n",
      "    21     {'target_process'         }    {'DNA replication and repair'                                                                                          }\n",
      "    22     {'trt_id'                 }    {'BRD-A05468928-003-01-4:0.097500uM'                                                                                   }\n",
      "    23     {'x_csv_broad_id'         }    {'BRD-A05468928-003-01-4'                                                                                              }\n",
      "    24     {'x_median_total_count'   }    {[                                                                                                              225508]}\n",
      "    25     {'x_subproject_id'        }    {'kabx2'                                                                                                               }\n",
      "\n",
      "Unique KABX MOA annotations including multi-target:\n",
      "\n",
      "ans =\n",
      "\n",
      "  82x1 cell array\n",
      "\n",
      "    {'30S ribosome'                                               }\n",
      "    {'30S ribosome|InfB'                                          }\n",
      "    {'30S ribosome|tRNA synthesis'                                }\n",
      "    {'50S ribosome'                                               }\n",
      "    {'50S ribosome|FusA1'                                         }\n",
      "    {'ATP synthase'                                               }\n",
      "    {'AccD6'                                                      }\n",
      "    {'Alr'                                                        }\n",
      "    {'Alr|DdlA'                                                   }\n",
      "    {'CoaBC'                                                      }\n",
      "    {'CydAB'                                                      }\n",
      "    {'Cyp121'                                                     }\n",
      "    {'CysH'                                                       }\n",
      "    {'DHFR'                                                       }\n",
      "    {'DHFR|ThyAX'                                                 }\n",
      "    {'DHPS'                                                       }\n",
      "    {'DprE1-DprE2 complex'                                        }\n",
      "    {'Dxr'                                                        }\n",
      "    {'EmbABC'                                                     }\n",
      "    {'FadD32'                                                     }\n",
      "    {'Fba'                                                        }\n",
      "    {'FtsZ|DprE1-DprE2 complex'                                   }\n",
      "    {'Fum'                                                        }\n",
      "    {'Glf'                                                        }\n",
      "    {'GlgB'                                                       }\n",
      "    {'GlmU'                                                       }\n",
      "    {'GyrAB'                                                      }\n",
      "    {'GyrAB|DnaG'                                                 }\n",
      "    {'GyrAB|TopA'                                                 }\n",
      "    {'HadABC'                                                     }\n",
      "    {'Icl'                                                        }\n",
      "    {'IlvB1'                                                      }\n",
      "    {'InhA'                                                       }\n",
      "    {'InhA|GlmU'                                                  }\n",
      "    {'InhA|MapAB'                                                 }\n",
      "    {'KasA'                                                       }\n",
      "    {'KasA|AccD6'                                                 }\n",
      "    {'LprG'                                                       }\n",
      "    {'MbtI'                                                       }\n",
      "    {'Mdh'                                                        }\n",
      "    {'MmpL3'                                                      }\n",
      "    {'MmpL3|EchA6'                                                }\n",
      "    {'MshC'                                                       }\n",
      "    {'MurI'                                                       }\n",
      "    {'NA'                                                         }\n",
      "    {'NADH dehydrogenase'                                         }\n",
      "    {'NADH dehydrogenase|phenazine-like'                          }\n",
      "    {'PG transpeptidation and transport'                          }\n",
      "    {'PanC'                                                       }\n",
      "    {'ParA'                                                       }\n",
      "    {'ParA|membrane potential disruption and efflux'              }\n",
      "    {'PknAG'                                                      }\n",
      "    {'PknB'                                                       }\n",
      "    {'Pks13'                                                      }\n",
      "    {'PptT|FtsZ'                                                  }\n",
      "    {'PrrB'                                                       }\n",
      "    {'QcrB'                                                       }\n",
      "    {'RpoB'                                                       }\n",
      "    {'TopA'                                                       }\n",
      "    {'TrpAB'                                                      }\n",
      "    {'TrxC'                                                       }\n",
      "    {'UppS'                                                       }\n",
      "    {'beta-lactamase'                                             }\n",
      "    {'cAMP modulation'                                            }\n",
      "    {'clp protease / proteasome'                                  }\n",
      "    {'lipid esterases'                                            }\n",
      "    {'membrane integrity'                                         }\n",
      "    {'membrane potential disruption and efflux'                   }\n",
      "    {'membrane potential disruption and efflux|NADH dehydrogenase'}\n",
      "    {'menaquinone synthesis'                                      }\n",
      "    {'metal ion chelation'                                        }\n",
      "    {'phenazine-like'                                             }\n",
      "    {'purine metabolism'                                          }\n",
      "    {'purine metabolism|GuaB2'                                    }\n",
      "    {'purine metabolism|NrdF2'                                    }\n",
      "    {'purine metabolism|pyrimidine metabolism|NrdF2'              }\n",
      "    {'pyrimidine metabolism'                                      }\n",
      "    {'pyrimidine metabolism|CoaA and PyrG'                        }\n",
      "    {'pyrimidine metabolism|NrdF2'                                }\n",
      "    {'pyrimidine metabolism|ThyAX'                                }\n",
      "    {'sterol metabolism'                                          }\n",
      "    {'tRNA synthesis'                                             }\n",
      "\n",
      "Head of row_meta_ss tbl:\n",
      "    idx                  field                                                                                                   value                                                                                  \n",
      "    ___    _________________________________    ________________________________________________________________________________________________________________________________________________________________________\n",
      "\n",
      "     1     {'rid'                          }    {'30S ribosome:group1'                                                                                                                                                 }\n",
      "     2     {'pcl_broad_id'                 }    {'BRD-A62336573-001-05-6|BRD-K01825150-001-16-9|BRD-K40939496-001-01-5'                                                                                                }\n",
      "     3     {'pcl_desc'                     }    {'30S ribosome'                                                                                                                                                        }\n",
      "     4     {'pcl_max_kabx_similarity_score'}    {[                                                                                                                                                              0.2390]}\n",
      "     5     {'pcl_num_pert_ids_unique'      }    {[                                                                                                                                                                   3]}\n",
      "     6     {'pcl_pert_id'                  }    {'BRD-A62336573|BRD-K01825150|BRD-K40939496'                                                                                                                           }\n",
      "     7     {'pcl_proj_broad_id'            }    {'screen4wk_screen5wk_tbda1_kabx2:BRD-A62336573-001-05-6|screen4wk_screen5wk_tbda1_kabx2:BRD-K01825150-001-16-9|screen4wk_screen5wk_tbda1_kabx2:BRD-K40939496-001-01-5'}\n",
      "     8     {'pcl_size'                     }    {[                                                                                                                                                                   4]}\n",
      "\n",
      "Unique PCL MOA annotations:\n",
      "\n",
      "ans =\n",
      "\n",
      "  68x1 cell array\n",
      "\n",
      "    {'30S ribosome'                            }\n",
      "    {'50S ribosome'                            }\n",
      "    {'ATP synthase'                            }\n",
      "    {'AccD6'                                   }\n",
      "    {'Alr'                                     }\n",
      "    {'CoaA and PyrG'                           }\n",
      "    {'CoaBC'                                   }\n",
      "    {'CydAB'                                   }\n",
      "    {'Cyp121'                                  }\n",
      "    {'CysH'                                    }\n",
      "    {'DHFR'                                    }\n",
      "    {'DHPS'                                    }\n",
      "    {'DdlA'                                    }\n",
      "    {'DnaG'                                    }\n",
      "    {'DprE1-DprE2 complex'                     }\n",
      "    {'Dxr'                                     }\n",
      "    {'EchA6'                                   }\n",
      "    {'EmbABC'                                  }\n",
      "    {'FadD32'                                  }\n",
      "    {'FtsZ'                                    }\n",
      "    {'Fum'                                     }\n",
      "    {'FusA1'                                   }\n",
      "    {'Glf'                                     }\n",
      "    {'GlgB'                                    }\n",
      "    {'GlmU'                                    }\n",
      "    {'GuaB2'                                   }\n",
      "    {'GyrAB'                                   }\n",
      "    {'HadABC'                                  }\n",
      "    {'Icl'                                     }\n",
      "    {'IlvB1'                                   }\n",
      "    {'InfB'                                    }\n",
      "    {'InhA'                                    }\n",
      "    {'KasA'                                    }\n",
      "    {'LprG'                                    }\n",
      "    {'MbtI'                                    }\n",
      "    {'Mdh'                                     }\n",
      "    {'MmpL3'                                   }\n",
      "    {'MshC'                                    }\n",
      "    {'MurI'                                    }\n",
      "    {'NADH dehydrogenase'                      }\n",
      "    {'NrdF2'                                   }\n",
      "    {'PG transpeptidation and transport'       }\n",
      "    {'PanC'                                    }\n",
      "    {'ParA'                                    }\n",
      "    {'PknAG'                                   }\n",
      "    {'PknB'                                    }\n",
      "    {'Pks13'                                   }\n",
      "    {'PptT'                                    }\n",
      "    {'PrrB'                                    }\n",
      "    {'QcrB'                                    }\n",
      "    {'RpoB'                                    }\n",
      "    {'ThyAX'                                   }\n",
      "    {'TopA'                                    }\n",
      "    {'TrpAB'                                   }\n",
      "    {'TrxC'                                    }\n",
      "    {'UppS'                                    }\n",
      "    {'beta-lactamase'                          }\n",
      "    {'cAMP modulation'                         }\n",
      "    {'clp protease / proteasome'               }\n",
      "    {'membrane integrity'                      }\n",
      "    {'membrane potential disruption and efflux'}\n",
      "    {'menaquinone synthesis'                   }\n",
      "    {'metal ion chelation'                     }\n",
      "    {'phenazine-like'                          }\n",
      "    {'purine metabolism'                       }\n",
      "    {'pyrimidine metabolism'                   }\n",
      "    {'sterol metabolism'                       }\n",
      "    {'tRNA synthesis'                          }\n",
      "\n"
     ]
    }
   ],
   "source": [
    "% Get column and row metadata fields for table\n",
    "col_meta_ss = cell2table([ss.cid,ss.cdesc],'VariableNames',['cid';ss.chd]);\n",
    "col_meta_ss.target_description = any2str(col_meta_ss.target_description);\n",
    "disp('Head of col_meta_ss tbl:');\n",
    "disp(headt(col_meta_ss));\n",
    "disp('Unique KABX MOA annotations including multi-target:');\n",
    "unique(col_meta_ss.target_description)\n",
    "\n",
    "row_meta_ss = cell2table([ss.rid,ss.rdesc],'VariableNames',['rid';ss.rhd]);\n",
    "row_meta_ss.pcl_desc = any2str(row_meta_ss.pcl_desc);\n",
    "disp('Head of row_meta_ss tbl:');\n",
    "disp(headt(row_meta_ss));\n",
    "disp('Unique PCL MOA annotations:');\n",
    "unique(row_meta_ss.pcl_desc)"
   ]
  },
  {
   "cell_type": "code",
   "execution_count": 92,
   "id": "79e69568-c932-4cec-9926-3baf84c31712",
   "metadata": {},
   "outputs": [],
   "source": [
    "[a,b] = ind2sub(size(ss.mat),1:numel(ss.mat));"
   ]
  },
  {
   "cell_type": "code",
   "execution_count": 93,
   "id": "b9852dba-ebc9-4701-a44b-cf147f7d5ff5",
   "metadata": {},
   "outputs": [
    {
     "name": "stdout",
     "output_type": "stream",
     "text": [
      "Size of ss_tbl with column and row metadata fields from similarity score gct\n",
      "    12333660          33\n",
      "\n",
      "Attaching PCL similarity score\n",
      "    12333660          34\n",
      "\n"
     ]
    }
   ],
   "source": [
    "ss_tbl = [col_meta_ss(b,:),row_meta_ss(a,:)];\n",
    "disp('Size of ss_tbl with column and row metadata fields from similarity score gct');\n",
    "disp(size(ss_tbl));\n",
    "disp('Attaching PCL similarity score');\n",
    "ss_tbl.pcl_similarity_score = ss.mat(:);\n",
    "disp(size(ss_tbl));"
   ]
  },
  {
   "cell_type": "raw",
   "id": "da1e6025-6689-41e0-8182-37740333180f",
   "metadata": {},
   "source": [
    "%% Commented out code section to set target_description values for unknown compounds to empty cell as opposed to NA, NAN, or other unknown_target_description_values %%\n",
    "\n",
    "unknown_target_description_values\n",
    "\n",
    "idx_unknown = ismember(ss_tbl.target_description,unknown_target_description_values);\n",
    "disp('Number of unknown, test dsCGI profile rows:');\n",
    "sum(idx_unknown)\n",
    "disp('Unique target_description values for unknown treatments:');\n",
    "unique(ss_tbl.target_description(idx_unknown))\n",
    "disp('Setting unknown target_description values to empty cell');\n",
    "ss_tbl.target_description(idx_unknown) = {''};\n",
    "disp('Now unique target_description values for unknown treatments:');\n",
    "unique(ss_tbl.target_description(idx_unknown))\n",
    "disp(size(ss_tbl));"
   ]
  },
  {
   "cell_type": "markdown",
   "id": "a7da8ae9-3fe0-47f9-9fad-ac9a65ee2446",
   "metadata": {},
   "source": [
    "### Add binary dsCGI profile-PCL MOA agreement labels from pcl_and_moa_agree gct"
   ]
  },
  {
   "cell_type": "code",
   "execution_count": 94,
   "id": "da688aaf-30ea-4b8e-bc7f-4f618156eced",
   "metadata": {},
   "outputs": [],
   "source": [
    "l = ds_slice(l, 'cid', ss.cid, 'rid', ss.rid);"
   ]
  },
  {
   "cell_type": "code",
   "execution_count": 95,
   "id": "9c973634-28ac-480e-b05b-7ca118b6a685",
   "metadata": {},
   "outputs": [
    {
     "name": "stdout",
     "output_type": "stream",
     "text": [
      "Attaching dsCGI profile-PCL MOA agreement binary labels (1 for in-MOA / 0 for out-of-MOA)\n",
      "    12333660          35\n",
      "\n"
     ]
    }
   ],
   "source": [
    "assert(isequal(ss.rid,l.rid), 'ss and l rows not in matching order')\n",
    "assert(isequal(ss.cid,l.cid), 'ss and l rows not in matching order')\n",
    "\n",
    "disp('Attaching dsCGI profile-PCL MOA agreement binary labels (1 for in-MOA / 0 for out-of-MOA)');\n",
    "ss_tbl.pcl_and_moa_agree = l.mat(:);\n",
    "disp(size(ss_tbl));"
   ]
  },
  {
   "cell_type": "markdown",
   "id": "bf21f711-7b20-45f4-9756-5ff882b27e14",
   "metadata": {
    "tags": []
   },
   "source": [
    "### Rank PCLs (highest to lowest PCL similarity score) for every dsCGI profile / treatment"
   ]
  },
  {
   "cell_type": "code",
   "execution_count": 96,
   "id": "95d1b42b-f217-437c-893e-c979b51e87f0",
   "metadata": {},
   "outputs": [],
   "source": [
    "ss_rank = ss;\n",
    "ss_rank.mat = rankorder(ss.mat,'descend');"
   ]
  },
  {
   "cell_type": "code",
   "execution_count": 97,
   "id": "3b8b31f8-d2a1-4cf0-b3c0-45d7a9b3b5e5",
   "metadata": {},
   "outputs": [],
   "source": [
    "assert(isequal(ss.rid,ss_rank.rid), 'ss and ss_rank rows not in matching order')\n",
    "assert(isequal(ss.cid,ss_rank.cid), 'ss and ss_rank rows not in matching order')"
   ]
  },
  {
   "cell_type": "code",
   "execution_count": 98,
   "id": "c664a64a-fb1e-4a0e-a0c9-d3a1d3048121",
   "metadata": {},
   "outputs": [
    {
     "name": "stdout",
     "output_type": "stream",
     "text": [
      "Attaching rank of PCLs for each dsCGI profile from high-to-low PCL similarity score\n",
      "    12333660          36\n",
      "\n"
     ]
    }
   ],
   "source": [
    "disp('Attaching rank of PCLs for each dsCGI profile from high-to-low PCL similarity score');\n",
    "ss_tbl.rank_pcl = ss_rank.mat(:);\n",
    "disp(size(ss_tbl));"
   ]
  },
  {
   "cell_type": "markdown",
   "id": "d023c487-d31b-4f48-bd2e-42752cdd19e8",
   "metadata": {},
   "source": [
    "### Identify any MOAs that do not have matching PCL cluster"
   ]
  },
  {
   "cell_type": "code",
   "execution_count": 99,
   "id": "a39722c2-24d4-445d-928b-7ffad68dc41b",
   "metadata": {
    "tags": []
   },
   "outputs": [
    {
     "name": "stdout",
     "output_type": "stream",
     "text": [
      "\n",
      "ans =\n",
      "\n",
      "    82\n",
      "\n"
     ]
    }
   ],
   "source": [
    "all_targets = unique(ss_tbl.target_description);\n",
    "length(all_targets)"
   ]
  },
  {
   "cell_type": "code",
   "execution_count": 100,
   "id": "684c831c-9d96-442f-8da5-d5e30b81e1e7",
   "metadata": {
    "tags": []
   },
   "outputs": [
    {
     "name": "stdout",
     "output_type": "stream",
     "text": [
      "\n",
      "ans =\n",
      "\n",
      "    79\n",
      "\n"
     ]
    }
   ],
   "source": [
    "targets_with_match = unique(ss_tbl.target_description(ss_tbl.pcl_and_moa_agree == 1));\n",
    "length(targets_with_match)"
   ]
  },
  {
   "cell_type": "code",
   "execution_count": 101,
   "id": "10ace340-d9b2-48c6-bc73-c825a503ee9c",
   "metadata": {
    "tags": []
   },
   "outputs": [
    {
     "name": "stdout",
     "output_type": "stream",
     "text": [
      "\n",
      "targets_without_match =\n",
      "\n",
      "  3x1 cell array\n",
      "\n",
      "    {'Fba'            }\n",
      "    {'NA'             }\n",
      "    {'lipid esterases'}\n",
      "\n",
      "\n",
      "ans =\n",
      "\n",
      "     3\n",
      "\n"
     ]
    }
   ],
   "source": [
    "targets_without_match = all_targets(~ismember(all_targets, targets_with_match))\n",
    "length(targets_without_match)"
   ]
  },
  {
   "cell_type": "markdown",
   "id": "afeca207-5266-441c-b963-0201cc0e0d84",
   "metadata": {},
   "source": [
    "## Split training and test set"
   ]
  },
  {
   "cell_type": "code",
   "execution_count": 102,
   "id": "c8fee992-0a2d-4ba4-8387-1b2dd28f0798",
   "metadata": {},
   "outputs": [
    {
     "name": "stdout",
     "output_type": "stream",
     "text": [
      "Size of train and test set tbl:\n",
      "    12333660          36\n",
      "\n"
     ]
    }
   ],
   "source": [
    "ss_tbl_train_and_test = ss_tbl;\n",
    "\n",
    "disp('Size of train and test set tbl:');\n",
    "disp(size(ss_tbl_train_and_test));"
   ]
  },
  {
   "cell_type": "code",
   "execution_count": 103,
   "id": "4845c95f-8a38-4f23-aca1-c97f165757e2",
   "metadata": {},
   "outputs": [
    {
     "name": "stdout",
     "output_type": "stream",
     "text": [
      "Number of rows that are test (unknown compound) treatments: 1586880\n"
     ]
    }
   ],
   "source": [
    "test_cmpd_idx = ~ismember(ss_tbl_train_and_test.pert_id, unique_pert_ids_in_kabx_for_pcls);\n",
    "\n",
    "disp(sprintf('Number of rows that are test (unknown compound) treatments: %d', sum(test_cmpd_idx)));"
   ]
  },
  {
   "cell_type": "code",
   "execution_count": 104,
   "id": "c311ef27-9f33-4cbf-bef9-361f6dd46201",
   "metadata": {
    "tags": []
   },
   "outputs": [
    {
     "name": "stdout",
     "output_type": "stream",
     "text": [
      "Size and head of test set tbl:\n",
      "     1586880          36\n",
      "\n",
      "    idx                  field                                                                                                   value                                                                                  \n",
      "    ___    _________________________________    ________________________________________________________________________________________________________________________________________________________________________\n",
      "\n",
      "     1     {'cid'                          }    {'tbda1:TCMDC-142807:0.781250uM'                                                                                                                                       }\n",
      "     2     {'broad_id'                     }    {'TCMDC-142807'                                                                                                                                                        }\n",
      "     3     {'canonical_smiles'             }    {'NA'                                                                                                                                                                  }\n",
      "     4     {'frac_gr_le0_30'               }    {[                                                                                                                                                              0.0025]}\n",
      "     5     {'pert_class'                   }    {'NA'                                                                                                                                                                  }\n",
      "     6     {'pert_dose'                    }    {[                                                                                                                                                              0.7812]}\n",
      "     7     {'pert_id'                      }    {'TCMDC-142807'                                                                                                                                                        }\n",
      "     8     {'pert_id_pubchem_cid'          }    {'NA'                                                                                                                                                                  }\n",
      "     9     {'pert_idose'                   }    {'0.781250uM'                                                                                                                                                          }\n",
      "    10     {'pert_idose_tickl'             }    {'0.7812uM'                                                                                                                                                            }\n",
      "    11     {'pert_iname'                   }    {'NA'                                                                                                                                                                  }\n",
      "    12     {'pert_reference'               }    {'NA'                                                                                                                                                                  }\n",
      "    13     {'pert_type'                    }    {'trt'                                                                                                                                                                 }\n",
      "    14     {'proj_broad_id'                }    {'screen4wk_screen5wk_tbda1_kabx2:TCMDC-142807'                                                                                                                        }\n",
      "    15     {'project_id'                   }    {'screen4wk_screen5wk_tbda1_kabx2'                                                                                                                                     }\n",
      "    16     {'rcorr'                        }    {[                                                                                                                                                              0.0635]}\n",
      "    17     {'rcorr_rank'                   }    {[                                                                                                                                                              0.1955]}\n",
      "    18     {'target_description'           }    {'NA'                                                                                                                                                                  }\n",
      "    19     {'target_description_long'      }    {'NA'                                                                                                                                                                  }\n",
      "    20     {'target_pathway'               }    {'NA'                                                                                                                                                                  }\n",
      "    21     {'target_process'               }    {'NA'                                                                                                                                                                  }\n",
      "    22     {'trt_id'                       }    {'TCMDC-142807:0.781250uM'                                                                                                                                             }\n",
      "    23     {'x_csv_broad_id'               }    {'TCMDC-142807'                                                                                                                                                        }\n",
      "    24     {'x_median_total_count'         }    {[                                                                                                                                                              155357]}\n",
      "    25     {'x_subproject_id'              }    {'tbda1'                                                                                                                                                               }\n",
      "    26     {'rid'                          }    {'30S ribosome:group1'                                                                                                                                                 }\n",
      "    27     {'pcl_broad_id'                 }    {'BRD-A62336573-001-05-6|BRD-K01825150-001-16-9|BRD-K40939496-001-01-5'                                                                                                }\n",
      "    28     {'pcl_desc'                     }    {'30S ribosome'                                                                                                                                                        }\n",
      "    29     {'pcl_max_kabx_similarity_score'}    {[                                                                                                                                                              0.2390]}\n",
      "    30     {'pcl_num_pert_ids_unique'      }    {[                                                                                                                                                                   3]}\n",
      "    31     {'pcl_pert_id'                  }    {'BRD-A62336573|BRD-K01825150|BRD-K40939496'                                                                                                                           }\n",
      "    32     {'pcl_proj_broad_id'            }    {'screen4wk_screen5wk_tbda1_kabx2:BRD-A62336573-001-05-6|screen4wk_screen5wk_tbda1_kabx2:BRD-K01825150-001-16-9|screen4wk_screen5wk_tbda1_kabx2:BRD-K40939496-001-01-5'}\n",
      "    33     {'pcl_size'                     }    {[                                                                                                                                                                   4]}\n",
      "    34     {'pcl_similarity_score'         }    {[                                                                                                                                                              0.0695]}\n",
      "    35     {'pcl_and_moa_agree'            }    {[                                                                                                                                                                   0]}\n",
      "    36     {'rank_pcl'                     }    {[                                                                                                                                                                1039]}\n",
      "\n"
     ]
    }
   ],
   "source": [
    "ss_tbl_test_cmpd = ss_tbl_train_and_test(test_cmpd_idx, :);\n",
    "\n",
    "disp('Size and head of test set tbl:');\n",
    "disp(size(ss_tbl_test_cmpd));\n",
    "disp(headt(ss_tbl_test_cmpd));"
   ]
  },
  {
   "cell_type": "code",
   "execution_count": 105,
   "id": "0a130f53-3091-49ba-8f33-3a54c1be32ab",
   "metadata": {
    "tags": []
   },
   "outputs": [
    {
     "name": "stdout",
     "output_type": "stream",
     "text": [
      "Number of rows that are training (KABX) treatments: 10746780\n",
      "Size and head of training (KABX) set tbl:\n",
      "    10746780          36\n",
      "\n",
      "    idx                  field                                                                                                   value                                                                                  \n",
      "    ___    _________________________________    ________________________________________________________________________________________________________________________________________________________________________\n",
      "\n",
      "     1     {'cid'                          }    {'kabx2:BRD-A05468928-003-01-4:0.097500uM'                                                                                                                             }\n",
      "     2     {'broad_id'                     }    {'BRD-A05468928-003-01-4'                                                                                                                                              }\n",
      "     3     {'canonical_smiles'             }    {'CC1CN(CCN1)c1cc2n(cc(C(O)=O)c(=O)c2cc1F)-c1ccc(F)cc1F'                                                                                                               }\n",
      "     4     {'frac_gr_le0_30'               }    {[                                                                                                                                                                   0]}\n",
      "     5     {'pert_class'                   }    {'fluoroquinolone'                                                                                                                                                     }\n",
      "     6     {'pert_dose'                    }    {[                                                                                                                                                              0.0975]}\n",
      "     7     {'pert_id'                      }    {'BRD-A05468928'                                                                                                                                                       }\n",
      "     8     {'pert_id_pubchem_cid'          }    {'60021'                                                                                                                                                               }\n",
      "     9     {'pert_idose'                   }    {'0.097500uM'                                                                                                                                                          }\n",
      "    10     {'pert_idose_tickl'             }    {'0.0975uM'                                                                                                                                                            }\n",
      "    11     {'pert_iname'                   }    {'temafloxacin'                                                                                                                                                        }\n",
      "    12     {'pert_reference'               }    {'https://doi.org/10.1128/aac.00944-06|https://doi.org/10.1038/s41586-019-1315-z|https://go.drugbank.com/drugs/DB01405'                                                }\n",
      "    13     {'pert_type'                    }    {'trt'                                                                                                                                                                 }\n",
      "    14     {'proj_broad_id'                }    {'screen4wk_screen5wk_tbda1_kabx2:BRD-A05468928-003-01-4'                                                                                                              }\n",
      "    15     {'project_id'                   }    {'screen4wk_screen5wk_tbda1_kabx2'                                                                                                                                     }\n",
      "    16     {'rcorr'                        }    {[                                                                                                                                                              0.0538]}\n",
      "    17     {'rcorr_rank'                   }    {[                                                                                                                                                              0.3211]}\n",
      "    18     {'target_description'           }    {'GyrAB'                                                                                                                                                               }\n",
      "    19     {'target_description_long'      }    {'DNA gyrase'                                                                                                                                                          }\n",
      "    20     {'target_pathway'               }    {'DNA replication'                                                                                                                                                     }\n",
      "    21     {'target_process'               }    {'DNA replication and repair'                                                                                                                                          }\n",
      "    22     {'trt_id'                       }    {'BRD-A05468928-003-01-4:0.097500uM'                                                                                                                                   }\n",
      "    23     {'x_csv_broad_id'               }    {'BRD-A05468928-003-01-4'                                                                                                                                              }\n",
      "    24     {'x_median_total_count'         }    {[                                                                                                                                                              225508]}\n",
      "    25     {'x_subproject_id'              }    {'kabx2'                                                                                                                                                               }\n",
      "    26     {'rid'                          }    {'30S ribosome:group1'                                                                                                                                                 }\n",
      "    27     {'pcl_broad_id'                 }    {'BRD-A62336573-001-05-6|BRD-K01825150-001-16-9|BRD-K40939496-001-01-5'                                                                                                }\n",
      "    28     {'pcl_desc'                     }    {'30S ribosome'                                                                                                                                                        }\n",
      "    29     {'pcl_max_kabx_similarity_score'}    {[                                                                                                                                                              0.2390]}\n",
      "    30     {'pcl_num_pert_ids_unique'      }    {[                                                                                                                                                                   3]}\n",
      "    31     {'pcl_pert_id'                  }    {'BRD-A62336573|BRD-K01825150|BRD-K40939496'                                                                                                                           }\n",
      "    32     {'pcl_proj_broad_id'            }    {'screen4wk_screen5wk_tbda1_kabx2:BRD-A62336573-001-05-6|screen4wk_screen5wk_tbda1_kabx2:BRD-K01825150-001-16-9|screen4wk_screen5wk_tbda1_kabx2:BRD-K40939496-001-01-5'}\n",
      "    33     {'pcl_size'                     }    {[                                                                                                                                                                   4]}\n",
      "    34     {'pcl_similarity_score'         }    {[                                                                                                                                                             -0.0589]}\n",
      "    35     {'pcl_and_moa_agree'            }    {[                                                                                                                                                                   0]}\n",
      "    36     {'rank_pcl'                     }    {[                                                                                                                                                                 262]}\n",
      "\n"
     ]
    }
   ],
   "source": [
    "disp(sprintf('Number of rows that are training (KABX) treatments: %d', sum(~test_cmpd_idx)));\n",
    "\n",
    "ss_tbl = ss_tbl_train_and_test(~test_cmpd_idx, :);\n",
    "\n",
    "disp('Size and head of training (KABX) set tbl:');\n",
    "disp(size(ss_tbl));\n",
    "disp(headt(ss_tbl));"
   ]
  },
  {
   "cell_type": "code",
   "execution_count": 106,
   "id": "041ab1b2-33e3-4304-a57b-78ffd65a2236",
   "metadata": {},
   "outputs": [],
   "source": [
    "assert(all(ismember(unique(ss_tbl.pert_id), unique_pert_ids_in_kabx_for_pcls)), 'One or more compounds in ss_tbl are not from KABX annotation')\n",
    "\n",
    "assert(all(ismember(unique_pert_ids_in_kabx_for_pcls, unique(ss_tbl.pert_id))), 'One or more compounds from KABX annotation are not in ss_tbl')\n",
    "\n",
    "assert(size(ss_tbl, 1) + size(ss_tbl_test_cmpd, 1) == size(ss_tbl_train_and_test, 1), 'Number of rows of ss_tbl and ss_tbl_test_cmpd do not equal total number of rows of ss_tbl_train_and_test')"
   ]
  },
  {
   "cell_type": "markdown",
   "id": "40eb3d17-3c41-40f7-bccd-02cfa6442904",
   "metadata": {
    "tags": []
   },
   "source": [
    "## Run ROC analysis of PCL similarity score to MOA agreement over all dsCGI profiles-PCL pairs"
   ]
  },
  {
   "cell_type": "code",
   "execution_count": 107,
   "id": "053f1bea-929b-44fe-afb1-02e64d07c89c",
   "metadata": {},
   "outputs": [],
   "source": [
    "% Define colors: gray for 0 and purple for 1\n",
    "if make_fig\n",
    "    colors = [0.8 0.8 0.8; 0.5 0 0.5];\n",
    "end"
   ]
  },
  {
   "cell_type": "code",
   "execution_count": 108,
   "id": "6cb809b9-d26e-4265-9497-0dba6b115864",
   "metadata": {},
   "outputs": [],
   "source": [
    "if make_fig\n",
    "    figure\n",
    "    gscatter(ss_tbl.pcl_similarity_score, ss_tbl.rcorr, ss_tbl.pcl_and_moa_agree, colors, '.', 8)\n",
    "    xlabel('PCL similarity score')\n",
    "    ylabel('Replicate correlation')\n",
    "    title(sprintf('All KABX dsCGI profile-PCL pairs\\nOvR binary classifier label: 1 for in-MOA / 0 for out-of-MOA'))\n",
    "    %subtitle('OvR binary classifer label: 1 for in-MOA / 0 for out-of-MOA')\n",
    "    %xlim([-1, 1])\n",
    "    %ylim([-1, 1])\n",
    "\n",
    "    saveas_png(gcf, outdir, ['kabx_pcl_similarity_score_x_rcorr_all_profile_pcl_pairs.png'])\n",
    "    close(gcf)\n",
    "end"
   ]
  },
  {
   "cell_type": "code",
   "execution_count": 109,
   "id": "dd18d29b-6e69-46d0-9742-8c4f8af53996",
   "metadata": {
    "tags": []
   },
   "outputs": [],
   "source": [
    "if make_fig\n",
    "    [x,y,t,auc,optrocpt] = perfcurve(ss_tbl.pcl_and_moa_agree,ss_tbl.pcl_similarity_score,1,'NegClass',0,'UseNearest','off','XVals','all','Cost',[0 1; 1 0]);\n",
    "    auc\n",
    "    optrocpt\n",
    "\n",
    "    figure\n",
    "        plot(x, y)\n",
    "        xlabel('False positive rate')\n",
    "        ylabel('True positive rate')\n",
    "        title(sprintf('ROC analysis of PCL similarity score to\\nPCL-MOA agreement for all KABX dsCGI profile-PCL pairs'))\n",
    "        text(0.5, 0.5, ['AUC = ' num2str(auc, 3)], 'FontSize', 12, 'Color', 'black')\n",
    "        text(0.5, 0.4, ['Opt ROC Pt = (' num2str(optrocpt(1), 3) ', ' num2str(optrocpt(2), 3) ')'], 'FontSize', 12, 'Color', 'black')\n",
    "    saveas_png(gcf, outdir, ['kabx_roc_fpr_x_tpr_all_profile_pcl_pairs.png'])\n",
    "    close(gcf)\n",
    "    \n",
    "    figure\n",
    "        plot(y,t)\n",
    "        xlabel('True positive rate')\n",
    "        ylabel('PCL similarity score threshold')\n",
    "        title(sprintf('ROC analysis of PCL similarity score to\\nPCL-MOA agreement for all KABX dsCGI profile-PCL pairs'))\n",
    "    saveas_png(gcf, outdir, ['kabx_roc_tpr_x_pcl_similarity_score_threshold_all_profile_pcl_pairs.png'])\n",
    "    close(gcf)\n",
    "end"
   ]
  },
  {
   "cell_type": "code",
   "execution_count": 110,
   "id": "aeed7e90-9d56-4d8a-893b-617dff0c41c2",
   "metadata": {},
   "outputs": [],
   "source": [
    "if make_fig\n",
    "    figure\n",
    "    gscatter(ss_tbl_test_cmpd.pcl_similarity_score,ss_tbl_test_cmpd.rcorr,ss_tbl_test_cmpd.pcl_and_moa_agree, colors, '.', 8)\n",
    "    xlabel('PCL similarity score')\n",
    "    ylabel('Replicate correlation')\n",
    "    title(sprintf('All test compound dsCGI profile-PCL pairs\\nAll 0 for unknown MOA'))\n",
    "    %subtitle('0 for unknown MOA')\n",
    "    %xlim([-1, 1])\n",
    "    %ylim([-1, 1])\n",
    "\n",
    "    saveas_png(gcf, outdir, ['test_compound_pcl_similarity_score_x_rcorr_all_profile_pcl_pairs.png'])\n",
    "    close(gcf)\n",
    "end"
   ]
  },
  {
   "cell_type": "markdown",
   "id": "80d1b8fa-baa1-49d2-95b8-5e8bcae3ee38",
   "metadata": {},
   "source": [
    "## Check for any missing PCL similarity scores in the training KABX set"
   ]
  },
  {
   "cell_type": "code",
   "execution_count": 111,
   "id": "3f1c49d7-57d0-497b-a179-1bad682b8b70",
   "metadata": {},
   "outputs": [
    {
     "name": "stdout",
     "output_type": "stream",
     "text": [
      "Total number of KABX dsCGI profile-PCL pairs with PCL similarity score to be used in training: 10746780\n"
     ]
    }
   ],
   "source": [
    "idx = ~isnan(ss_tbl.pcl_similarity_score);\n",
    "disp(sprintf('Total number of KABX dsCGI profile-PCL pairs with PCL similarity score to be used in training: %d', sum(idx)));\n",
    "ss_tbl_sele = ss_tbl(idx,:);"
   ]
  },
  {
   "cell_type": "code",
   "execution_count": 112,
   "id": "bc48c8db-1b70-49fe-a3be-f97e6d397377",
   "metadata": {},
   "outputs": [],
   "source": [
    "assert(sum(~idx) == 0, sprintf('There are KABX dsCGI profiles with missing PCL similarity scores: %d rows', sum(~idx)))\n",
    "assert(sum(idx) == height(ss_tbl), sprintf('There are KABX dsCGI profiles with missing PCL similarity scores: %d rows', height(ss_tbl) - sum(idx)))"
   ]
  },
  {
   "cell_type": "markdown",
   "id": "b3429d09-9055-4761-bcf6-5fe250cfd80c",
   "metadata": {},
   "source": [
    "## Verify number of training (KABX) set compounds and treatments"
   ]
  },
  {
   "cell_type": "code",
   "execution_count": 113,
   "id": "5346214b-ed3b-44a6-acd4-6f73e2b00cf2",
   "metadata": {},
   "outputs": [
    {
     "name": "stdout",
     "output_type": "stream",
     "text": [
      "Number of pert_ids in training (KABX) set ss_tbl: 437\n",
      "Number of broad_ids in training (KABX) set ss_tbl: 505\n",
      "Number of proj_broad_ids in training (KABX) set ss_tbl: 967\n",
      "Number of treatments (cids) in training (KABX) set ss_tbl: 9427\n"
     ]
    }
   ],
   "source": [
    "disp(sprintf('Number of pert_ids in training (KABX) set ss_tbl: %d', numel(unique(ss_tbl_sele.pert_id))));\n",
    "disp(sprintf('Number of broad_ids in training (KABX) set ss_tbl: %d', numel(unique(ss_tbl_sele.broad_id))));\n",
    "disp(sprintf('Number of proj_broad_ids in training (KABX) set ss_tbl: %d', numel(unique(ss_tbl_sele.proj_broad_id))));\n",
    "disp(sprintf('Number of treatments (cids) in training (KABX) set ss_tbl: %d', numel(unique(ss_tbl_sele.cid))));"
   ]
  },
  {
   "cell_type": "markdown",
   "id": "da85d34e-a5ed-4a0a-bba8-2c0c5fb2fd30",
   "metadata": {},
   "source": [
    "## Verify number of test (unknown compound) set compounds and treatments"
   ]
  },
  {
   "cell_type": "code",
   "execution_count": 114,
   "id": "a343e11d-d7e4-44ac-b4cf-d44a7021227a",
   "metadata": {},
   "outputs": [
    {
     "name": "stdout",
     "output_type": "stream",
     "text": [
      "Number of pert_ids in test set ss_tbl_test_cmpd: 174\n",
      "Number of broad_ids in test set ss_tbl_test_cmpd: 174\n",
      "Number of proj_broad_ids in test set ss_tbl_test_cmpd: 174\n",
      "Number of treatments (cids) in test set ss_tbl_test_cmpd: 1392\n"
     ]
    }
   ],
   "source": [
    "disp(sprintf('Number of pert_ids in test set ss_tbl_test_cmpd: %d', numel(unique(ss_tbl_test_cmpd.pert_id))));\n",
    "disp(sprintf('Number of broad_ids in test set ss_tbl_test_cmpd: %d', numel(unique(ss_tbl_test_cmpd.broad_id))));\n",
    "disp(sprintf('Number of proj_broad_ids in test set ss_tbl_test_cmpd: %d', numel(unique(ss_tbl_test_cmpd.proj_broad_id))));\n",
    "disp(sprintf('Number of treatments (cids) in test set ss_tbl_test_cmpd: %d', numel(unique(ss_tbl_test_cmpd.cid))));"
   ]
  },
  {
   "cell_type": "markdown",
   "id": "dc74ef20-ef6a-41db-be6e-8faa739c1f27",
   "metadata": {},
   "source": [
    "## Verify number of PCL clusters in KABX set and test set tables matches gmt file from previous steps"
   ]
  },
  {
   "cell_type": "code",
   "execution_count": 115,
   "id": "d20a63d5-0c69-461e-9d74-30d82cc3f077",
   "metadata": {},
   "outputs": [
    {
     "name": "stdout",
     "output_type": "stream",
     "text": [
      "Number of PCLs in KABX set table ss_tbl_sele: 1140\n"
     ]
    }
   ],
   "source": [
    "pcl_list = unique(ss_tbl_sele.rid);\n",
    "disp(sprintf('Number of PCLs in KABX set table ss_tbl_sele: %d', length(pcl_list)));"
   ]
  },
  {
   "cell_type": "code",
   "execution_count": 116,
   "id": "276ebbe5-3c75-4b82-9ee2-0b16b7f766a6",
   "metadata": {},
   "outputs": [
    {
     "name": "stdout",
     "output_type": "stream",
     "text": [
      "Number of MOAs represented by PCLs in KABX set table ss_tbl_sele: 68\n"
     ]
    }
   ],
   "source": [
    "moa_list = unique(ss_tbl_sele.pcl_desc);\n",
    "disp(sprintf('Number of MOAs represented by PCLs in KABX set table ss_tbl_sele: %d', length(moa_list)));"
   ]
  },
  {
   "cell_type": "code",
   "execution_count": 117,
   "id": "2ad2168b-5804-4576-873f-3a5c74ece910",
   "metadata": {},
   "outputs": [
    {
     "name": "stdout",
     "output_type": "stream",
     "text": [
      "Head and size of pcls_tbl read in from PCL gmt file:\n",
      "\n",
      "ans =\n",
      "\n",
      "  4x3 table\n",
      "\n",
      "    idx      field               value         \n",
      "    ___    _________    _______________________\n",
      "\n",
      "     1     {'head' }    {'30S ribosome:group1'}\n",
      "     2     {'desc' }    {'30S ribosome'       }\n",
      "     3     {'len'  }    {[                  4]}\n",
      "     4     {'entry'}    {4x1 cell             }\n",
      "\n",
      "\n",
      "ans =\n",
      "\n",
      "        1140           4\n",
      "\n"
     ]
    }
   ],
   "source": [
    "pcls = parse_gmt(pcls_moa_path);\n",
    "pcls_tbl = struct2table(pcls);\n",
    "disp('Head and size of pcls_tbl read in from PCL gmt file:');\n",
    "headt(pcls_tbl)\n",
    "size(pcls_tbl)\n",
    "\n",
    "assert(height(pcls_tbl) == length(pcl_list), 'Number of PCLs in gmt file and KABX set table do not match')"
   ]
  },
  {
   "cell_type": "code",
   "execution_count": 118,
   "id": "9afedbae-1bf4-41c6-adac-2ed591a08ab4",
   "metadata": {},
   "outputs": [
    {
     "name": "stdout",
     "output_type": "stream",
     "text": [
      "Number of PCLs in test set table ss_tbl_test_cmpd: 1140\n",
      "Number of MOAs represented by PCLs in test set table ss_tbl_test_cmpd: 68\n"
     ]
    }
   ],
   "source": [
    "disp(sprintf('Number of PCLs in test set table ss_tbl_test_cmpd: %d', length(unique(ss_tbl_test_cmpd.rid))));\n",
    "\n",
    "disp(sprintf('Number of MOAs represented by PCLs in test set table ss_tbl_test_cmpd: %d', length(unique(ss_tbl_test_cmpd.pcl_desc))));\n",
    "\n",
    "assert(all(ismember(ss_tbl_test_cmpd.rid, pcl_list)), 'Number of PCLs in gmt file and test set table do not match')"
   ]
  },
  {
   "cell_type": "markdown",
   "id": "cef8db4c-63d6-4169-8d23-2d6a602f0ff6",
   "metadata": {},
   "source": [
    "## Iterate for each PCL to train OvR binary classifier using KABX similarity scores and PCL-MOA agreement labels (1 for in-MOA / 0 for out-of-MOA) and apply to dsCGI profiles from unknown compounds to estimate their PCL confidence scores"
   ]
  },
  {
   "cell_type": "code",
   "execution_count": 119,
   "id": "793c8aa1-2aa2-4d29-ae2e-dd4952b90a5a",
   "metadata": {},
   "outputs": [],
   "source": [
    "% save ss_tbl_reset as a copy of ss_tbl_sele which remains unchanged\n",
    "% it will be used to subset and set ss_tbl_sele to the dsCGI profile similarity scores and MOA agreement labels for each specific PCL iteratively \n",
    "ss_tbl_reset = ss_tbl_sele;"
   ]
  },
  {
   "cell_type": "code",
   "execution_count": 44,
   "id": "85d75bab-3f89-4e7d-b8e9-ea63cae3f6ce",
   "metadata": {
    "tags": []
   },
   "outputs": [
    {
     "name": "stdout",
     "output_type": "stream",
     "text": [
      "\n",
      "num_pcls =\n",
      "\n",
      "        1140\n",
      "\n",
      "1/1140\n",
      "100/1140\n",
      "Elapsed time is 142.158914 seconds.\n"
     ]
    }
   ],
   "source": [
    "tic\n",
    "\n",
    "out_tbl = {};\n",
    "opt_tbl = {};\n",
    "out_tbl_test_cmpd = {};\n",
    "\n",
    "high_confidence_ppv_thres = high_confidence_pcl_confidence_score_thres; % defined as such for uniformity and simplicity across all PCLs\n",
    "\n",
    "num_pcls = numel(pcl_list)\n",
    "\n",
    "for i = 1:num_pcls\n",
    "\n",
    "    loop_progress(i,num_pcls,100)\n",
    "\n",
    "    choose_pcl = pcl_list(i);\n",
    "    %choose_pcl\n",
    "    \n",
    "    jj = find(ismember(pcls_tbl.head, choose_pcl));\n",
    "    %jj\n",
    "\n",
    "    %pcls(jj).entry\n",
    "    \n",
    "    this_pcl_size = pcls(jj).len;\n",
    "    %this_pcl_size\n",
    "\n",
    "    % Subset to KABX set rows for given PCL %\n",
    "    idx = strcmp(ss_tbl_reset.rid, choose_pcl);\n",
    "    %sum(idx)\n",
    "\n",
    "    ss_tbl_sele = ss_tbl_reset(idx,:);\n",
    "    %size(ss_tbl_sele)\n",
    "\n",
    "    choose_pcl_desc = ss_tbl_sele.pcl_desc(1);\n",
    "\n",
    "    ss_tbl_sele = sortrows(ss_tbl_sele,{'pcl_similarity_score'},{'descend'});\n",
    "    [unique_brds, idx] = unique(ss_tbl_sele.pert_id, 'stable'); % can be changed to broad_id, proj_broad_id, cid, etc. to consider top similarity scores at every compound detail level\n",
    "    %numel(idx)\n",
    "\n",
    "    % Commented out line would set highest_cmpd_min_pcl_similarity_score to similarity score of the KABX compound/treatment with the lowest similarity to the PCL to save compute time and storage\n",
    "    % instead use -Inf to have confidence scores for similarity scores from all dsCGI profiles in the results file\n",
    "    %highest_cmpd_min_pcl_similarity_score = min(ss_tbl_sele.pcl_similarity_score(idx))\n",
    "    highest_cmpd_min_pcl_similarity_score = -Inf;\n",
    "\n",
    "    %%% Take similarity scores to this PCL for all KABX dsCGI profiles %%%\n",
    "    \n",
    "    all_trt_score_tbl = ss_tbl_sele(:, {'cid','pert_id','broad_id','proj_broad_id','target_description','pcl_similarity_score','rcorr','pcl_and_moa_agree'});\n",
    "\n",
    "    all_trt_scores = all_trt_score_tbl.pcl_similarity_score(all_trt_score_tbl.pcl_similarity_score >= highest_cmpd_min_pcl_similarity_score);\n",
    "    all_trt_labels = all_trt_score_tbl.pcl_and_moa_agree(all_trt_score_tbl.pcl_similarity_score >= highest_cmpd_min_pcl_similarity_score);\n",
    "\n",
    "    % Take the highest similarity scoring treatments/dsCGI profiles for each KABX compound for initial binary classifier training to only count\n",
    "    % compounds and not treatments as independent successes/true positives\n",
    "    ss_tbl_sele = ss_tbl_sele(idx,:);\n",
    "    \n",
    "    %%% Section below uncommented would instead consider only highest the similarity scoring treatments for each KABX compound in the model fit %%% \n",
    "    %all_trt_scores = ss_tbl_sele.pcl_similarity_score;\n",
    "    %all_trt_labels = ss_tbl_sele.pcl_and_moa_agree;\n",
    "    \n",
    "    %all_trt_score_tbl = ss_tbl_sele(:, {'cid','broad_id','target_description','pcl_similarity_score','rcorr','pcl_and_moa_agree'});\n",
    "    \n",
    "    %%%\n",
    "\n",
    "    num_correct = sum(ss_tbl_sele.pcl_and_moa_agree == 1);\n",
    "    %num_correct\n",
    "\n",
    "    pcl_n = size(ss_tbl_sele, 1);\n",
    "\n",
    "    tmp_opt_tbl = {};\n",
    "\n",
    "    tmp_opt_tbl.pcl_rid = choose_pcl;\n",
    "    tmp_opt_tbl.pcl_desc = choose_pcl_desc;\n",
    "    tmp_opt_tbl.pcl_n = pcl_n;\n",
    "    tmp_opt_tbl.pcl_n_correct = num_correct;\n",
    "    tmp_opt_tbl.pcl_n_trt = length(all_trt_scores);\n",
    "    tmp_opt_tbl.pcl_n_correct_trt = sum(all_trt_labels);\n",
    "\n",
    "    if num_correct > 0\n",
    "\n",
    "        train_cmpds = ss_tbl_sele.pert_id;\n",
    "        \n",
    "        train_pert_ids = ss_tbl_sele.pert_id;\n",
    "\n",
    "        full_scores = ss_tbl_sele.pcl_similarity_score;\n",
    "\n",
    "        assert(issorted(all_trt_scores, 'descend')) % high to low PCL similarity score \n",
    "\n",
    "        assert(issorted(full_scores, 'descend')) % high to low PCL similarity score\n",
    "\n",
    "        full_train_scores = full_scores;\n",
    "\n",
    "        full_labels = ss_tbl_sele.pcl_and_moa_agree; % binary labels for if KABX compound has shared MOA with PCL (1 for in-MOA / 0 for out-of-MOA)\n",
    "\n",
    "        % ROC analysis / fitting of binary classifier for current PCL to threshold similarity scores to it (based on KABX) and assign mechanism \n",
    "        % if an unknown compound's similarity score exceeds the threshold\n",
    "        % binarized class labels (in-MOA vs out-of-MOA), PCL similarity scores, Positive class is 1 (in-MOA), Negative class is 0 (out-of-MOA)\n",
    "        % prior probabilities are empirical (default) based on in-MOA/out-of-MOA frequencies of PCL's MOA in KABX\n",
    "        % default [0 1;1 0] (since MATLAB R2022a) misclassification costs specified\n",
    "        [fpr,tpr,t,auc,optrocpt] = perfcurve(full_labels,full_train_scores,1,'NegClass',0,'UseNearest','off','XVals','all','Cost',[0 1; 1 0]);\n",
    "        %auc\n",
    "        %optrocpt\n",
    "        % PPV (Positive Predictive Value) taken as empirical PCL confidence scores at each observed PCL similarity score from KABX\n",
    "        % full_train_scores contains the highest similarity scoring dsCGI profile each KABX compound (pert_id)\n",
    "        [ppv,tpr,t] = perfcurve(full_labels,full_train_scores,1,'XCrit','ppv','NegClass',0,'UseNearest','off','XVals','all','Cost',[0 1; 1 0]);\n",
    "\n",
    "        % Extend PCL similarity score to confidence score mapping to all KABX dsCGI profiles contained in all_trt_scores\n",
    "        % through next-neighbor interpolation which assigns the PCL confidence score of an unobserved (not maximal) dsCGI profile for a KABX compound\n",
    "        % to the PCL confidence score of the next most similar observed (maximal for the same or different KABX compound) dsCGI profile\n",
    "        ppv_full = interp1(unique(full_scores, 'stable'), ppv(2:end), all_trt_scores,'next');\n",
    "        \n",
    "        % Ensure no missing values\n",
    "        ppv_full = fillmissing(ppv_full, 'nearest');\n",
    "\n",
    "        % Optimal threshold based on ROC analysis and default misclassification cost\n",
    "        isOptimalPoint = ismember([fpr, tpr], optrocpt, 'rows');\n",
    "\n",
    "        % Use find to return the indices of the rows that match the 1-by-2 array\n",
    "        optimalPoint = find(isOptimalPoint(2:end)) + 1;\n",
    "\n",
    "        tmp_opt_tbl.pcl_auc = auc;\n",
    "        \n",
    "        % high_confidence_ppv_thres set to 1; defined as such for uniformity and simplicity across all PCLs\n",
    "            \n",
    "        full_model_high_confidence_score_thres = all_trt_scores(max(find(single(ppv_full) >= single(high_confidence_ppv_thres))));\n",
    "        %full_model_high_confidence_score_thres\n",
    "        \n",
    "        if isempty(full_model_high_confidence_score_thres) % should never be the case given definition of PCL clusters as having some region with PCL confidence score = 1 but for completeness and error-checking\n",
    "            full_model_high_confidence_score_thres = nan;\n",
    "            \n",
    "            full_model_next_score_thres = all_trt_score_tbl.pcl_similarity_score(1);\n",
    "            full_model_next_score_ppv = 0;\n",
    "            \n",
    "            full_model_next_score_idx = 1;  \n",
    "        else\n",
    "            full_model_next_score_thres = all_trt_scores(max(find(single(ppv_full) >= single(high_confidence_ppv_thres)))+1);\n",
    "            full_model_next_score_ppv = ppv_full(max(find(single(ppv_full) >= single(high_confidence_ppv_thres)))+1);\n",
    "            \n",
    "            full_model_next_score_idx = max(find(single(ppv_full) >= single(high_confidence_ppv_thres)))+1;\n",
    "        end\n",
    "        \n",
    "        tmp_opt_tbl.pcl_high_confidence_similarity_score_threshold = full_model_high_confidence_score_thres;\n",
    "        tmp_opt_tbl.pcl_high_confidence_ppv_thres = high_confidence_ppv_thres;\n",
    "\n",
    "        if length(optimalPoint)>0\n",
    "\n",
    "            optimalPPV = ppv(optimalPoint);\n",
    "\n",
    "            full_model_opt_score_thres = all_trt_scores(max(find(single(ppv_full) >= single(optimalPPV))));\n",
    "            %full_model_opt_score_thres\n",
    "            \n",
    "            %high_confidence_ppv_thres\n",
    "            %optimalPPV\n",
    "\n",
    "            % Uncommented would instead check for the similarity score, PPV, and MOA of the next compound after the optimal ROC point not high-confidence similarity score threshold\n",
    "            %full_model_next_score_thres = all_trt_scores(max(find(single(ppv_full) >= single(optimalPPV)))+1)\n",
    "            %full_model_next_score_ppv = ppv_full(max(find(single(ppv_full) >= single(optimalPPV)))+1)\n",
    "            \n",
    "            %full_model_next_score_idx = max(find(single(ppv_full) >= single(optimalPPV)))+1;\n",
    "\n",
    "            tmp_opt_tbl.pcl_opt_similarity_score_threshold = full_model_opt_score_thres;\n",
    "            tmp_opt_tbl.pcl_opt_ppv = ppv(optimalPoint);\n",
    "            tmp_opt_tbl.pcl_opt_tpr = tpr(optimalPoint);\n",
    "            tmp_opt_tbl.pcl_opt_fpr = fpr(optimalPoint);\n",
    "        else\n",
    "\n",
    "            optimalPPV = nan;\n",
    "\n",
    "            full_model_opt_score_thres = nan;\n",
    "            \n",
    "            %high_confidence_ppv_thres\n",
    "            %optimalPPV\n",
    "\n",
    "            %full_model_next_score_thres = nan\n",
    "            %full_model_next_score_ppv = nan\n",
    "            \n",
    "            %full_model_next_score_idx = 1;\n",
    "            \n",
    "            tmp_opt_tbl.pcl_opt_similarity_score_threshold = nan;\n",
    "            tmp_opt_tbl.pcl_opt_ppv = nan;\n",
    "            tmp_opt_tbl.pcl_opt_tpr = nan;\n",
    "            tmp_opt_tbl.pcl_opt_fpr = nan;\n",
    "        end\n",
    "\n",
    "    else % should never be the case that there no positive samples (KABX dsCGI profiles with matching MOA to the PCL) for any PCL but for completeness and error-checking\n",
    "        ppv_full = repmat(nan,[size(all_trt_score_tbl, 1) 1]);\n",
    "        \n",
    "        full_model_high_confidence_score_thres = nan;\n",
    "            \n",
    "        full_model_next_score_thres = all_trt_score_tbl.pcl_similarity_score(1);\n",
    "        full_model_next_score_ppv = 0;\n",
    "\n",
    "        full_model_next_score_idx = 1;\n",
    "        \n",
    "        tmp_opt_tbl.pcl_high_confidence_similarity_score_threshold = nan;\n",
    "        tmp_opt_tbl.pcl_high_confidence_ppv_thres = nan;\n",
    "        \n",
    "        optimalPPV = nan;\n",
    "        \n",
    "        full_model_opt_score_thres = nan;\n",
    "\n",
    "        tmp_opt_tbl.pcl_auc = nan;\n",
    "\n",
    "        tmp_opt_tbl.pcl_opt_similarity_score_threshold = nan;\n",
    "        tmp_opt_tbl.pcl_opt_ppv = nan;\n",
    "        tmp_opt_tbl.pcl_opt_tpr = nan;\n",
    "        tmp_opt_tbl.pcl_opt_fpr = nan;\n",
    "\n",
    "    end\n",
    "    \n",
    "    all_trt_score_tbl = all_trt_score_tbl(all_trt_score_tbl.pcl_similarity_score >= highest_cmpd_min_pcl_similarity_score, :);\n",
    "\n",
    "    full_model_next_score_moa = all_trt_score_tbl.target_description(full_model_next_score_idx);\n",
    "\n",
    "    tmp_opt_tbl.next_score_moa = full_model_next_score_moa;\n",
    "    \n",
    "    all_trt_score_tbl.pcl_confidence_score = ppv_full; % PPV (Positive Predictive Value) taken as empirical PCL confidence scores at each observed PCL similarity score from KABX\n",
    "    \n",
    "    all_trt_score_tbl.rid = repmat(choose_pcl,[size(all_trt_score_tbl, 1) 1]);\n",
    "    all_trt_score_tbl.pcl_desc = repmat(choose_pcl_desc,[size(all_trt_score_tbl, 1) 1]);\n",
    "\n",
    "\n",
    "    out_tbl = [out_tbl; all_trt_score_tbl];\n",
    "\n",
    "    tmp_opt_tbl = struct2table(tmp_opt_tbl);\n",
    "    \n",
    "    tmp_opt_tbl.full_model_next_score_thres = full_model_next_score_thres;\n",
    "    tmp_opt_tbl.full_model_next_score_ppv = full_model_next_score_ppv;\n",
    "\n",
    "    opt_tbl = [opt_tbl; tmp_opt_tbl];\n",
    "    \n",
    "    \n",
    "    % test compounds section % \n",
    "    \n",
    "    % Subset to test compound set rows for given PCL %\n",
    "    test_idx = strcmp(ss_tbl_test_cmpd.rid, choose_pcl);\n",
    "    %sum(test_idx)\n",
    "\n",
    "    ss_tbl_sele_test_cmpd = ss_tbl_test_cmpd(test_idx,:);\n",
    "    %size(ss_tbl_sele_test_cmpd)\n",
    "\n",
    "    ss_tbl_sele_test_cmpd = sortrows(ss_tbl_sele_test_cmpd,{'pcl_similarity_score'},{'descend'});\n",
    "\n",
    "    %%% Take similarity scores to this PCL for all test compound dsCGI profiles %%%\n",
    "    \n",
    "    all_trt_score_tbl_test_cmpd = ss_tbl_sele_test_cmpd(:, {'cid','pert_id','broad_id','proj_broad_id','target_description','pcl_similarity_score','rcorr','pcl_and_moa_agree'});\n",
    "    \n",
    "    all_trt_scores_test_cmpd = all_trt_score_tbl_test_cmpd.pcl_similarity_score;\n",
    "    all_trt_labels_test_cmpd = all_trt_score_tbl_test_cmpd.pcl_and_moa_agree;\n",
    "    \n",
    "    % all_trt_scores and ppv_full are from previous training step - similarity scores and confidence scores for all KABX dsCGI profiles to the PCL\n",
    "    assert(length(all_trt_scores) == length(ppv_full), 'Length of KABX PCL similarity scores does not match length of PCL confidence scores');\n",
    "    [score_thresholds, idx_unique] = unique(all_trt_scores, 'stable');\n",
    "    \n",
    "    % Estimate PCL confidence scores for each test compound dsCGI profile based on their PCL confidence score\n",
    "    % by fitting to mapping learned from all KABX dsCGI profiles through linear interpolation which considers the distance (or difference)\n",
    "    % an unknown dsCGI profile’s similarity score is to the two KABX dsCGI profile similarity scores it is between when estimating the confidence score\n",
    "    test_ppv = interp1(score_thresholds, ppv_full(idx_unique), all_trt_scores_test_cmpd, 'linear');\n",
    "    \n",
    "    % Ensure no missing values\n",
    "    test_ppv = fillmissing(test_ppv, 'nearest');\n",
    "\n",
    "    assert(sum(isnan(test_ppv)) == 0)\n",
    "    \n",
    "    all_trt_score_tbl_test_cmpd.pcl_confidence_score = test_ppv; % Post-test probability / linear interpolation of fit PCL Similarity Score to PPV curve from previous steps\n",
    "    \n",
    "    all_trt_score_tbl_test_cmpd.rid = repmat(choose_pcl,[size(all_trt_score_tbl_test_cmpd, 1) 1]);\n",
    "    all_trt_score_tbl_test_cmpd.pcl_desc = repmat(choose_pcl_desc,[size(all_trt_score_tbl_test_cmpd, 1) 1]);\n",
    "\n",
    "\n",
    "    out_tbl_test_cmpd = [out_tbl_test_cmpd; all_trt_score_tbl_test_cmpd];\n",
    "\n",
    "    \n",
    "    % End test compounds section %\n",
    "\n",
    "end\n",
    "\n",
    "toc"
   ]
  },
  {
   "cell_type": "code",
   "execution_count": 45,
   "id": "7f994b18-e283-4734-a52f-ca2dcc6fb1a0",
   "metadata": {},
   "outputs": [
    {
     "name": "stdout",
     "output_type": "stream",
     "text": [
      "\n",
      "i =\n",
      "\n",
      "   100\n",
      "\n",
      "Not all PCLs processed, only 100 PCLs\n"
     ]
    }
   ],
   "source": [
    "i\n",
    "\n",
    "assert(i == num_pcls, sprintf('Not all PCLs processed, only %d PCLs', i))"
   ]
  },
  {
   "cell_type": "code",
   "execution_count": 46,
   "id": "1b1015e9-914a-4fcf-bbc6-58147aa34200",
   "metadata": {},
   "outputs": [
    {
     "name": "stdout",
     "output_type": "stream",
     "text": [
      "\n",
      "ans =\n",
      "\n",
      "  11x3 table\n",
      "\n",
      "    idx             field                                        value                           \n",
      "    ___    ________________________    __________________________________________________________\n",
      "\n",
      "     1     {'cid'                 }    {'kabx2:BRD-K40939496-001-01-5:0.781250uM'               }\n",
      "     2     {'pert_id'             }    {'BRD-K40939496'                                         }\n",
      "     3     {'broad_id'            }    {'BRD-K40939496-001-01-5'                                }\n",
      "     4     {'proj_broad_id'       }    {'screen4wk_screen5wk_tbda1_kabx2:BRD-K40939496-001-01-5'}\n",
      "     5     {'target_description'  }    {'30S ribosome'                                          }\n",
      "     6     {'pcl_similarity_score'}    {[                                                0.2390]}\n",
      "     7     {'rcorr'               }    {[                                                0.1136]}\n",
      "     8     {'pcl_and_moa_agree'   }    {[                                                     1]}\n",
      "     9     {'pcl_confidence_score'}    {[                                                     1]}\n",
      "    10     {'rid'                 }    {'30S ribosome:group1'                                   }\n",
      "    11     {'pcl_desc'            }    {'30S ribosome'                                          }\n",
      "\n"
     ]
    }
   ],
   "source": [
    "headt(out_tbl)"
   ]
  },
  {
   "cell_type": "code",
   "execution_count": 47,
   "id": "41af85bf-1e57-4541-9f89-cd0d01d705ca",
   "metadata": {},
   "outputs": [
    {
     "name": "stdout",
     "output_type": "stream",
     "text": [
      "\n",
      "ans =\n",
      "\n",
      "  16x3 table\n",
      "\n",
      "    idx                          field                                    value         \n",
      "    ___    __________________________________________________    _______________________\n",
      "\n",
      "     1     {'pcl_rid'                                       }    {'30S ribosome:group1'}\n",
      "     2     {'pcl_desc'                                      }    {'30S ribosome'       }\n",
      "     3     {'pcl_n'                                         }    {[                437]}\n",
      "     4     {'pcl_n_correct'                                 }    {[                 25]}\n",
      "     5     {'pcl_n_trt'                                     }    {[               9427]}\n",
      "     6     {'pcl_n_correct_trt'                             }    {[                477]}\n",
      "     7     {'pcl_auc'                                       }    {[             0.4376]}\n",
      "     8     {'pcl_high_confidence_similarity_score_threshold'}    {[             0.2180]}\n",
      "     9     {'pcl_high_confidence_ppv_thres'                 }    {[                  1]}\n",
      "    10     {'pcl_opt_similarity_score_threshold'            }    {[             0.2180]}\n",
      "    11     {'pcl_opt_ppv'                                   }    {[                  1]}\n",
      "    12     {'pcl_opt_tpr'                                   }    {[             0.0800]}\n",
      "    13     {'pcl_opt_fpr'                                   }    {[                  0]}\n",
      "    14     {'next_score_moa'                                }    {'Alr|DdlA'           }\n",
      "    15     {'full_model_next_score_thres'                   }    {[             0.2046]}\n",
      "    16     {'full_model_next_score_ppv'                     }    {[             0.6667]}\n",
      "\n"
     ]
    }
   ],
   "source": [
    "headt(opt_tbl)"
   ]
  },
  {
   "cell_type": "code",
   "execution_count": 48,
   "id": "d1aa9d17-8c25-4822-801f-f8827e506e2d",
   "metadata": {},
   "outputs": [
    {
     "name": "stdout",
     "output_type": "stream",
     "text": [
      "\n",
      "ans =\n",
      "\n",
      "  11x3 table\n",
      "\n",
      "    idx             field                                   value                      \n",
      "    ___    ________________________    ________________________________________________\n",
      "\n",
      "     1     {'cid'                 }    {'tbda1:TCMDC-142724:0.097656uM'               }\n",
      "     2     {'pert_id'             }    {'TCMDC-142724'                                }\n",
      "     3     {'broad_id'            }    {'TCMDC-142724'                                }\n",
      "     4     {'proj_broad_id'       }    {'screen4wk_screen5wk_tbda1_kabx2:TCMDC-142724'}\n",
      "     5     {'target_description'  }    {'NA'                                          }\n",
      "     6     {'pcl_similarity_score'}    {[                                      0.1790]}\n",
      "     7     {'rcorr'               }    {[                                      0.1428]}\n",
      "     8     {'pcl_and_moa_agree'   }    {[                                           0]}\n",
      "     9     {'pcl_confidence_score'}    {[                                      0.2872]}\n",
      "    10     {'rid'                 }    {'30S ribosome:group1'                         }\n",
      "    11     {'pcl_desc'            }    {'30S ribosome'                                }\n",
      "\n"
     ]
    }
   ],
   "source": [
    "headt(out_tbl_test_cmpd)"
   ]
  },
  {
   "cell_type": "markdown",
   "id": "a195169f-bd91-42e2-bedd-f3944807cb91",
   "metadata": {
    "tags": []
   },
   "source": [
    "## Save results in tabular/.txt form"
   ]
  },
  {
   "cell_type": "code",
   "execution_count": 49,
   "id": "76ee7732-88c7-46a3-bb1d-f97d88e89db7",
   "metadata": {},
   "outputs": [],
   "source": [
    "% Save output tables as .txt files\n",
    "\n",
    "wtable(out_tbl,fullfile(outdir,out_tbl_savename));\n",
    "\n",
    "wtable(opt_tbl,fullfile(outdir,opt_tbl_savename));\n",
    "\n",
    "wtable(out_tbl_test_cmpd,fullfile(outdir,out_tbl_test_cmpd_savename));"
   ]
  },
  {
   "cell_type": "code",
   "execution_count": 50,
   "id": "7d96c37d-567d-48f9-9802-798851c53d3c",
   "metadata": {},
   "outputs": [
    {
     "name": "stdout",
     "output_type": "stream",
     "text": [
      "Size and head of PCL similarity x confidence score results table for training (KABX) set reference compounds:\n",
      "\n",
      "ans =\n",
      "\n",
      "      942700          11\n",
      "\n",
      "\n",
      "ans =\n",
      "\n",
      "  8x11 table\n",
      "\n",
      "                         cid                              pert_id                  broad_id                                   proj_broad_id                                                 target_description                           pcl_similarity_score      rcorr      pcl_and_moa_agree    pcl_confidence_score              rid                  pcl_desc    \n",
      "    _____________________________________________    _________________    __________________________    __________________________________________________________    _______________________________________________________________    ____________________    _________    _________________    ____________________    _______________________    ________________\n",
      "\n",
      "    {'kabx2:BRD-K40939496-001-01-5:0.781250uM'  }    {'BRD-K40939496'}    {'BRD-K40939496-001-01-5'}    {'screen4wk_screen5wk_tbda1_kabx2:BRD-K40939496-001-01-5'}    {'30S ribosome'                                               }          0.23901             0.11359            1                        1           {'30S ribosome:group1'}    {'30S ribosome'}\n",
      "    {'kabx2:BRD-K01825150-001-16-9:50.000000uM' }    {'BRD-K01825150'}    {'BRD-K01825150-001-16-9'}    {'screen4wk_screen5wk_tbda1_kabx2:BRD-K01825150-001-16-9'}    {'30S ribosome'                                               }          0.21802            -0.11283            1                        1           {'30S ribosome:group1'}    {'30S ribosome'}\n",
      "    {'kabx2:BRD-K87226815-001-22-1:0.390500uM'  }    {'BRD-K87226815'}    {'BRD-K87226815-001-22-1'}    {'screen4wk_screen5wk_tbda1_kabx2:BRD-K87226815-001-22-1'}    {'Alr|DdlA'                                                   }           0.2046            0.079127            0                  0.66667           {'30S ribosome:group1'}    {'30S ribosome'}\n",
      "    {'kabx2:BRD-K40154364-001-01-0:0.097500uM'  }    {'BRD-K40154364'}    {'BRD-K40154364-001-01-0'}    {'screen4wk_screen5wk_tbda1_kabx2:BRD-K40154364-001-01-0'}    {'QcrB'                                                       }          0.19542           0.0050378            0                      0.5           {'30S ribosome:group1'}    {'30S ribosome'}\n",
      "    {'kabx2:BRD-K17583151-001-07-3:50.000000uM' }    {'BRD-K17583151'}    {'BRD-K17583151-001-07-3'}    {'screen4wk_screen5wk_tbda1_kabx2:BRD-K17583151-001-07-3'}    {'MbtI'                                                       }          0.19397             0.12249            0                      0.4           {'30S ribosome:group1'}    {'30S ribosome'}\n",
      "    {'kabx2:BRD-K63343048-001-14-8:0.195500uM'  }    {'BRD-K63343048'}    {'BRD-K63343048-001-14-8'}    {'screen4wk_screen5wk_tbda1_kabx2:BRD-K63343048-001-14-8'}    {'lipid esterases'                                            }          0.18818             0.06135            0                  0.33333           {'30S ribosome:group1'}    {'30S ribosome'}\n",
      "    {'screen6:BRD-K21656677-001-01-9:0.097500uM'}    {'BRD-K21656677'}    {'BRD-K21656677-001-01-9'}    {'screen6:BRD-K21656677-001-01-9'                        }    {'50S ribosome'                                               }          0.17864            0.072685            0                  0.28571           {'30S ribosome:group1'}    {'30S ribosome'}\n",
      "    {'kabx2:BRD-K19352500-001-10-3:0.097500uM'  }    {'BRD-K19352500'}    {'BRD-K19352500-001-10-3'}    {'screen4wk_screen5wk_tbda1_kabx2:BRD-K19352500-001-10-3'}    {'membrane potential disruption and efflux|NADH dehydrogenase'}           0.1761            0.051257            0                     0.25           {'30S ribosome:group1'}    {'30S ribosome'}\n",
      "\n"
     ]
    }
   ],
   "source": [
    "disp('Size and head of PCL similarity x confidence score results table for training (KABX) set reference compounds:')\n",
    "size(out_tbl)\n",
    "head(out_tbl)"
   ]
  },
  {
   "cell_type": "code",
   "execution_count": 51,
   "id": "223477c6-e439-4a87-bb0c-1ebb25c298bf",
   "metadata": {},
   "outputs": [
    {
     "name": "stdout",
     "output_type": "stream",
     "text": [
      "Size and head of per-PCL high-confidence similarity score threshold results table based on training/OvR binary classifier fitting using KABX set reference compounds:\n",
      "\n",
      "ans =\n",
      "\n",
      "   100    16\n",
      "\n",
      "\n",
      "ans =\n",
      "\n",
      "  8x16 table\n",
      "\n",
      "             pcl_rid                 pcl_desc        pcl_n    pcl_n_correct    pcl_n_trt    pcl_n_correct_trt    pcl_auc    pcl_high_confidence_similarity_score_threshold    pcl_high_confidence_ppv_thres    pcl_opt_similarity_score_threshold    pcl_opt_ppv    pcl_opt_tpr    pcl_opt_fpr               next_score_moa                full_model_next_score_thres    full_model_next_score_ppv\n",
      "    _________________________    ________________    _____    _____________    _________    _________________    _______    ______________________________________________    _____________________________    __________________________________    ___________    ___________    ___________    _____________________________________    ___________________________    _________________________\n",
      "\n",
      "    {'30S ribosome:group1'  }    {'30S ribosome'}     437          25            9427              477           0.43757                       0.21802                                      1                               0.21802                       1            0.08             0         {'Alr|DdlA'                         }               0.2046                       0.66667         \n",
      "    {'30S ribosome:group100'}    {'30S ribosome'}     437          25            9427              477           0.66379                        0.7507                                      1                                0.7507                       1             0.4             0         {'phenazine-like'                   }              0.74939                       0.90909         \n",
      "    {'30S ribosome:group102'}    {'30S ribosome'}     437          25            9427              477           0.60893                       0.65859                                      1                               0.65859                       1             0.4             0         {'CysH'                             }              0.65668                       0.90909         \n",
      "    {'30S ribosome:group106'}    {'30S ribosome'}     437          25            9427              477           0.50165                       0.76254                                      1                               0.76254                       1            0.04             0         {'membrane integrity'               }              0.75122                           0.5         \n",
      "    {'30S ribosome:group112'}    {'30S ribosome'}     437          25            9427              477           0.27602                       0.66303                                      1                               0.66303                       1            0.04             0         {'PG transpeptidation and transport'}              0.65385                           0.5         \n",
      "    {'30S ribosome:group116'}    {'30S ribosome'}     437          25            9427              477           0.31136                       0.39989                                      1                               0.39989                       1            0.04             0         {'clp protease / proteasome'        }              0.38105                           0.5         \n",
      "    {'30S ribosome:group154'}    {'30S ribosome'}     437          25            9427              477           0.41971                       0.26858                                      1                               0.26858                       1            0.08             0         {'CoaBC'                            }              0.25548                       0.66667         \n",
      "    {'30S ribosome:group159'}    {'30S ribosome'}     437          25            9427              477           0.30204                       0.34604                                      1                               0.34604                       1            0.04             0         {'TrpAB'                            }              0.30745                           0.5         \n",
      "\n"
     ]
    }
   ],
   "source": [
    "disp('Size and head of per-PCL high-confidence similarity score threshold results table based on training/OvR binary classifier fitting using KABX set reference compounds:')\n",
    "size(opt_tbl)\n",
    "head(opt_tbl)"
   ]
  },
  {
   "cell_type": "code",
   "execution_count": 52,
   "id": "47eb1712-c647-45f6-88cc-f186cf563d4c",
   "metadata": {},
   "outputs": [
    {
     "name": "stdout",
     "output_type": "stream",
     "text": [
      "Size and head of PCL similarity x confidence score results table for test compounds:\n",
      "\n",
      "ans =\n",
      "\n",
      "      139200          11\n",
      "\n",
      "\n",
      "ans =\n",
      "\n",
      "  8x11 table\n",
      "\n",
      "                        cid                             pert_id             broad_id                         proj_broad_id                      target_description    pcl_similarity_score     rcorr      pcl_and_moa_agree    pcl_confidence_score              rid                  pcl_desc    \n",
      "    ____________________________________________    ________________    ________________    ________________________________________________    __________________    ____________________    ________    _________________    ____________________    _______________________    ________________\n",
      "\n",
      "    {'tbda1:TCMDC-142724:0.097656uM'           }    {'TCMDC-142724'}    {'TCMDC-142724'}    {'screen4wk_screen5wk_tbda1_kabx2:TCMDC-142724'}          {'NA'}                0.17895            0.14276            0                   0.28725          {'30S ribosome:group1'}    {'30S ribosome'}\n",
      "    {'tbda1:TCMDC-142423:3.125000uM'           }    {'TCMDC-142423'}    {'TCMDC-142423'}    {'screen4wk_screen5wk_tbda1_kabx2:TCMDC-142423'}          {'NA'}                0.15694             0.2038            0                   0.11765          {'30S ribosome:group1'}    {'30S ribosome'}\n",
      "    {'tbda1:TCMDC-142890:0.195312uM'           }    {'TCMDC-142890'}    {'TCMDC-142890'}    {'screen4wk_screen5wk_tbda1_kabx2:TCMDC-142890'}          {'NA'}                0.15181            0.14719            0                  0.086957          {'30S ribosome:group1'}    {'30S ribosome'}\n",
      "    {'tbda1:TCMDC-143694:12.500000uM'          }    {'TCMDC-143694'}    {'TCMDC-143694'}    {'screen4wk_screen5wk_tbda1_kabx2:TCMDC-143694'}          {'NA'}                0.14367            0.55567            0                  0.076021          {'30S ribosome:group1'}    {'30S ribosome'}\n",
      "    {'tbda1:TCMDC-142377:0.097656uM'           }    {'TCMDC-142377'}    {'TCMDC-142377'}    {'screen4wk_screen5wk_tbda1_kabx2:TCMDC-142377'}          {'NA'}                0.14282            0.19474            0                   0.10345          {'30S ribosome:group1'}    {'30S ribosome'}\n",
      "    {'tbda1:TCMDC-143698:0.781250uM'           }    {'TCMDC-143698'}    {'TCMDC-143698'}    {'screen4wk_screen5wk_tbda1_kabx2:TCMDC-143698'}          {'NA'}                0.13518           0.074758            0                  0.079642          {'30S ribosome:group1'}    {'30S ribosome'}\n",
      "    {'screen_bi1_tbda2:TCMDC-142346:0.001531uM'}    {'TCMDC-142346'}    {'TCMDC-142346'}    {'screen_bi1_tbda2:TCMDC-142346'               }          {'NA'}                0.13405           0.059182            0                  0.080022          {'30S ribosome:group1'}    {'30S ribosome'}\n",
      "    {'tbda1:TCMDC-142382:0.048828uM'           }    {'TCMDC-142382'}    {'TCMDC-142382'}    {'screen4wk_screen5wk_tbda1_kabx2:TCMDC-142382'}          {'NA'}                0.12883            0.17465            0                  0.084776          {'30S ribosome:group1'}    {'30S ribosome'}\n",
      "\n"
     ]
    }
   ],
   "source": [
    "disp('Size and head of PCL similarity x confidence score results table for test compounds:')\n",
    "size(out_tbl_test_cmpd)\n",
    "head(out_tbl_test_cmpd)"
   ]
  },
  {
   "cell_type": "markdown",
   "id": "843b362a-d95e-439e-bce3-0c9ddafe394f",
   "metadata": {},
   "source": [
    "## Combine KABX and unknown PCL confidence score results tables and save as GCT"
   ]
  },
  {
   "cell_type": "code",
   "execution_count": 53,
   "id": "72513f94-3127-4cd8-b28b-2dc26e2ee5c0",
   "metadata": {
    "tags": []
   },
   "outputs": [
    {
     "name": "stdout",
     "output_type": "stream",
     "text": [
      "\n",
      "ans =\n",
      "\n",
      "     1081900           3\n",
      "\n",
      "Elapsed time is 44.637913 seconds.\n",
      "Size and head of PCL similarity x confidence score results table for training (KABX) and test set reference compounds:\n",
      "\n",
      "ans =\n",
      "\n",
      "     1081900          37\n",
      "\n",
      "\n",
      "ans =\n",
      "\n",
      "  37x3 table\n",
      "\n",
      "    idx                  field                                                                                                   value                                                                                  \n",
      "    ___    _________________________________    ________________________________________________________________________________________________________________________________________________________________________\n",
      "\n",
      "     1     {'cid'                          }    {'kabx2:BRD-A05468928-003-01-4:0.097500uM'                                                                                                                             }\n",
      "     2     {'broad_id'                     }    {'BRD-A05468928-003-01-4'                                                                                                                                              }\n",
      "     3     {'canonical_smiles'             }    {'CC1CN(CCN1)c1cc2n(cc(C(O)=O)c(=O)c2cc1F)-c1ccc(F)cc1F'                                                                                                               }\n",
      "     4     {'frac_gr_le0_30'               }    {[                                                                                                                                                                   0]}\n",
      "     5     {'pert_class'                   }    {'fluoroquinolone'                                                                                                                                                     }\n",
      "     6     {'pert_dose'                    }    {[                                                                                                                                                              0.0975]}\n",
      "     7     {'pert_id'                      }    {'BRD-A05468928'                                                                                                                                                       }\n",
      "     8     {'pert_id_pubchem_cid'          }    {'60021'                                                                                                                                                               }\n",
      "     9     {'pert_idose'                   }    {'0.097500uM'                                                                                                                                                          }\n",
      "    10     {'pert_idose_tickl'             }    {'0.0975uM'                                                                                                                                                            }\n",
      "    11     {'pert_iname'                   }    {'temafloxacin'                                                                                                                                                        }\n",
      "    12     {'pert_reference'               }    {'https://doi.org/10.1128/aac.00944-06|https://doi.org/10.1038/s41586-019-1315-z|https://go.drugbank.com/drugs/DB01405'                                                }\n",
      "    13     {'pert_type'                    }    {'trt'                                                                                                                                                                 }\n",
      "    14     {'proj_broad_id'                }    {'screen4wk_screen5wk_tbda1_kabx2:BRD-A05468928-003-01-4'                                                                                                              }\n",
      "    15     {'project_id'                   }    {'screen4wk_screen5wk_tbda1_kabx2'                                                                                                                                     }\n",
      "    16     {'rcorr'                        }    {[                                                                                                                                                              0.0538]}\n",
      "    17     {'rcorr_rank'                   }    {[                                                                                                                                                              0.3211]}\n",
      "    18     {'target_description'           }    {'GyrAB'                                                                                                                                                               }\n",
      "    19     {'target_description_long'      }    {'DNA gyrase'                                                                                                                                                          }\n",
      "    20     {'target_pathway'               }    {'DNA replication'                                                                                                                                                     }\n",
      "    21     {'target_process'               }    {'DNA replication and repair'                                                                                                                                          }\n",
      "    22     {'trt_id'                       }    {'BRD-A05468928-003-01-4:0.097500uM'                                                                                                                                   }\n",
      "    23     {'x_csv_broad_id'               }    {'BRD-A05468928-003-01-4'                                                                                                                                              }\n",
      "    24     {'x_median_total_count'         }    {[                                                                                                                                                              225508]}\n",
      "    25     {'x_subproject_id'              }    {'kabx2'                                                                                                                                                               }\n",
      "    26     {'rid'                          }    {'30S ribosome:group1'                                                                                                                                                 }\n",
      "    27     {'pcl_broad_id'                 }    {'BRD-A62336573-001-05-6|BRD-K01825150-001-16-9|BRD-K40939496-001-01-5'                                                                                                }\n",
      "    28     {'pcl_desc'                     }    {'30S ribosome'                                                                                                                                                        }\n",
      "    29     {'pcl_max_kabx_similarity_score'}    {[                                                                                                                                                              0.2390]}\n",
      "    30     {'pcl_num_pert_ids_unique'      }    {[                                                                                                                                                                   3]}\n",
      "    31     {'pcl_pert_id'                  }    {'BRD-A62336573|BRD-K01825150|BRD-K40939496'                                                                                                                           }\n",
      "    32     {'pcl_proj_broad_id'            }    {'screen4wk_screen5wk_tbda1_kabx2:BRD-A62336573-001-05-6|screen4wk_screen5wk_tbda1_kabx2:BRD-K01825150-001-16-9|screen4wk_screen5wk_tbda1_kabx2:BRD-K40939496-001-01-5'}\n",
      "    33     {'pcl_size'                     }    {[                                                                                                                                                                   4]}\n",
      "    34     {'pcl_similarity_score'         }    {[                                                                                                                                                             -0.0589]}\n",
      "    35     {'pcl_and_moa_agree'            }    {[                                                                                                                                                                   0]}\n",
      "    36     {'rank_pcl'                     }    {[                                                                                                                                                                 262]}\n",
      "    37     {'pcl_confidence_score'         }    {[                                                                                                                                                              0.0572]}\n",
      "\n"
     ]
    }
   ],
   "source": [
    "tic\n",
    "% Combine out_tbl and out_tbl_test_cmpd keeping only the specified columns\n",
    "combined_tbl_to_join = [out_tbl(:, {'cid', 'rid', 'pcl_confidence_score'}); out_tbl_test_cmpd(:, {'cid', 'rid', 'pcl_confidence_score'})];\n",
    "size(combined_tbl_to_join)\n",
    "\n",
    "% Perform an inner join with ss_tbl_train_and_test to maintain original row ordering\n",
    "[out_tbl_train_and_test_cmpd, ileft] = innerjoin(ss_tbl_train_and_test, combined_tbl_to_join, 'Keys', {'cid', 'rid'});\n",
    "\n",
    "[ileft_sorted, idx_to_sort_out_tbl_train_and_test_cmpd] = sort(ileft);\n",
    "\n",
    "out_tbl_train_and_test_cmpd = out_tbl_train_and_test_cmpd(idx_to_sort_out_tbl_train_and_test_cmpd, :);\n",
    "\n",
    "toc\n",
    "\n",
    "disp('Size and head of PCL similarity x confidence score results table for training (KABX) and test set reference compounds:')\n",
    "size(out_tbl_train_and_test_cmpd)\n",
    "headt(out_tbl_train_and_test_cmpd)"
   ]
  },
  {
   "cell_type": "raw",
   "id": "523818a0-45a2-4a3a-9138-c9144c0c72e8",
   "metadata": {
    "tags": []
   },
   "source": [
    "ss_tbl_train_and_test.cid(1:10)\n",
    "out_tbl_train_and_test_cmpd.cid(1:10)"
   ]
  },
  {
   "cell_type": "raw",
   "id": "48bf89d8-6c1d-4747-9498-69633caee17c",
   "metadata": {},
   "source": [
    "ss_tbl_train_and_test.rid(1:10)\n",
    "out_tbl_train_and_test_cmpd.rid(1:10)"
   ]
  },
  {
   "cell_type": "code",
   "execution_count": 54,
   "id": "1e21c62c-661b-4044-94b6-3fafd32e8a4c",
   "metadata": {},
   "outputs": [
    {
     "name": "stdout",
     "output_type": "stream",
     "text": [
      "Length of ss_tbl_train_and_test cid column\n",
      "\n",
      "ans =\n",
      "\n",
      "    12333660\n",
      "\n",
      "Length of out_tbl_train_and_test_cmpd cid column\n",
      "\n",
      "ans =\n",
      "\n",
      "     1081900\n",
      "\n",
      "Ordering of dsCGI profiles (cids) in combined KABX and unknown compound results table differs from original ss_tbl_train_and_test table ordering\n"
     ]
    }
   ],
   "source": [
    "disp('Length of ss_tbl_train_and_test cid column')\n",
    "length(ss_tbl_train_and_test.cid)\n",
    "disp('Length of out_tbl_train_and_test_cmpd cid column')\n",
    "length(out_tbl_train_and_test_cmpd.cid)\n",
    "\n",
    "assert(isequal(ss_tbl_train_and_test.cid, out_tbl_train_and_test_cmpd.cid), 'Ordering of dsCGI profiles (cids) in combined KABX and unknown compound results table differs from original ss_tbl_train_and_test table ordering')\n",
    "\n",
    "assert(isequal(ss_tbl_train_and_test.rid, out_tbl_train_and_test_cmpd.rid), 'Ordering of PCLs (rids) in combined KABX and unknown compound results table differs from original ss_tbl_train_and_test table ordering')"
   ]
  },
  {
   "cell_type": "markdown",
   "id": "7cbca3f0-a0ff-44dc-b8ad-ec9059c80432",
   "metadata": {},
   "source": [
    "### Section to prepare and save GCT"
   ]
  },
  {
   "cell_type": "code",
   "execution_count": 55,
   "id": "c9f50c4b-eabe-4723-8705-28751359434c",
   "metadata": {
    "tags": []
   },
   "outputs": [
    {
     "name": "stdout",
     "output_type": "stream",
     "text": [
      "Size and head of out_tbl_train_and_test_cmpd tbl:\n",
      "     1081900          38\n",
      "\n",
      "    idx                  field                                                                                                   value                                                                                  \n",
      "    ___    _________________________________    ________________________________________________________________________________________________________________________________________________________________________\n",
      "\n",
      "     1     {'cid'                          }    {'kabx2:BRD-A05468928-003-01-4:0.097500uM'                                                                                                                             }\n",
      "     2     {'broad_id'                     }    {'BRD-A05468928-003-01-4'                                                                                                                                              }\n",
      "     3     {'canonical_smiles'             }    {'CC1CN(CCN1)c1cc2n(cc(C(O)=O)c(=O)c2cc1F)-c1ccc(F)cc1F'                                                                                                               }\n",
      "     4     {'frac_gr_le0_30'               }    {[                                                                                                                                                                   0]}\n",
      "     5     {'pert_class'                   }    {'fluoroquinolone'                                                                                                                                                     }\n",
      "     6     {'pert_dose'                    }    {[                                                                                                                                                              0.0975]}\n",
      "     7     {'pert_id'                      }    {'BRD-A05468928'                                                                                                                                                       }\n",
      "     8     {'pert_id_pubchem_cid'          }    {'60021'                                                                                                                                                               }\n",
      "     9     {'pert_idose'                   }    {'0.097500uM'                                                                                                                                                          }\n",
      "    10     {'pert_idose_tickl'             }    {'0.0975uM'                                                                                                                                                            }\n",
      "    11     {'pert_iname'                   }    {'temafloxacin'                                                                                                                                                        }\n",
      "    12     {'pert_reference'               }    {'https://doi.org/10.1128/aac.00944-06|https://doi.org/10.1038/s41586-019-1315-z|https://go.drugbank.com/drugs/DB01405'                                                }\n",
      "    13     {'pert_type'                    }    {'trt'                                                                                                                                                                 }\n",
      "    14     {'proj_broad_id'                }    {'screen4wk_screen5wk_tbda1_kabx2:BRD-A05468928-003-01-4'                                                                                                              }\n",
      "    15     {'project_id'                   }    {'screen4wk_screen5wk_tbda1_kabx2'                                                                                                                                     }\n",
      "    16     {'rcorr'                        }    {[                                                                                                                                                              0.0538]}\n",
      "    17     {'rcorr_rank'                   }    {[                                                                                                                                                              0.3211]}\n",
      "    18     {'target_description'           }    {'GyrAB'                                                                                                                                                               }\n",
      "    19     {'target_description_long'      }    {'DNA gyrase'                                                                                                                                                          }\n",
      "    20     {'target_pathway'               }    {'DNA replication'                                                                                                                                                     }\n",
      "    21     {'target_process'               }    {'DNA replication and repair'                                                                                                                                          }\n",
      "    22     {'trt_id'                       }    {'BRD-A05468928-003-01-4:0.097500uM'                                                                                                                                   }\n",
      "    23     {'x_csv_broad_id'               }    {'BRD-A05468928-003-01-4'                                                                                                                                              }\n",
      "    24     {'x_median_total_count'         }    {[                                                                                                                                                              225508]}\n",
      "    25     {'x_subproject_id'              }    {'kabx2'                                                                                                                                                               }\n",
      "    26     {'rid'                          }    {'30S ribosome:group1'                                                                                                                                                 }\n",
      "    27     {'pcl_broad_id'                 }    {'BRD-A62336573-001-05-6|BRD-K01825150-001-16-9|BRD-K40939496-001-01-5'                                                                                                }\n",
      "    28     {'pcl_desc'                     }    {'30S ribosome'                                                                                                                                                        }\n",
      "    29     {'pcl_max_kabx_similarity_score'}    {[                                                                                                                                                              0.2390]}\n",
      "    30     {'pcl_num_pert_ids_unique'      }    {[                                                                                                                                                                   3]}\n",
      "    31     {'pcl_pert_id'                  }    {'BRD-A62336573|BRD-K01825150|BRD-K40939496'                                                                                                                           }\n",
      "    32     {'pcl_proj_broad_id'            }    {'screen4wk_screen5wk_tbda1_kabx2:BRD-A62336573-001-05-6|screen4wk_screen5wk_tbda1_kabx2:BRD-K01825150-001-16-9|screen4wk_screen5wk_tbda1_kabx2:BRD-K40939496-001-01-5'}\n",
      "    33     {'pcl_size'                     }    {[                                                                                                                                                                   4]}\n",
      "    34     {'pcl_similarity_score'         }    {[                                                                                                                                                             -0.0589]}\n",
      "    35     {'pcl_and_moa_agree'            }    {[                                                                                                                                                                   0]}\n",
      "    36     {'rank_pcl'                     }    {[                                                                                                                                                                 262]}\n",
      "    37     {'pcl_confidence_score'         }    {[                                                                                                                                                              0.0572]}\n",
      "    38     {'pcl_id'                       }    {'30S ribosome:group1'                                                                                                                                                 }\n",
      "\n"
     ]
    }
   ],
   "source": [
    "out_tbl_train_and_test_cmpd.pcl_id = out_tbl_train_and_test_cmpd.rid;\n",
    "\n",
    "disp('Size and head of out_tbl_train_and_test_cmpd tbl:');\n",
    "disp(size(out_tbl_train_and_test_cmpd));\n",
    "disp(headt(out_tbl_train_and_test_cmpd));"
   ]
  },
  {
   "cell_type": "code",
   "execution_count": 56,
   "id": "f569d796-5d20-4789-ae07-1bf0337631b3",
   "metadata": {},
   "outputs": [],
   "source": [
    "% Make gctx\n",
    "out_tbl_train_and_test_cmpd.cid_idx = grp2idx(out_tbl_train_and_test_cmpd.cid);\n",
    "out_tbl_train_and_test_cmpd.pcl_id_idx = grp2idx(out_tbl_train_and_test_cmpd.pcl_id);"
   ]
  },
  {
   "cell_type": "code",
   "execution_count": 57,
   "id": "55b5d06f-9faf-45cb-b4a2-5dbae20dae82",
   "metadata": {},
   "outputs": [],
   "source": [
    "% Find indices\n",
    "[~,ridx] = unique(out_tbl_train_and_test_cmpd.pcl_id_idx);\n",
    "rid = out_tbl_train_and_test_cmpd.pcl_id(ridx);\n",
    "[~,cidx] = unique(out_tbl_train_and_test_cmpd.cid_idx);\n",
    "cid = out_tbl_train_and_test_cmpd.cid(cidx);"
   ]
  },
  {
   "cell_type": "code",
   "execution_count": 58,
   "id": "73841b8c-73c8-4fc7-89a6-0671f36a654a",
   "metadata": {},
   "outputs": [
    {
     "name": "stdout",
     "output_type": "stream",
     "text": [
      "Size and head of final col_meta for gct files:\n",
      "       10819          25\n",
      "\n",
      "    idx               field                                                                        value                                                          \n",
      "    ___    ___________________________    ________________________________________________________________________________________________________________________\n",
      "\n",
      "     1     {'cid'                    }    {'kabx2:BRD-A05468928-003-01-4:0.097500uM'                                                                             }\n",
      "     2     {'broad_id'               }    {'BRD-A05468928-003-01-4'                                                                                              }\n",
      "     3     {'canonical_smiles'       }    {'CC1CN(CCN1)c1cc2n(cc(C(O)=O)c(=O)c2cc1F)-c1ccc(F)cc1F'                                                               }\n",
      "     4     {'frac_gr_le0_30'         }    {[                                                                                                                   0]}\n",
      "     5     {'pert_class'             }    {'fluoroquinolone'                                                                                                     }\n",
      "     6     {'pert_dose'              }    {[                                                                                                              0.0975]}\n",
      "     7     {'pert_id'                }    {'BRD-A05468928'                                                                                                       }\n",
      "     8     {'pert_id_pubchem_cid'    }    {'60021'                                                                                                               }\n",
      "     9     {'pert_idose'             }    {'0.097500uM'                                                                                                          }\n",
      "    10     {'pert_idose_tickl'       }    {'0.0975uM'                                                                                                            }\n",
      "    11     {'pert_iname'             }    {'temafloxacin'                                                                                                        }\n",
      "    12     {'pert_reference'         }    {'https://doi.org/10.1128/aac.00944-06|https://doi.org/10.1038/s41586-019-1315-z|https://go.drugbank.com/drugs/DB01405'}\n",
      "    13     {'pert_type'              }    {'trt'                                                                                                                 }\n",
      "    14     {'proj_broad_id'          }    {'screen4wk_screen5wk_tbda1_kabx2:BRD-A05468928-003-01-4'                                                              }\n",
      "    15     {'project_id'             }    {'screen4wk_screen5wk_tbda1_kabx2'                                                                                     }\n",
      "    16     {'rcorr'                  }    {[                                                                                                              0.0538]}\n",
      "    17     {'rcorr_rank'             }    {[                                                                                                              0.3211]}\n",
      "    18     {'target_description'     }    {'GyrAB'                                                                                                               }\n",
      "    19     {'target_description_long'}    {'DNA gyrase'                                                                                                          }\n",
      "    20     {'target_pathway'         }    {'DNA replication'                                                                                                     }\n",
      "    21     {'target_process'         }    {'DNA replication and repair'                                                                                          }\n",
      "    22     {'trt_id'                 }    {'BRD-A05468928-003-01-4:0.097500uM'                                                                                   }\n",
      "    23     {'x_csv_broad_id'         }    {'BRD-A05468928-003-01-4'                                                                                              }\n",
      "    24     {'x_median_total_count'   }    {[                                                                                                              225508]}\n",
      "    25     {'x_subproject_id'        }    {'kabx2'                                                                                                               }\n",
      "\n",
      "Size and head of final row_meta for gct files:\n",
      "   100     8\n",
      "\n",
      "    idx                  field                                                                                                   value                                                                                  \n",
      "    ___    _________________________________    ________________________________________________________________________________________________________________________________________________________________________\n",
      "\n",
      "     1     {'pcl_broad_id'                 }    {'BRD-A62336573-001-05-6|BRD-K01825150-001-16-9|BRD-K40939496-001-01-5'                                                                                                }\n",
      "     2     {'pcl_desc'                     }    {'30S ribosome'                                                                                                                                                        }\n",
      "     3     {'pcl_max_kabx_similarity_score'}    {[                                                                                                                                                              0.2390]}\n",
      "     4     {'pcl_num_pert_ids_unique'      }    {[                                                                                                                                                                   3]}\n",
      "     5     {'pcl_pert_id'                  }    {'BRD-A62336573|BRD-K01825150|BRD-K40939496'                                                                                                                           }\n",
      "     6     {'pcl_proj_broad_id'            }    {'screen4wk_screen5wk_tbda1_kabx2:BRD-A62336573-001-05-6|screen4wk_screen5wk_tbda1_kabx2:BRD-K01825150-001-16-9|screen4wk_screen5wk_tbda1_kabx2:BRD-K40939496-001-01-5'}\n",
      "     7     {'pcl_size'                     }    {[                                                                                                                                                                   4]}\n",
      "     8     {'pcl_id'                       }    {'30S ribosome:group1'                                                                                                                                                 }\n",
      "\n"
     ]
    }
   ],
   "source": [
    "% Create metadata\n",
    "\n",
    "col_names = out_tbl_train_and_test_cmpd.Properties.VariableNames;\n",
    "\n",
    "% Find all column names that do not contain \"pcl\"\n",
    "non_pcl_col_names = col_names(~contains(col_names, 'pcl') & ~contains(col_names, {'rid','cid_idx'}));\n",
    "pcl_col_names = col_names(contains(col_names, 'pcl') & ~contains(col_names, {'pcl_similarity_score','pcl_and_moa_agree','pcl_id_idx','rank_pcl','pcl_confidence_score'}));\n",
    "\n",
    "col_meta = out_tbl_train_and_test_cmpd(cidx, non_pcl_col_names);\n",
    "\n",
    "disp('Size and head of final col_meta for gct files:');\n",
    "disp(size(col_meta));\n",
    "disp(headt(col_meta));\n",
    "\n",
    "row_meta = out_tbl_train_and_test_cmpd(ridx, pcl_col_names);\n",
    "\n",
    "disp('Size and head of final row_meta for gct files:');\n",
    "disp(size(row_meta));\n",
    "disp(headt(row_meta));"
   ]
  },
  {
   "cell_type": "code",
   "execution_count": 59,
   "id": "d3f39390-6070-4360-b3fe-19835733518e",
   "metadata": {},
   "outputs": [],
   "source": [
    "% Create an empty matrix\n",
    "mat = nan(numel(rid),numel(cid));\n",
    "ind = sub2ind(size(mat),out_tbl_train_and_test_cmpd.pcl_id_idx,out_tbl_train_and_test_cmpd.cid_idx);"
   ]
  },
  {
   "cell_type": "code",
   "execution_count": 60,
   "id": "8bd31fdc-5542-4a75-ae50-341f20133504",
   "metadata": {},
   "outputs": [],
   "source": [
    "ds = mkgctstruct(mat,'rid',rid','cid',cid);\n",
    "ds = annotate_ds(ds,table2struct(col_meta),'dim','column','keyfield','cid');\n",
    "ds = annotate_ds(ds,table2struct(row_meta),'dim','row','keyfield','pcl_id');"
   ]
  },
  {
   "cell_type": "code",
   "execution_count": 61,
   "id": "bc60e7d4-169e-43ae-967a-bdaacbdd2192",
   "metadata": {},
   "outputs": [
    {
     "name": "stdout",
     "output_type": "stream",
     "text": [
      "pcl_confidence_score\n",
      "Saving HDF5 dataset to: ../results/pcls_spectral_clustering_thrsh_rank_le20_k_med_gap_den/pcl_confidence_score_n10819x100.gctx...\n",
      "Disabling compression.\n",
      "Setting chunk size to: 100x2621\n",
      "done [1.35s].\n",
      "\n",
      "ans =\n",
      "\n",
      "    '../results/pcls_spectral_clustering_thrsh_rank_le20_k_med_gap_den/pcl_confidence_score_n10819x100.gctx'\n",
      "\n"
     ]
    }
   ],
   "source": [
    "% Create gcts with various data\n",
    "fields = {'pcl_confidence_score'};\n",
    "\n",
    "for ii = 1:numel(fields)\n",
    "    disp(fields{ii})\n",
    "    ds_tmp = ds;\n",
    "    ds_tmp.mat(ind) = out_tbl_train_and_test_cmpd.(fields{ii});\n",
    "\n",
    "    % Verify\n",
    "    rid1 = ds_tmp.rid(2);\n",
    "    cid1 = ds_tmp.cid(1);\n",
    "    corr1 = ds_tmp.mat(2,1);\n",
    "    idx = ismember(out_tbl_train_and_test_cmpd.cid,cid1)&ismember(out_tbl_train_and_test_cmpd.pcl_id,rid1);\n",
    "    assert(sum(idx)>0,'Rows or columns of the gct structure do not match');\n",
    "    assert(out_tbl_train_and_test_cmpd.(fields{ii})(idx)==corr1,'Value in the matrix do not match the one in the table');\n",
    "    \n",
    "    %ds_tmp = ds_slice(ds_tmp, 'rid', s.rid, 'cid', s.cid);\n",
    "    \n",
    "    % Ensure order of dsCGI profiles (cid) and PCLs (rid) are the same as input PCL similarity score gct\n",
    "    assert(isequal(ds_tmp.cid, s.cid),'Columns are not sorted identically')\n",
    "    assert(isequal(ds_tmp.rid, s.rid(1:i)),'Rows are not sorted identically') % i used here from for-loop iterating over PCLs for testing purposes (if smaller i than num_pcls was used)\n",
    "    \n",
    "    mkgctx(fullfile(outdir,[fields{ii},'.gctx']), ds_tmp)\n",
    "    %mkgct(fullfile(outdir,[fields{ii},'.gct']), ds_tmp, 'precision', 8)\n",
    "    \n",
    "end"
   ]
  }
 ],
 "metadata": {
  "kernelspec": {
   "display_name": "MATLAB",
   "language": "matlab",
   "name": "imatlab"
  },
  "language_info": {
   "codemirror_mode": "octave",
   "file_extension": ".m",
   "mimetype": "text/x-matlab",
   "name": "matlab",
   "nbconvert_exporter": "imatlab._exporter.MatlabExporter",
   "pygments_lexer": "matlab",
   "version": "9.8.0.1323502 (R2020a)"
  }
 },
 "nbformat": 4,
 "nbformat_minor": 5
}
